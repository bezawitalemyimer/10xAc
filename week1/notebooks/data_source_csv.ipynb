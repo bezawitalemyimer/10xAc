{
  "nbformat": 4,
  "nbformat_minor": 0,
  "metadata": {
    "colab": {
      "name": "data_source csv.ipynb",
      "provenance": [],
      "collapsed_sections": [],
      "mount_file_id": "1tAsdKZTzj45etXM7vOYvuZXlEJ-9OrD6",
      "authorship_tag": "ABX9TyMtiqYPUan9uffoW8TUz0DS",
      "include_colab_link": true
    },
    "kernelspec": {
      "name": "python3",
      "display_name": "Python 3"
    },
    "language_info": {
      "name": "python"
    }
  },
  "cells": [
    {
      "cell_type": "markdown",
      "metadata": {
        "id": "view-in-github",
        "colab_type": "text"
      },
      "source": [
        "<a href=\"https://colab.research.google.com/github/bezawitalemyimer/10xAc/blob/main/week1/notebooks/data_source_csv.ipynb\" target=\"_parent\"><img src=\"https://colab.research.google.com/assets/colab-badge.svg\" alt=\"Open In Colab\"/></a>"
      ]
    },
    {
      "cell_type": "code",
      "metadata": {
        "colab": {
          "base_uri": "https://localhost:8080/"
        },
        "id": "vM8ESI0WcCVq",
        "outputId": "d9f0953e-f460-411d-b26a-61d619a510f4"
      },
      "source": [
        "from google.colab import drive\n",
        "drive.mount(\"/content/drive\")"
      ],
      "execution_count": null,
      "outputs": [
        {
          "output_type": "stream",
          "text": [
            "Drive already mounted at /content/drive; to attempt to forcibly remount, call drive.mount(\"/content/drive\", force_remount=True).\n"
          ],
          "name": "stdout"
        }
      ]
    },
    {
      "cell_type": "markdown",
      "metadata": {
        "id": "pbIVZg4YT3qS"
      },
      "source": [
        "Task 1 - User Overview analysis"
      ]
    },
    {
      "cell_type": "code",
      "metadata": {
        "id": "2Zr2jZb2SUFx"
      },
      "source": [
        "#imports \n",
        "import pandas as pd      # data manipulation transformation \n",
        "import numpy as np       # numerical data analysis \n",
        "import matplotlib.pyplot as plt\n",
        "import seaborn as sns    # data visualization\n",
        "%matplotlib inline \n",
        "%config InlineBackend.figure_format = 'retina' #higher resolution\n",
        "# importing the style package\n",
        "from matplotlib import style\n",
        "# using the style for the plot\n",
        "plt.style.use('ggplot')"
      ],
      "execution_count": null,
      "outputs": []
    },
    {
      "cell_type": "code",
      "metadata": {
        "colab": {
          "base_uri": "https://localhost:8080/",
          "height": 513
        },
        "id": "m6UwJKjUdMEu",
        "outputId": "1eaec694-2fa5-4aec-ed69-51318e01bd8b"
      },
      "source": [
        "import warnings\n",
        "warnings.filterwarnings('ignore')\n",
        "path =\"/content/drive/MyDrive/week 1 colab /Week1_challenge_data_source.csv\"\n",
        "data = pd.read_csv(path)\n",
        " #data set is load and stored in pandas data frame\n",
        "data.head()"
      ],
      "execution_count": 57,
      "outputs": [
        {
          "output_type": "execute_result",
          "data": {
            "text/html": [
              "<div>\n",
              "<style scoped>\n",
              "    .dataframe tbody tr th:only-of-type {\n",
              "        vertical-align: middle;\n",
              "    }\n",
              "\n",
              "    .dataframe tbody tr th {\n",
              "        vertical-align: top;\n",
              "    }\n",
              "\n",
              "    .dataframe thead th {\n",
              "        text-align: right;\n",
              "    }\n",
              "</style>\n",
              "<table border=\"1\" class=\"dataframe\">\n",
              "  <thead>\n",
              "    <tr style=\"text-align: right;\">\n",
              "      <th></th>\n",
              "      <th>Bearer Id</th>\n",
              "      <th>Start</th>\n",
              "      <th>Start ms</th>\n",
              "      <th>End</th>\n",
              "      <th>End ms</th>\n",
              "      <th>Dur. (ms)</th>\n",
              "      <th>IMSI</th>\n",
              "      <th>MSISDN/Number</th>\n",
              "      <th>IMEI</th>\n",
              "      <th>Last Location Name</th>\n",
              "      <th>Avg RTT DL (ms)</th>\n",
              "      <th>Avg RTT UL (ms)</th>\n",
              "      <th>Avg Bearer TP DL (kbps)</th>\n",
              "      <th>Avg Bearer TP UL (kbps)</th>\n",
              "      <th>TCP DL Retrans. Vol (Bytes)</th>\n",
              "      <th>TCP UL Retrans. Vol (Bytes)</th>\n",
              "      <th>DL TP &lt; 50 Kbps (%)</th>\n",
              "      <th>50 Kbps &lt; DL TP &lt; 250 Kbps (%)</th>\n",
              "      <th>250 Kbps &lt; DL TP &lt; 1 Mbps (%)</th>\n",
              "      <th>DL TP &gt; 1 Mbps (%)</th>\n",
              "      <th>UL TP &lt; 10 Kbps (%)</th>\n",
              "      <th>10 Kbps &lt; UL TP &lt; 50 Kbps (%)</th>\n",
              "      <th>50 Kbps &lt; UL TP &lt; 300 Kbps (%)</th>\n",
              "      <th>UL TP &gt; 300 Kbps (%)</th>\n",
              "      <th>HTTP DL (Bytes)</th>\n",
              "      <th>HTTP UL (Bytes)</th>\n",
              "      <th>Activity Duration DL (ms)</th>\n",
              "      <th>Activity Duration UL (ms)</th>\n",
              "      <th>Dur. (ms).1</th>\n",
              "      <th>Handset Manufacturer</th>\n",
              "      <th>Handset Type</th>\n",
              "      <th>Nb of sec with 125000B &lt; Vol DL</th>\n",
              "      <th>Nb of sec with 1250B &lt; Vol UL &lt; 6250B</th>\n",
              "      <th>Nb of sec with 31250B &lt; Vol DL &lt; 125000B</th>\n",
              "      <th>Nb of sec with 37500B &lt; Vol UL</th>\n",
              "      <th>Nb of sec with 6250B &lt; Vol DL &lt; 31250B</th>\n",
              "      <th>Nb of sec with 6250B &lt; Vol UL &lt; 37500B</th>\n",
              "      <th>Nb of sec with Vol DL &lt; 6250B</th>\n",
              "      <th>Nb of sec with Vol UL &lt; 1250B</th>\n",
              "      <th>Social Media DL (Bytes)</th>\n",
              "      <th>Social Media UL (Bytes)</th>\n",
              "      <th>Google DL (Bytes)</th>\n",
              "      <th>Google UL (Bytes)</th>\n",
              "      <th>Email DL (Bytes)</th>\n",
              "      <th>Email UL (Bytes)</th>\n",
              "      <th>Youtube DL (Bytes)</th>\n",
              "      <th>Youtube UL (Bytes)</th>\n",
              "      <th>Netflix DL (Bytes)</th>\n",
              "      <th>Netflix UL (Bytes)</th>\n",
              "      <th>Gaming DL (Bytes)</th>\n",
              "      <th>Gaming UL (Bytes)</th>\n",
              "      <th>Other DL (Bytes)</th>\n",
              "      <th>Other UL (Bytes)</th>\n",
              "      <th>Total UL (Bytes)</th>\n",
              "      <th>Total DL (Bytes)</th>\n",
              "    </tr>\n",
              "  </thead>\n",
              "  <tbody>\n",
              "    <tr>\n",
              "      <th>0</th>\n",
              "      <td>1.311448e+19</td>\n",
              "      <td>4/4/2019 12:01</td>\n",
              "      <td>770.0</td>\n",
              "      <td>4/25/2019 14:35</td>\n",
              "      <td>662.0</td>\n",
              "      <td>1823652.0</td>\n",
              "      <td>2.082014e+14</td>\n",
              "      <td>3.366496e+10</td>\n",
              "      <td>3.552121e+13</td>\n",
              "      <td>9164566995485190</td>\n",
              "      <td>42.0</td>\n",
              "      <td>5.0</td>\n",
              "      <td>23.0</td>\n",
              "      <td>44.0</td>\n",
              "      <td>NaN</td>\n",
              "      <td>NaN</td>\n",
              "      <td>100.0</td>\n",
              "      <td>0.0</td>\n",
              "      <td>0.0</td>\n",
              "      <td>0.0</td>\n",
              "      <td>100.0</td>\n",
              "      <td>0.0</td>\n",
              "      <td>0.0</td>\n",
              "      <td>0.0</td>\n",
              "      <td>NaN</td>\n",
              "      <td>NaN</td>\n",
              "      <td>37624.0</td>\n",
              "      <td>38787.0</td>\n",
              "      <td>1.823653e+09</td>\n",
              "      <td>Samsung</td>\n",
              "      <td>Samsung Galaxy A5 Sm-A520F</td>\n",
              "      <td>NaN</td>\n",
              "      <td>NaN</td>\n",
              "      <td>NaN</td>\n",
              "      <td>NaN</td>\n",
              "      <td>NaN</td>\n",
              "      <td>NaN</td>\n",
              "      <td>213.0</td>\n",
              "      <td>214.0</td>\n",
              "      <td>1545765.0</td>\n",
              "      <td>24420.0</td>\n",
              "      <td>1634479.0</td>\n",
              "      <td>1271433.0</td>\n",
              "      <td>3563542.0</td>\n",
              "      <td>137762.0</td>\n",
              "      <td>15854611.0</td>\n",
              "      <td>2501332.0</td>\n",
              "      <td>8198936.0</td>\n",
              "      <td>9656251.0</td>\n",
              "      <td>278082303.0</td>\n",
              "      <td>14344150.0</td>\n",
              "      <td>171744450.0</td>\n",
              "      <td>8814393.0</td>\n",
              "      <td>36749741.0</td>\n",
              "      <td>308879636.0</td>\n",
              "    </tr>\n",
              "    <tr>\n",
              "      <th>1</th>\n",
              "      <td>1.311448e+19</td>\n",
              "      <td>4/9/2019 13:04</td>\n",
              "      <td>235.0</td>\n",
              "      <td>4/25/2019 8:15</td>\n",
              "      <td>606.0</td>\n",
              "      <td>1365104.0</td>\n",
              "      <td>2.082019e+14</td>\n",
              "      <td>3.368185e+10</td>\n",
              "      <td>3.579401e+13</td>\n",
              "      <td>L77566A</td>\n",
              "      <td>65.0</td>\n",
              "      <td>5.0</td>\n",
              "      <td>16.0</td>\n",
              "      <td>26.0</td>\n",
              "      <td>NaN</td>\n",
              "      <td>NaN</td>\n",
              "      <td>100.0</td>\n",
              "      <td>0.0</td>\n",
              "      <td>0.0</td>\n",
              "      <td>0.0</td>\n",
              "      <td>100.0</td>\n",
              "      <td>0.0</td>\n",
              "      <td>0.0</td>\n",
              "      <td>0.0</td>\n",
              "      <td>NaN</td>\n",
              "      <td>NaN</td>\n",
              "      <td>168.0</td>\n",
              "      <td>3560.0</td>\n",
              "      <td>1.365104e+09</td>\n",
              "      <td>Samsung</td>\n",
              "      <td>Samsung Galaxy J5 (Sm-J530)</td>\n",
              "      <td>NaN</td>\n",
              "      <td>NaN</td>\n",
              "      <td>NaN</td>\n",
              "      <td>NaN</td>\n",
              "      <td>NaN</td>\n",
              "      <td>NaN</td>\n",
              "      <td>971.0</td>\n",
              "      <td>1022.0</td>\n",
              "      <td>1926113.0</td>\n",
              "      <td>7165.0</td>\n",
              "      <td>3493924.0</td>\n",
              "      <td>920172.0</td>\n",
              "      <td>629046.0</td>\n",
              "      <td>308339.0</td>\n",
              "      <td>20247395.0</td>\n",
              "      <td>19111729.0</td>\n",
              "      <td>18338413.0</td>\n",
              "      <td>17227132.0</td>\n",
              "      <td>608750074.0</td>\n",
              "      <td>1170709.0</td>\n",
              "      <td>526904238.0</td>\n",
              "      <td>15055145.0</td>\n",
              "      <td>53800391.0</td>\n",
              "      <td>653384965.0</td>\n",
              "    </tr>\n",
              "    <tr>\n",
              "      <th>2</th>\n",
              "      <td>1.311448e+19</td>\n",
              "      <td>4/9/2019 17:42</td>\n",
              "      <td>1.0</td>\n",
              "      <td>4/25/2019 11:58</td>\n",
              "      <td>652.0</td>\n",
              "      <td>1361762.0</td>\n",
              "      <td>2.082003e+14</td>\n",
              "      <td>3.376063e+10</td>\n",
              "      <td>3.528151e+13</td>\n",
              "      <td>D42335A</td>\n",
              "      <td>NaN</td>\n",
              "      <td>NaN</td>\n",
              "      <td>6.0</td>\n",
              "      <td>9.0</td>\n",
              "      <td>NaN</td>\n",
              "      <td>NaN</td>\n",
              "      <td>100.0</td>\n",
              "      <td>0.0</td>\n",
              "      <td>0.0</td>\n",
              "      <td>0.0</td>\n",
              "      <td>100.0</td>\n",
              "      <td>0.0</td>\n",
              "      <td>0.0</td>\n",
              "      <td>0.0</td>\n",
              "      <td>NaN</td>\n",
              "      <td>NaN</td>\n",
              "      <td>0.0</td>\n",
              "      <td>0.0</td>\n",
              "      <td>1.361763e+09</td>\n",
              "      <td>Samsung</td>\n",
              "      <td>Samsung Galaxy A8 (2018)</td>\n",
              "      <td>NaN</td>\n",
              "      <td>NaN</td>\n",
              "      <td>NaN</td>\n",
              "      <td>NaN</td>\n",
              "      <td>NaN</td>\n",
              "      <td>NaN</td>\n",
              "      <td>751.0</td>\n",
              "      <td>695.0</td>\n",
              "      <td>1684053.0</td>\n",
              "      <td>42224.0</td>\n",
              "      <td>8535055.0</td>\n",
              "      <td>1694064.0</td>\n",
              "      <td>2690151.0</td>\n",
              "      <td>672973.0</td>\n",
              "      <td>19725661.0</td>\n",
              "      <td>14699576.0</td>\n",
              "      <td>17587794.0</td>\n",
              "      <td>6163408.0</td>\n",
              "      <td>229584621.0</td>\n",
              "      <td>395630.0</td>\n",
              "      <td>410692588.0</td>\n",
              "      <td>4215763.0</td>\n",
              "      <td>27883638.0</td>\n",
              "      <td>279807335.0</td>\n",
              "    </tr>\n",
              "    <tr>\n",
              "      <th>3</th>\n",
              "      <td>1.311448e+19</td>\n",
              "      <td>4/10/2019 0:31</td>\n",
              "      <td>486.0</td>\n",
              "      <td>4/25/2019 7:36</td>\n",
              "      <td>171.0</td>\n",
              "      <td>1321509.0</td>\n",
              "      <td>2.082014e+14</td>\n",
              "      <td>3.375034e+10</td>\n",
              "      <td>3.535661e+13</td>\n",
              "      <td>T21824A</td>\n",
              "      <td>NaN</td>\n",
              "      <td>NaN</td>\n",
              "      <td>44.0</td>\n",
              "      <td>44.0</td>\n",
              "      <td>NaN</td>\n",
              "      <td>NaN</td>\n",
              "      <td>100.0</td>\n",
              "      <td>0.0</td>\n",
              "      <td>0.0</td>\n",
              "      <td>0.0</td>\n",
              "      <td>100.0</td>\n",
              "      <td>0.0</td>\n",
              "      <td>0.0</td>\n",
              "      <td>0.0</td>\n",
              "      <td>NaN</td>\n",
              "      <td>NaN</td>\n",
              "      <td>3330.0</td>\n",
              "      <td>37882.0</td>\n",
              "      <td>1.321510e+09</td>\n",
              "      <td>undefined</td>\n",
              "      <td>undefined</td>\n",
              "      <td>NaN</td>\n",
              "      <td>NaN</td>\n",
              "      <td>NaN</td>\n",
              "      <td>NaN</td>\n",
              "      <td>NaN</td>\n",
              "      <td>NaN</td>\n",
              "      <td>17.0</td>\n",
              "      <td>207.0</td>\n",
              "      <td>644121.0</td>\n",
              "      <td>13372.0</td>\n",
              "      <td>9023734.0</td>\n",
              "      <td>2788027.0</td>\n",
              "      <td>1439754.0</td>\n",
              "      <td>631229.0</td>\n",
              "      <td>21388122.0</td>\n",
              "      <td>15146643.0</td>\n",
              "      <td>13994646.0</td>\n",
              "      <td>1097942.0</td>\n",
              "      <td>799538153.0</td>\n",
              "      <td>10849722.0</td>\n",
              "      <td>749039933.0</td>\n",
              "      <td>12797283.0</td>\n",
              "      <td>43324218.0</td>\n",
              "      <td>846028530.0</td>\n",
              "    </tr>\n",
              "    <tr>\n",
              "      <th>4</th>\n",
              "      <td>1.311448e+19</td>\n",
              "      <td>4/12/2019 20:10</td>\n",
              "      <td>565.0</td>\n",
              "      <td>4/25/2019 10:40</td>\n",
              "      <td>954.0</td>\n",
              "      <td>1089009.0</td>\n",
              "      <td>2.082014e+14</td>\n",
              "      <td>3.369980e+10</td>\n",
              "      <td>3.540701e+13</td>\n",
              "      <td>D88865A</td>\n",
              "      <td>NaN</td>\n",
              "      <td>NaN</td>\n",
              "      <td>6.0</td>\n",
              "      <td>9.0</td>\n",
              "      <td>NaN</td>\n",
              "      <td>NaN</td>\n",
              "      <td>100.0</td>\n",
              "      <td>0.0</td>\n",
              "      <td>0.0</td>\n",
              "      <td>0.0</td>\n",
              "      <td>100.0</td>\n",
              "      <td>0.0</td>\n",
              "      <td>0.0</td>\n",
              "      <td>0.0</td>\n",
              "      <td>NaN</td>\n",
              "      <td>NaN</td>\n",
              "      <td>0.0</td>\n",
              "      <td>0.0</td>\n",
              "      <td>1.089009e+09</td>\n",
              "      <td>Samsung</td>\n",
              "      <td>Samsung Sm-G390F</td>\n",
              "      <td>NaN</td>\n",
              "      <td>NaN</td>\n",
              "      <td>NaN</td>\n",
              "      <td>NaN</td>\n",
              "      <td>NaN</td>\n",
              "      <td>NaN</td>\n",
              "      <td>607.0</td>\n",
              "      <td>604.0</td>\n",
              "      <td>862600.0</td>\n",
              "      <td>50188.0</td>\n",
              "      <td>6248284.0</td>\n",
              "      <td>1500559.0</td>\n",
              "      <td>1936496.0</td>\n",
              "      <td>173853.0</td>\n",
              "      <td>15259380.0</td>\n",
              "      <td>18962873.0</td>\n",
              "      <td>17124581.0</td>\n",
              "      <td>415218.0</td>\n",
              "      <td>527707248.0</td>\n",
              "      <td>3529801.0</td>\n",
              "      <td>550709500.0</td>\n",
              "      <td>13910322.0</td>\n",
              "      <td>38542814.0</td>\n",
              "      <td>569138589.0</td>\n",
              "    </tr>\n",
              "  </tbody>\n",
              "</table>\n",
              "</div>"
            ],
            "text/plain": [
              "      Bearer Id            Start  ...  Total UL (Bytes) Total DL (Bytes)\n",
              "0  1.311448e+19   4/4/2019 12:01  ...        36749741.0      308879636.0\n",
              "1  1.311448e+19   4/9/2019 13:04  ...        53800391.0      653384965.0\n",
              "2  1.311448e+19   4/9/2019 17:42  ...        27883638.0      279807335.0\n",
              "3  1.311448e+19   4/10/2019 0:31  ...        43324218.0      846028530.0\n",
              "4  1.311448e+19  4/12/2019 20:10  ...        38542814.0      569138589.0\n",
              "\n",
              "[5 rows x 55 columns]"
            ]
          },
          "metadata": {
            "tags": []
          },
          "execution_count": 57
        }
      ]
    },
    {
      "cell_type": "code",
      "metadata": {
        "colab": {
          "base_uri": "https://localhost:8080/"
        },
        "id": "7nXNrLVUiOtN",
        "outputId": "a4908a85-ec03-4f4c-fc85-e1e14cddc9fa"
      },
      "source": [
        "data.describe"
      ],
      "execution_count": 58,
      "outputs": [
        {
          "output_type": "execute_result",
          "data": {
            "text/plain": [
              "<bound method NDFrame.describe of            Bearer Id            Start  ...  Total UL (Bytes) Total DL (Bytes)\n",
              "0       1.311448e+19   4/4/2019 12:01  ...        36749741.0      308879636.0\n",
              "1       1.311448e+19   4/9/2019 13:04  ...        53800391.0      653384965.0\n",
              "2       1.311448e+19   4/9/2019 17:42  ...        27883638.0      279807335.0\n",
              "3       1.311448e+19   4/10/2019 0:31  ...        43324218.0      846028530.0\n",
              "4       1.311448e+19  4/12/2019 20:10  ...        38542814.0      569138589.0\n",
              "...              ...              ...  ...               ...              ...\n",
              "149996  7.277826e+18   4/29/2019 7:28  ...        57628851.0      574175259.0\n",
              "149997  7.349883e+18   4/29/2019 7:28  ...        39135081.0      666648844.0\n",
              "149998  1.311448e+19   4/29/2019 7:28  ...        34912224.0      592786405.0\n",
              "149999  1.311448e+19   4/29/2019 7:28  ...        29626096.0      371895920.0\n",
              "150000           NaN              NaN  ...               NaN              NaN\n",
              "\n",
              "[150001 rows x 55 columns]>"
            ]
          },
          "metadata": {
            "tags": []
          },
          "execution_count": 58
        }
      ]
    },
    {
      "cell_type": "markdown",
      "metadata": {
        "id": "PDlnwMSRgxEL"
      },
      "source": [
        "Explore what has been stored in it. The column names, how many data points, number of colum, data shape"
      ]
    },
    {
      "cell_type": "code",
      "metadata": {
        "colab": {
          "base_uri": "https://localhost:8080/"
        },
        "id": "kua2Q0hzVNaC",
        "outputId": "19ffc79c-dcf3-4a46-8ee2-2c652f31acd8"
      },
      "source": [
        "data.info()"
      ],
      "execution_count": 59,
      "outputs": [
        {
          "output_type": "stream",
          "text": [
            "<class 'pandas.core.frame.DataFrame'>\n",
            "RangeIndex: 150001 entries, 0 to 150000\n",
            "Data columns (total 55 columns):\n",
            " #   Column                                    Non-Null Count   Dtype  \n",
            "---  ------                                    --------------   -----  \n",
            " 0   Bearer Id                                 149010 non-null  float64\n",
            " 1   Start                                     150000 non-null  object \n",
            " 2   Start ms                                  150000 non-null  float64\n",
            " 3   End                                       150000 non-null  object \n",
            " 4   End ms                                    150000 non-null  float64\n",
            " 5   Dur. (ms)                                 150000 non-null  float64\n",
            " 6   IMSI                                      149431 non-null  float64\n",
            " 7   MSISDN/Number                             148935 non-null  float64\n",
            " 8   IMEI                                      149429 non-null  float64\n",
            " 9   Last Location Name                        148848 non-null  object \n",
            " 10  Avg RTT DL (ms)                           122172 non-null  float64\n",
            " 11  Avg RTT UL (ms)                           122189 non-null  float64\n",
            " 12  Avg Bearer TP DL (kbps)                   150000 non-null  float64\n",
            " 13  Avg Bearer TP UL (kbps)                   150000 non-null  float64\n",
            " 14  TCP DL Retrans. Vol (Bytes)               61855 non-null   float64\n",
            " 15  TCP UL Retrans. Vol (Bytes)               53352 non-null   float64\n",
            " 16  DL TP < 50 Kbps (%)                       149247 non-null  float64\n",
            " 17  50 Kbps < DL TP < 250 Kbps (%)            149247 non-null  float64\n",
            " 18  250 Kbps < DL TP < 1 Mbps (%)             149247 non-null  float64\n",
            " 19  DL TP > 1 Mbps (%)                        149247 non-null  float64\n",
            " 20  UL TP < 10 Kbps (%)                       149209 non-null  float64\n",
            " 21  10 Kbps < UL TP < 50 Kbps (%)             149209 non-null  float64\n",
            " 22  50 Kbps < UL TP < 300 Kbps (%)            149209 non-null  float64\n",
            " 23  UL TP > 300 Kbps (%)                      149209 non-null  float64\n",
            " 24  HTTP DL (Bytes)                           68527 non-null   float64\n",
            " 25  HTTP UL (Bytes)                           68191 non-null   float64\n",
            " 26  Activity Duration DL (ms)                 150000 non-null  float64\n",
            " 27  Activity Duration UL (ms)                 150000 non-null  float64\n",
            " 28  Dur. (ms).1                               150000 non-null  float64\n",
            " 29  Handset Manufacturer                      149429 non-null  object \n",
            " 30  Handset Type                              149429 non-null  object \n",
            " 31  Nb of sec with 125000B < Vol DL           52463 non-null   float64\n",
            " 32  Nb of sec with 1250B < Vol UL < 6250B     57107 non-null   float64\n",
            " 33  Nb of sec with 31250B < Vol DL < 125000B  56415 non-null   float64\n",
            " 34  Nb of sec with 37500B < Vol UL            19747 non-null   float64\n",
            " 35  Nb of sec with 6250B < Vol DL < 31250B    61684 non-null   float64\n",
            " 36  Nb of sec with 6250B < Vol UL < 37500B    38158 non-null   float64\n",
            " 37  Nb of sec with Vol DL < 6250B             149246 non-null  float64\n",
            " 38  Nb of sec with Vol UL < 1250B             149208 non-null  float64\n",
            " 39  Social Media DL (Bytes)                   150001 non-null  float64\n",
            " 40  Social Media UL (Bytes)                   150001 non-null  float64\n",
            " 41  Google DL (Bytes)                         150001 non-null  float64\n",
            " 42  Google UL (Bytes)                         150001 non-null  float64\n",
            " 43  Email DL (Bytes)                          150001 non-null  float64\n",
            " 44  Email UL (Bytes)                          150001 non-null  float64\n",
            " 45  Youtube DL (Bytes)                        150001 non-null  float64\n",
            " 46  Youtube UL (Bytes)                        150001 non-null  float64\n",
            " 47  Netflix DL (Bytes)                        150001 non-null  float64\n",
            " 48  Netflix UL (Bytes)                        150001 non-null  float64\n",
            " 49  Gaming DL (Bytes)                         150001 non-null  float64\n",
            " 50  Gaming UL (Bytes)                         150001 non-null  float64\n",
            " 51  Other DL (Bytes)                          150001 non-null  float64\n",
            " 52  Other UL (Bytes)                          150001 non-null  float64\n",
            " 53  Total UL (Bytes)                          150000 non-null  float64\n",
            " 54  Total DL (Bytes)                          150000 non-null  float64\n",
            "dtypes: float64(50), object(5)\n",
            "memory usage: 62.9+ MB\n"
          ],
          "name": "stdout"
        }
      ]
    },
    {
      "cell_type": "code",
      "metadata": {
        "colab": {
          "base_uri": "https://localhost:8080/"
        },
        "id": "qQg82IlBg77m",
        "outputId": "4adb495b-1617-4899-b16d-1cab044f5761"
      },
      "source": [
        "# column names\n",
        "data.columns.tolist()"
      ],
      "execution_count": 60,
      "outputs": [
        {
          "output_type": "execute_result",
          "data": {
            "text/plain": [
              "['Bearer Id',\n",
              " 'Start',\n",
              " 'Start ms',\n",
              " 'End',\n",
              " 'End ms',\n",
              " 'Dur. (ms)',\n",
              " 'IMSI',\n",
              " 'MSISDN/Number',\n",
              " 'IMEI',\n",
              " 'Last Location Name',\n",
              " 'Avg RTT DL (ms)',\n",
              " 'Avg RTT UL (ms)',\n",
              " 'Avg Bearer TP DL (kbps)',\n",
              " 'Avg Bearer TP UL (kbps)',\n",
              " 'TCP DL Retrans. Vol (Bytes)',\n",
              " 'TCP UL Retrans. Vol (Bytes)',\n",
              " 'DL TP < 50 Kbps (%)',\n",
              " '50 Kbps < DL TP < 250 Kbps (%)',\n",
              " '250 Kbps < DL TP < 1 Mbps (%)',\n",
              " 'DL TP > 1 Mbps (%)',\n",
              " 'UL TP < 10 Kbps (%)',\n",
              " '10 Kbps < UL TP < 50 Kbps (%)',\n",
              " '50 Kbps < UL TP < 300 Kbps (%)',\n",
              " 'UL TP > 300 Kbps (%)',\n",
              " 'HTTP DL (Bytes)',\n",
              " 'HTTP UL (Bytes)',\n",
              " 'Activity Duration DL (ms)',\n",
              " 'Activity Duration UL (ms)',\n",
              " 'Dur. (ms).1',\n",
              " 'Handset Manufacturer',\n",
              " 'Handset Type',\n",
              " 'Nb of sec with 125000B < Vol DL',\n",
              " 'Nb of sec with 1250B < Vol UL < 6250B',\n",
              " 'Nb of sec with 31250B < Vol DL < 125000B',\n",
              " 'Nb of sec with 37500B < Vol UL',\n",
              " 'Nb of sec with 6250B < Vol DL < 31250B',\n",
              " 'Nb of sec with 6250B < Vol UL < 37500B',\n",
              " 'Nb of sec with Vol DL < 6250B',\n",
              " 'Nb of sec with Vol UL < 1250B',\n",
              " 'Social Media DL (Bytes)',\n",
              " 'Social Media UL (Bytes)',\n",
              " 'Google DL (Bytes)',\n",
              " 'Google UL (Bytes)',\n",
              " 'Email DL (Bytes)',\n",
              " 'Email UL (Bytes)',\n",
              " 'Youtube DL (Bytes)',\n",
              " 'Youtube UL (Bytes)',\n",
              " 'Netflix DL (Bytes)',\n",
              " 'Netflix UL (Bytes)',\n",
              " 'Gaming DL (Bytes)',\n",
              " 'Gaming UL (Bytes)',\n",
              " 'Other DL (Bytes)',\n",
              " 'Other UL (Bytes)',\n",
              " 'Total UL (Bytes)',\n",
              " 'Total DL (Bytes)']"
            ]
          },
          "metadata": {
            "tags": []
          },
          "execution_count": 60
        }
      ]
    },
    {
      "cell_type": "code",
      "metadata": {
        "colab": {
          "base_uri": "https://localhost:8080/"
        },
        "id": "6hD-SPp6imVj",
        "outputId": "33dab666-cea1-4808-ca3a-b34f8aa38b70"
      },
      "source": [
        "# number of data points (row ,column)\n",
        "data.shape "
      ],
      "execution_count": 61,
      "outputs": [
        {
          "output_type": "execute_result",
          "data": {
            "text/plain": [
              "(150001, 55)"
            ]
          },
          "metadata": {
            "tags": []
          },
          "execution_count": 61
        }
      ]
    },
    {
      "cell_type": "code",
      "metadata": {
        "colab": {
          "base_uri": "https://localhost:8080/"
        },
        "id": "v63qkIemlDs8",
        "outputId": "758b1505-38eb-454b-ab54-7652fd19db30"
      },
      "source": [
        "#data types\n",
        "data.dtypes"
      ],
      "execution_count": 62,
      "outputs": [
        {
          "output_type": "execute_result",
          "data": {
            "text/plain": [
              "Bearer Id                                   float64\n",
              "Start                                        object\n",
              "Start ms                                    float64\n",
              "End                                          object\n",
              "End ms                                      float64\n",
              "Dur. (ms)                                   float64\n",
              "IMSI                                        float64\n",
              "MSISDN/Number                               float64\n",
              "IMEI                                        float64\n",
              "Last Location Name                           object\n",
              "Avg RTT DL (ms)                             float64\n",
              "Avg RTT UL (ms)                             float64\n",
              "Avg Bearer TP DL (kbps)                     float64\n",
              "Avg Bearer TP UL (kbps)                     float64\n",
              "TCP DL Retrans. Vol (Bytes)                 float64\n",
              "TCP UL Retrans. Vol (Bytes)                 float64\n",
              "DL TP < 50 Kbps (%)                         float64\n",
              "50 Kbps < DL TP < 250 Kbps (%)              float64\n",
              "250 Kbps < DL TP < 1 Mbps (%)               float64\n",
              "DL TP > 1 Mbps (%)                          float64\n",
              "UL TP < 10 Kbps (%)                         float64\n",
              "10 Kbps < UL TP < 50 Kbps (%)               float64\n",
              "50 Kbps < UL TP < 300 Kbps (%)              float64\n",
              "UL TP > 300 Kbps (%)                        float64\n",
              "HTTP DL (Bytes)                             float64\n",
              "HTTP UL (Bytes)                             float64\n",
              "Activity Duration DL (ms)                   float64\n",
              "Activity Duration UL (ms)                   float64\n",
              "Dur. (ms).1                                 float64\n",
              "Handset Manufacturer                         object\n",
              "Handset Type                                 object\n",
              "Nb of sec with 125000B < Vol DL             float64\n",
              "Nb of sec with 1250B < Vol UL < 6250B       float64\n",
              "Nb of sec with 31250B < Vol DL < 125000B    float64\n",
              "Nb of sec with 37500B < Vol UL              float64\n",
              "Nb of sec with 6250B < Vol DL < 31250B      float64\n",
              "Nb of sec with 6250B < Vol UL < 37500B      float64\n",
              "Nb of sec with Vol DL < 6250B               float64\n",
              "Nb of sec with Vol UL < 1250B               float64\n",
              "Social Media DL (Bytes)                     float64\n",
              "Social Media UL (Bytes)                     float64\n",
              "Google DL (Bytes)                           float64\n",
              "Google UL (Bytes)                           float64\n",
              "Email DL (Bytes)                            float64\n",
              "Email UL (Bytes)                            float64\n",
              "Youtube DL (Bytes)                          float64\n",
              "Youtube UL (Bytes)                          float64\n",
              "Netflix DL (Bytes)                          float64\n",
              "Netflix UL (Bytes)                          float64\n",
              "Gaming DL (Bytes)                           float64\n",
              "Gaming UL (Bytes)                           float64\n",
              "Other DL (Bytes)                            float64\n",
              "Other UL (Bytes)                            float64\n",
              "Total UL (Bytes)                            float64\n",
              "Total DL (Bytes)                            float64\n",
              "dtype: object"
            ]
          },
          "metadata": {
            "tags": []
          },
          "execution_count": 62
        }
      ]
    },
    {
      "cell_type": "markdown",
      "metadata": {
        "id": "-YPIe0ftmZN4"
      },
      "source": [
        "Handling Missing Values"
      ]
    },
    {
      "cell_type": "code",
      "metadata": {
        "colab": {
          "base_uri": "https://localhost:8080/"
        },
        "id": "rjO_JaxwmbAD",
        "outputId": "11319210-03f2-4ae3-8764-3fadef95f359"
      },
      "source": [
        "# missing values in the dataset?\n",
        "def percent_missing(dm):\n",
        "\n",
        "    # Calculate total number of cells in dataframe\n",
        "    totalCells = np.product(dm.shape)\n",
        "\n",
        "    # Count number of missing values per column\n",
        "    missingCount = dm.isnull().sum()\n",
        "\n",
        "    # Calculate total number of missing values\n",
        "    totalMissing = missingCount.sum()\n",
        "\n",
        "    # Calculate percentage of missing values\n",
        "    print(\"The telecom dataset contains\", round(((totalMissing/totalCells) * 100), 2), \"%\", \"missing values.\")\n",
        "\n",
        "percent_missing(data)"
      ],
      "execution_count": 65,
      "outputs": [
        {
          "output_type": "stream",
          "text": [
            "The telecom dataset contains 12.5 % missing values.\n"
          ],
          "name": "stdout"
        }
      ]
    },
    {
      "cell_type": "code",
      "metadata": {
        "colab": {
          "base_uri": "https://localhost:8080/"
        },
        "id": "usNyYbF6pH21",
        "outputId": "75a28862-a588-44dc-bc7c-1b578af90f1a"
      },
      "source": [
        "#column(s) has missing values \n",
        "data.isna().sum().sort_values(ascending=False) #columns in descending order to see columns with highest missing values\n"
      ],
      "execution_count": 64,
      "outputs": [
        {
          "output_type": "execute_result",
          "data": {
            "text/plain": [
              "Nb of sec with 37500B < Vol UL              130254\n",
              "Nb of sec with 6250B < Vol UL < 37500B      111843\n",
              "Nb of sec with 125000B < Vol DL              97538\n",
              "TCP UL Retrans. Vol (Bytes)                  96649\n",
              "Nb of sec with 31250B < Vol DL < 125000B     93586\n",
              "Nb of sec with 1250B < Vol UL < 6250B        92894\n",
              "Nb of sec with 6250B < Vol DL < 31250B       88317\n",
              "TCP DL Retrans. Vol (Bytes)                  88146\n",
              "HTTP UL (Bytes)                              81810\n",
              "HTTP DL (Bytes)                              81474\n",
              "Avg RTT DL (ms)                              27829\n",
              "Avg RTT UL (ms)                              27812\n",
              "Last Location Name                            1153\n",
              "MSISDN/Number                                 1066\n",
              "Bearer Id                                      991\n",
              "Nb of sec with Vol UL < 1250B                  793\n",
              "UL TP < 10 Kbps (%)                            792\n",
              "10 Kbps < UL TP < 50 Kbps (%)                  792\n",
              "50 Kbps < UL TP < 300 Kbps (%)                 792\n",
              "UL TP > 300 Kbps (%)                           792\n",
              "Nb of sec with Vol DL < 6250B                  755\n",
              "DL TP > 1 Mbps (%)                             754\n",
              "250 Kbps < DL TP < 1 Mbps (%)                  754\n",
              "50 Kbps < DL TP < 250 Kbps (%)                 754\n",
              "DL TP < 50 Kbps (%)                            754\n",
              "Handset Manufacturer                           572\n",
              "Handset Type                                   572\n",
              "IMEI                                           572\n",
              "IMSI                                           570\n",
              "End                                              1\n",
              "End ms                                           1\n",
              "Start ms                                         1\n",
              "Start                                            1\n",
              "Dur. (ms)                                        1\n",
              "Avg Bearer TP DL (kbps)                          1\n",
              "Avg Bearer TP UL (kbps)                          1\n",
              "Total DL (Bytes)                                 1\n",
              "Activity Duration DL (ms)                        1\n",
              "Total UL (Bytes)                                 1\n",
              "Activity Duration UL (ms)                        1\n",
              "Dur. (ms).1                                      1\n",
              "Social Media DL (Bytes)                          0\n",
              "Social Media UL (Bytes)                          0\n",
              "Google DL (Bytes)                                0\n",
              "Google UL (Bytes)                                0\n",
              "Email DL (Bytes)                                 0\n",
              "Email UL (Bytes)                                 0\n",
              "Youtube UL (Bytes)                               0\n",
              "Netflix DL (Bytes)                               0\n",
              "Netflix UL (Bytes)                               0\n",
              "Gaming DL (Bytes)                                0\n",
              "Gaming UL (Bytes)                                0\n",
              "Other DL (Bytes)                                 0\n",
              "Other UL (Bytes)                                 0\n",
              "Youtube DL (Bytes)                               0\n",
              "dtype: int64"
            ]
          },
          "metadata": {
            "tags": []
          },
          "execution_count": 64
        }
      ]
    },
    {
      "cell_type": "code",
      "metadata": {
        "colab": {
          "base_uri": "https://localhost:8080/"
        },
        "id": "zgGLMrsN6enz",
        "outputId": "c0696784-7237-4010-d834-3b14546ae547"
      },
      "source": [
        "len(data) #length of the data frame"
      ],
      "execution_count": 66,
      "outputs": [
        {
          "output_type": "execute_result",
          "data": {
            "text/plain": [
              "150001"
            ]
          },
          "metadata": {
            "tags": []
          },
          "execution_count": 66
        }
      ]
    },
    {
      "cell_type": "code",
      "metadata": {
        "colab": {
          "base_uri": "https://localhost:8080/"
        },
        "id": "n8qkh4jX7fqQ",
        "outputId": "87a2af44-3ebc-4ab9-fb10-c6dc5d702925"
      },
      "source": [
        "data.isna().sum().sort_values(ascending=False)/len(data)*100 #to get % of missing values in each column descending method\n",
        "print(type(data))"
      ],
      "execution_count": 72,
      "outputs": [
        {
          "output_type": "stream",
          "text": [
            "<class 'pandas.core.frame.DataFrame'>\n"
          ],
          "name": "stdout"
        }
      ]
    },
    {
      "cell_type": "markdown",
      "metadata": {
        "id": "BxGrXx52plvZ"
      },
      "source": [
        "How to fix missing values"
      ]
    },
    {
      "cell_type": "code",
      "metadata": {
        "colab": {
          "base_uri": "https://localhost:8080/"
        },
        "id": "OvP1zqK9pkTt",
        "outputId": "4964cabf-6b5c-40f4-efe3-1908f32edb46"
      },
      "source": [
        "# drop columns with more than 30% missing values\n",
        "perc = 30.0\n",
        "min_count =  int(((100-perc)/100)*data.shape[0] + 1)\n",
        "mod_df = data.dropna( axis=1, thresh=min_count)\n",
        "\n",
        "#print modified data\n",
        "\n",
        "mod_df.isna().sum().sort_values(ascending=False)/len(data)*100 \n",
        "#print(min_count)\n",
        "#print(data.shape, mod_df.shape)\n",
        "\n",
        "#print( type (mod_df)) "
      ],
      "execution_count": 77,
      "outputs": [
        {
          "output_type": "execute_result",
          "data": {
            "text/plain": [
              "Avg RTT DL (ms)                   18.552543\n",
              "Avg RTT UL (ms)                   18.541210\n",
              "Last Location Name                 0.768662\n",
              "MSISDN/Number                      0.710662\n",
              "Bearer Id                          0.660662\n",
              "Nb of sec with Vol UL < 1250B      0.528663\n",
              "50 Kbps < UL TP < 300 Kbps (%)     0.527996\n",
              "UL TP > 300 Kbps (%)               0.527996\n",
              "UL TP < 10 Kbps (%)                0.527996\n",
              "10 Kbps < UL TP < 50 Kbps (%)      0.527996\n",
              "Nb of sec with Vol DL < 6250B      0.503330\n",
              "DL TP < 50 Kbps (%)                0.502663\n",
              "50 Kbps < DL TP < 250 Kbps (%)     0.502663\n",
              "250 Kbps < DL TP < 1 Mbps (%)      0.502663\n",
              "DL TP > 1 Mbps (%)                 0.502663\n",
              "IMEI                               0.381331\n",
              "Handset Type                       0.381331\n",
              "Handset Manufacturer               0.381331\n",
              "IMSI                               0.379997\n",
              "Dur. (ms)                          0.000667\n",
              "End ms                             0.000667\n",
              "Avg Bearer TP UL (kbps)            0.000667\n",
              "End                                0.000667\n",
              "Start ms                           0.000667\n",
              "Start                              0.000667\n",
              "Avg Bearer TP DL (kbps)            0.000667\n",
              "Total DL (Bytes)                   0.000667\n",
              "Total UL (Bytes)                   0.000667\n",
              "Activity Duration UL (ms)          0.000667\n",
              "Activity Duration DL (ms)          0.000667\n",
              "Dur. (ms).1                        0.000667\n",
              "Social Media DL (Bytes)            0.000000\n",
              "Social Media UL (Bytes)            0.000000\n",
              "Google DL (Bytes)                  0.000000\n",
              "Google UL (Bytes)                  0.000000\n",
              "Email DL (Bytes)                   0.000000\n",
              "Email UL (Bytes)                   0.000000\n",
              "Youtube UL (Bytes)                 0.000000\n",
              "Netflix DL (Bytes)                 0.000000\n",
              "Netflix UL (Bytes)                 0.000000\n",
              "Gaming DL (Bytes)                  0.000000\n",
              "Gaming UL (Bytes)                  0.000000\n",
              "Other DL (Bytes)                   0.000000\n",
              "Other UL (Bytes)                   0.000000\n",
              "Youtube DL (Bytes)                 0.000000\n",
              "dtype: float64"
            ]
          },
          "metadata": {
            "tags": []
          },
          "execution_count": 77
        }
      ]
    },
    {
      "cell_type": "code",
      "metadata": {
        "id": "wIWSbJ9CK7DJ",
        "colab": {
          "base_uri": "https://localhost:8080/"
        },
        "outputId": "1a4ddb90-3709-4400-a8d9-00aac6d4e149"
      },
      "source": [
        "\n",
        "# cleaning data fream\n",
        "mod_df.dropna(subset = [\"Bearer Id\", \"MSISDN/Number\"], inplace=True)\n",
        "cols=['Nb of sec with Vol UL < 1250B','50 Kbps < UL TP < 300 Kbps (%)','10 Kbps < UL TP < 50 Kbps (%)','UL TP < 10 Kbps (%)',\n",
        "      'UL TP > 300 Kbps (%)','Nb of sec with Vol DL < 6250B','DL TP > 1 Mbps (%)','250 Kbps < DL TP < 1 Mbps (%)','50 Kbps < DL TP < 250 Kbps (%)','DL TP < 50 Kbps (%)']\n",
        "for col in cols:\n",
        "  mod_df[col]=mod_df[col].fillna(method='ffill')\n",
        "\n",
        "mod_df.isna().sum().sort_values(ascending=False)/len(data)*100\n",
        "\n",
        "#data.isna().sum().sort_values(ascending=False)/len(data)*100\n",
        "#print (type(data))\n"
      ],
      "execution_count": 95,
      "outputs": [
        {
          "output_type": "execute_result",
          "data": {
            "text/plain": [
              "Avg RTT UL (ms)                   0.0\n",
              "Avg RTT UL (ms)                   0.0\n",
              "50 Kbps < UL TP < 300 Kbps (%)    0.0\n",
              "10 Kbps < UL TP < 50 Kbps (%)     0.0\n",
              "UL TP < 10 Kbps (%)               0.0\n",
              "DL TP > 1 Mbps (%)                0.0\n",
              "250 Kbps < DL TP < 1 Mbps (%)     0.0\n",
              "50 Kbps < DL TP < 250 Kbps (%)    0.0\n",
              "DL TP < 50 Kbps (%)               0.0\n",
              "Avg Bearer TP UL (kbps)           0.0\n",
              "Avg Bearer TP DL (kbps)           0.0\n",
              "Avg RTT DL (ms)                   0.0\n",
              "Total DL (Bytes)                  0.0\n",
              "Last Location Name                0.0\n",
              "IMEI                              0.0\n",
              "MSISDN/Number                     0.0\n",
              "IMSI                              0.0\n",
              "Dur. (ms)                         0.0\n",
              "End ms                            0.0\n",
              "End                               0.0\n",
              "Start ms                          0.0\n",
              "Start                             0.0\n",
              "UL TP > 300 Kbps (%)              0.0\n",
              "Activity Duration DL (ms)         0.0\n",
              "Activity Duration UL (ms)         0.0\n",
              "Dur. (ms).1                       0.0\n",
              "Total UL (Bytes)                  0.0\n",
              "Other UL (Bytes)                  0.0\n",
              "Other DL (Bytes)                  0.0\n",
              "Gaming UL (Bytes)                 0.0\n",
              "Gaming DL (Bytes)                 0.0\n",
              "Netflix UL (Bytes)                0.0\n",
              "Netflix DL (Bytes)                0.0\n",
              "Youtube UL (Bytes)                0.0\n",
              "Youtube DL (Bytes)                0.0\n",
              "Email UL (Bytes)                  0.0\n",
              "Email DL (Bytes)                  0.0\n",
              "Google UL (Bytes)                 0.0\n",
              "Google DL (Bytes)                 0.0\n",
              "Social Media UL (Bytes)           0.0\n",
              "Social Media DL (Bytes)           0.0\n",
              "Nb of sec with Vol UL < 1250B     0.0\n",
              "Nb of sec with Vol DL < 6250B     0.0\n",
              "Handset Type                      0.0\n",
              "Handset Manufacturer              0.0\n",
              "Bearer Id                         0.0\n",
              "dtype: float64"
            ]
          },
          "metadata": {
            "tags": []
          },
          "execution_count": 95
        }
      ]
    },
    {
      "cell_type": "code",
      "metadata": {
        "id": "sInn01HhGYa8"
      },
      "source": [
        ""
      ],
      "execution_count": null,
      "outputs": []
    },
    {
      "cell_type": "markdown",
      "metadata": {
        "id": "SaidRGy5lDKy"
      },
      "source": [
        "Transforming Data\n",
        "Scaling and Normalization"
      ]
    },
    {
      "cell_type": "code",
      "metadata": {
        "id": "Bz8BhGl6lBhk",
        "colab": {
          "base_uri": "https://localhost:8080/",
          "height": 204
        },
        "outputId": "910aa48d-25ad-452d-ebbb-c49978aa519b"
      },
      "source": [
        "from sklearn.preprocessing import MinMaxScaler\n",
        "\n",
        "minmax_scaler = MinMaxScaler()\n",
        "\n",
        "# generate 1000 data points randomly drawn from an exponential distribution\n",
        "original_data = pd.DataFrame(np.random.exponential(200, size=2000))\n",
        "\n",
        "original_data.sample(5)"
      ],
      "execution_count": 96,
      "outputs": [
        {
          "output_type": "execute_result",
          "data": {
            "text/html": [
              "<div>\n",
              "<style scoped>\n",
              "    .dataframe tbody tr th:only-of-type {\n",
              "        vertical-align: middle;\n",
              "    }\n",
              "\n",
              "    .dataframe tbody tr th {\n",
              "        vertical-align: top;\n",
              "    }\n",
              "\n",
              "    .dataframe thead th {\n",
              "        text-align: right;\n",
              "    }\n",
              "</style>\n",
              "<table border=\"1\" class=\"dataframe\">\n",
              "  <thead>\n",
              "    <tr style=\"text-align: right;\">\n",
              "      <th></th>\n",
              "      <th>0</th>\n",
              "    </tr>\n",
              "  </thead>\n",
              "  <tbody>\n",
              "    <tr>\n",
              "      <th>949</th>\n",
              "      <td>24.024051</td>\n",
              "    </tr>\n",
              "    <tr>\n",
              "      <th>703</th>\n",
              "      <td>443.970243</td>\n",
              "    </tr>\n",
              "    <tr>\n",
              "      <th>1857</th>\n",
              "      <td>334.721082</td>\n",
              "    </tr>\n",
              "    <tr>\n",
              "      <th>380</th>\n",
              "      <td>260.276051</td>\n",
              "    </tr>\n",
              "    <tr>\n",
              "      <th>1443</th>\n",
              "      <td>270.640389</td>\n",
              "    </tr>\n",
              "  </tbody>\n",
              "</table>\n",
              "</div>"
            ],
            "text/plain": [
              "               0\n",
              "949    24.024051\n",
              "703   443.970243\n",
              "1857  334.721082\n",
              "380   260.276051\n",
              "1443  270.640389"
            ]
          },
          "metadata": {
            "tags": []
          },
          "execution_count": 96
        }
      ]
    },
    {
      "cell_type": "code",
      "metadata": {
        "colab": {
          "base_uri": "https://localhost:8080/"
        },
        "id": "UdWmQZQUD0pV",
        "outputId": "36d6ae1a-878e-4012-9650-83e38b7ef03c"
      },
      "source": [
        "original_data[0].min(), original_data[0].max()"
      ],
      "execution_count": null,
      "outputs": [
        {
          "output_type": "execute_result",
          "data": {
            "text/plain": [
              "(0.011980015160090368, 1820.0686232317114)"
            ]
          },
          "metadata": {
            "tags": []
          },
          "execution_count": 93
        }
      ]
    },
    {
      "cell_type": "code",
      "metadata": {
        "colab": {
          "base_uri": "https://localhost:8080/",
          "height": 265
        },
        "id": "mzbynSeTEM8p",
        "outputId": "dd8c010a-1eec-4b01-e2dd-be2fb0bae6b2"
      },
      "source": [
        "count, bins, ignored = plt.hist(original_data, 14)\n",
        "plt.show()"
      ],
      "execution_count": null,
      "outputs": [
        {
          "output_type": "display_data",
          "data": {
            "image/png": "[encoded data removed]",
            "text/plain": [
              "<Figure size 432x288 with 1 Axes>"
            ]
          },
          "metadata": {
            "tags": [],
            "image/png": {
              "width": 372,
              "height": 248
            }
          }
        }
      ]
    },
    {
      "cell_type": "code",
      "metadata": {
        "colab": {
          "base_uri": "https://localhost:8080/",
          "height": 391
        },
        "id": "YrY4exrAGahW",
        "outputId": "981cf10d-afbb-450c-e501-b7f492bb810a"
      },
      "source": [
        "# mix-max scale the data between 0 and 1\n",
        "def scaler(df):\n",
        "    scaled_data = minmax_scaler.fit_transform(df)\n",
        "\n",
        "    # plot both together to compare\n",
        "    fig, ax = plt.subplots(1,2, figsize=(10, 6))\n",
        "    sns.histplot(original_data, ax=ax[0])\n",
        "    ax[0].set_title(\"Original Data\")\n",
        "    sns.histplot(scaled_data, ax=ax[1])\n",
        "    ax[1].set_title(\"Scaled data\")\n",
        "    \n",
        "scaler(original_data)"
      ],
      "execution_count": 97,
      "outputs": [
        {
          "output_type": "display_data",
          "data": {
            "image/png": "[encoded data removed]",
            "text/plain": [
              "<Figure size 720x432 with 2 Axes>"
            ]
          },
          "metadata": {
            "tags": [],
            "image/png": {
              "width": 614,
              "height": 374
            }
          }
        }
      ]
    },
    {
      "cell_type": "code",
      "metadata": {
        "colab": {
          "base_uri": "https://localhost:8080/",
          "height": 391
        },
        "id": "CkBnc_RWGtOZ",
        "outputId": "6998b1fa-0d9e-4e30-e51e-b0077baab4d4"
      },
      "source": [
        "from sklearn.preprocessing import Normalizer\n",
        "\n",
        "def normalizer(df):\n",
        "    norm = Normalizer()\n",
        "    # normalize the exponential data with boxcox\n",
        "    normalized_data = norm.fit_transform(df)\n",
        "\n",
        "    # plot both together to compare\n",
        "    fig, ax=plt.subplots(1,2, figsize=(10, 6))\n",
        "    sns.histplot(df, ax=ax[0])\n",
        "    ax[0].set_title(\"Original Data\")\n",
        "    sns.histplot(normalized_data[0], ax=ax[1])\n",
        "    ax[1].set_title(\"Normalized data\")\n",
        "\n",
        "normalizer(original_data)"
      ],
      "execution_count": 98,
      "outputs": [
        {
          "output_type": "display_data",
          "data": {
            "image/png": "[encoded data removed]",
            "text/plain": [
              "<Figure size 720x432 with 2 Axes>"
            ]
          },
          "metadata": {
            "tags": [],
            "image/png": {
              "width": 614,
              "height": 374
            }
          }
        }
      ]
    },
    {
      "cell_type": "code",
      "metadata": {
        "colab": {
          "base_uri": "https://localhost:8080/"
        },
        "id": "zwpMGQTnGzF2",
        "outputId": "18cc67f7-1e9e-44d7-9340-440a9108831e"
      },
      "source": [
        "data.info()"
      ],
      "execution_count": 99,
      "outputs": [
        {
          "output_type": "stream",
          "text": [
            "<class 'pandas.core.frame.DataFrame'>\n",
            "RangeIndex: 150001 entries, 0 to 150000\n",
            "Data columns (total 55 columns):\n",
            " #   Column                                    Non-Null Count   Dtype  \n",
            "---  ------                                    --------------   -----  \n",
            " 0   Bearer Id                                 149010 non-null  float64\n",
            " 1   Start                                     150000 non-null  object \n",
            " 2   Start ms                                  150000 non-null  float64\n",
            " 3   End                                       150000 non-null  object \n",
            " 4   End ms                                    150000 non-null  float64\n",
            " 5   Dur. (ms)                                 150000 non-null  float64\n",
            " 6   IMSI                                      149431 non-null  float64\n",
            " 7   MSISDN/Number                             148935 non-null  float64\n",
            " 8   IMEI                                      149429 non-null  float64\n",
            " 9   Last Location Name                        148848 non-null  object \n",
            " 10  Avg RTT DL (ms)                           122172 non-null  float64\n",
            " 11  Avg RTT UL (ms)                           122189 non-null  float64\n",
            " 12  Avg Bearer TP DL (kbps)                   150000 non-null  float64\n",
            " 13  Avg Bearer TP UL (kbps)                   150000 non-null  float64\n",
            " 14  TCP DL Retrans. Vol (Bytes)               61855 non-null   float64\n",
            " 15  TCP UL Retrans. Vol (Bytes)               53352 non-null   float64\n",
            " 16  DL TP < 50 Kbps (%)                       149247 non-null  float64\n",
            " 17  50 Kbps < DL TP < 250 Kbps (%)            149247 non-null  float64\n",
            " 18  250 Kbps < DL TP < 1 Mbps (%)             149247 non-null  float64\n",
            " 19  DL TP > 1 Mbps (%)                        149247 non-null  float64\n",
            " 20  UL TP < 10 Kbps (%)                       149209 non-null  float64\n",
            " 21  10 Kbps < UL TP < 50 Kbps (%)             149209 non-null  float64\n",
            " 22  50 Kbps < UL TP < 300 Kbps (%)            149209 non-null  float64\n",
            " 23  UL TP > 300 Kbps (%)                      149209 non-null  float64\n",
            " 24  HTTP DL (Bytes)                           68527 non-null   float64\n",
            " 25  HTTP UL (Bytes)                           68191 non-null   float64\n",
            " 26  Activity Duration DL (ms)                 150000 non-null  float64\n",
            " 27  Activity Duration UL (ms)                 150000 non-null  float64\n",
            " 28  Dur. (ms).1                               150000 non-null  float64\n",
            " 29  Handset Manufacturer                      149429 non-null  object \n",
            " 30  Handset Type                              149429 non-null  object \n",
            " 31  Nb of sec with 125000B < Vol DL           52463 non-null   float64\n",
            " 32  Nb of sec with 1250B < Vol UL < 6250B     57107 non-null   float64\n",
            " 33  Nb of sec with 31250B < Vol DL < 125000B  56415 non-null   float64\n",
            " 34  Nb of sec with 37500B < Vol UL            19747 non-null   float64\n",
            " 35  Nb of sec with 6250B < Vol DL < 31250B    61684 non-null   float64\n",
            " 36  Nb of sec with 6250B < Vol UL < 37500B    38158 non-null   float64\n",
            " 37  Nb of sec with Vol DL < 6250B             149246 non-null  float64\n",
            " 38  Nb of sec with Vol UL < 1250B             149208 non-null  float64\n",
            " 39  Social Media DL (Bytes)                   150001 non-null  float64\n",
            " 40  Social Media UL (Bytes)                   150001 non-null  float64\n",
            " 41  Google DL (Bytes)                         150001 non-null  float64\n",
            " 42  Google UL (Bytes)                         150001 non-null  float64\n",
            " 43  Email DL (Bytes)                          150001 non-null  float64\n",
            " 44  Email UL (Bytes)                          150001 non-null  float64\n",
            " 45  Youtube DL (Bytes)                        150001 non-null  float64\n",
            " 46  Youtube UL (Bytes)                        150001 non-null  float64\n",
            " 47  Netflix DL (Bytes)                        150001 non-null  float64\n",
            " 48  Netflix UL (Bytes)                        150001 non-null  float64\n",
            " 49  Gaming DL (Bytes)                         150001 non-null  float64\n",
            " 50  Gaming UL (Bytes)                         150001 non-null  float64\n",
            " 51  Other DL (Bytes)                          150001 non-null  float64\n",
            " 52  Other UL (Bytes)                          150001 non-null  float64\n",
            " 53  Total UL (Bytes)                          150000 non-null  float64\n",
            " 54  Total DL (Bytes)                          150000 non-null  float64\n",
            "dtypes: float64(50), object(5)\n",
            "memory usage: 62.9+ MB\n"
          ],
          "name": "stdout"
        }
      ]
    },
    {
      "cell_type": "markdown",
      "metadata": {
        "id": "TmrVgrrzltsS"
      },
      "source": [
        "For the actual telecom dataset, you‘re expected to conduct a full User Overview analysis &\n",
        "the following sub-tasks are your guidance:   \n",
        "● Start by identifying the top 10 handsets used by the customers.   \n",
        "● Then, identify the top 3 handset manufacturers  \n",
        "● Next, identify the top 5 handsets per top 3 handset manufacturer   \n",
        "● Make a short interpretation and recommendation to marketing teams\n"
      ]
    },
    {
      "cell_type": "code",
      "metadata": {
        "colab": {
          "base_uri": "https://localhost:8080/"
        },
        "id": "Qos1BghZIvS2",
        "outputId": "d10245f0-f428-4590-f842-f269a190d91c"
      },
      "source": [
        "data[\"Handset Type\"].value_counts().head(10)"
      ],
      "execution_count": 100,
      "outputs": [
        {
          "output_type": "execute_result",
          "data": {
            "text/plain": [
              "Huawei B528S-23A                19752\n",
              "Apple iPhone 6S (A1688)          9419\n",
              "Apple iPhone 6 (A1586)           9023\n",
              "undefined                        8987\n",
              "Apple iPhone 7 (A1778)           6326\n",
              "Apple iPhone Se (A1723)          5187\n",
              "Apple iPhone 8 (A1905)           4993\n",
              "Apple iPhone Xr (A2105)          4568\n",
              "Samsung Galaxy S8 (Sm-G950F)     4520\n",
              "Apple iPhone X (A1901)           3813\n",
              "Name: Handset Type, dtype: int64"
            ]
          },
          "metadata": {
            "tags": []
          },
          "execution_count": 100
        }
      ]
    },
    {
      "cell_type": "code",
      "metadata": {
        "colab": {
          "base_uri": "https://localhost:8080/"
        },
        "id": "XlMqJH2jLk_I",
        "outputId": "521eadcc-9657-40eb-9f5e-d6421ef3d5dc"
      },
      "source": [
        "data[\"Handset Manufacturer\"].value_counts().head(3)"
      ],
      "execution_count": 101,
      "outputs": [
        {
          "output_type": "execute_result",
          "data": {
            "text/plain": [
              "Apple      59565\n",
              "Samsung    40839\n",
              "Huawei     34423\n",
              "Name: Handset Manufacturer, dtype: int64"
            ]
          },
          "metadata": {
            "tags": []
          },
          "execution_count": 101
        }
      ]
    },
    {
      "cell_type": "code",
      "metadata": {
        "colab": {
          "base_uri": "https://localhost:8080/"
        },
        "id": "IfxwcrNxLqNL",
        "outputId": "9d14dbe8-b66a-4cd5-e094-d1f51865392e"
      },
      "source": [
        "apple_handsets = data[data[\"Handset Manufacturer\"] == \"Apple\"]\n",
        "apple_handsets[\"Handset Type\"].value_counts().head(5)"
      ],
      "execution_count": 102,
      "outputs": [
        {
          "output_type": "execute_result",
          "data": {
            "text/plain": [
              "Apple iPhone 6S (A1688)    9419\n",
              "Apple iPhone 6 (A1586)     9023\n",
              "Apple iPhone 7 (A1778)     6326\n",
              "Apple iPhone Se (A1723)    5187\n",
              "Apple iPhone 8 (A1905)     4993\n",
              "Name: Handset Type, dtype: int64"
            ]
          },
          "metadata": {
            "tags": []
          },
          "execution_count": 102
        }
      ]
    },
    {
      "cell_type": "markdown",
      "metadata": {
        "id": "GqApbmXrVDJ0"
      },
      "source": [
        "Task 1.1 - Your employer wants to have an overview of the users’ behavior on those applications.     \n",
        "● Aggregate per user the following information in the column     \n",
        "○ number of xDR sessions     \n",
        "○ Session duration      \n",
        "○ the total download (DL) and upload (UL) data     \n",
        "○ the total data volume (in Bytes) during this session for each application \n",
        "\n"
      ]
    },
    {
      "cell_type": "code",
      "metadata": {
        "colab": {
          "base_uri": "https://localhost:8080/",
          "height": 450
        },
        "id": "ec6v1-EKQ4tw",
        "outputId": "51a26932-07c4-4fac-e179-931120292845"
      },
      "source": [
        "sessions = data[[\"MSISDN/Number\",\"Bearer Id\"]]\n",
        "session_count = sessions.groupby([\"MSISDN/Number\"]).count()\n",
        "session_count"
      ],
      "execution_count": 103,
      "outputs": [
        {
          "output_type": "execute_result",
          "data": {
            "text/html": [
              "<div>\n",
              "<style scoped>\n",
              "    .dataframe tbody tr th:only-of-type {\n",
              "        vertical-align: middle;\n",
              "    }\n",
              "\n",
              "    .dataframe tbody tr th {\n",
              "        vertical-align: top;\n",
              "    }\n",
              "\n",
              "    .dataframe thead th {\n",
              "        text-align: right;\n",
              "    }\n",
              "</style>\n",
              "<table border=\"1\" class=\"dataframe\">\n",
              "  <thead>\n",
              "    <tr style=\"text-align: right;\">\n",
              "      <th></th>\n",
              "      <th>Bearer Id</th>\n",
              "    </tr>\n",
              "    <tr>\n",
              "      <th>MSISDN/Number</th>\n",
              "      <th></th>\n",
              "    </tr>\n",
              "  </thead>\n",
              "  <tbody>\n",
              "    <tr>\n",
              "      <th>3.360100e+10</th>\n",
              "      <td>1</td>\n",
              "    </tr>\n",
              "    <tr>\n",
              "      <th>3.360100e+10</th>\n",
              "      <td>1</td>\n",
              "    </tr>\n",
              "    <tr>\n",
              "      <th>3.360100e+10</th>\n",
              "      <td>1</td>\n",
              "    </tr>\n",
              "    <tr>\n",
              "      <th>3.360101e+10</th>\n",
              "      <td>1</td>\n",
              "    </tr>\n",
              "    <tr>\n",
              "      <th>3.360101e+10</th>\n",
              "      <td>2</td>\n",
              "    </tr>\n",
              "    <tr>\n",
              "      <th>...</th>\n",
              "      <td>...</td>\n",
              "    </tr>\n",
              "    <tr>\n",
              "      <th>3.379000e+10</th>\n",
              "      <td>1</td>\n",
              "    </tr>\n",
              "    <tr>\n",
              "      <th>3.379000e+10</th>\n",
              "      <td>1</td>\n",
              "    </tr>\n",
              "    <tr>\n",
              "      <th>3.197021e+12</th>\n",
              "      <td>1</td>\n",
              "    </tr>\n",
              "    <tr>\n",
              "      <th>3.370000e+14</th>\n",
              "      <td>1</td>\n",
              "    </tr>\n",
              "    <tr>\n",
              "      <th>8.823971e+14</th>\n",
              "      <td>1</td>\n",
              "    </tr>\n",
              "  </tbody>\n",
              "</table>\n",
              "<p>106856 rows × 1 columns</p>\n",
              "</div>"
            ],
            "text/plain": [
              "               Bearer Id\n",
              "MSISDN/Number           \n",
              "3.360100e+10           1\n",
              "3.360100e+10           1\n",
              "3.360100e+10           1\n",
              "3.360101e+10           1\n",
              "3.360101e+10           2\n",
              "...                  ...\n",
              "3.379000e+10           1\n",
              "3.379000e+10           1\n",
              "3.197021e+12           1\n",
              "3.370000e+14           1\n",
              "8.823971e+14           1\n",
              "\n",
              "[106856 rows x 1 columns]"
            ]
          },
          "metadata": {
            "tags": []
          },
          "execution_count": 103
        }
      ]
    },
    {
      "cell_type": "code",
      "metadata": {
        "colab": {
          "base_uri": "https://localhost:8080/",
          "height": 297
        },
        "id": "8b8UQ2atQ-fx",
        "outputId": "f2be37c4-64df-4181-ac45-cce2b8d43211"
      },
      "source": [
        "session_count.describe()"
      ],
      "execution_count": 104,
      "outputs": [
        {
          "output_type": "execute_result",
          "data": {
            "text/html": [
              "<div>\n",
              "<style scoped>\n",
              "    .dataframe tbody tr th:only-of-type {\n",
              "        vertical-align: middle;\n",
              "    }\n",
              "\n",
              "    .dataframe tbody tr th {\n",
              "        vertical-align: top;\n",
              "    }\n",
              "\n",
              "    .dataframe thead th {\n",
              "        text-align: right;\n",
              "    }\n",
              "</style>\n",
              "<table border=\"1\" class=\"dataframe\">\n",
              "  <thead>\n",
              "    <tr style=\"text-align: right;\">\n",
              "      <th></th>\n",
              "      <th>Bearer Id</th>\n",
              "    </tr>\n",
              "  </thead>\n",
              "  <tbody>\n",
              "    <tr>\n",
              "      <th>count</th>\n",
              "      <td>106856.000000</td>\n",
              "    </tr>\n",
              "    <tr>\n",
              "      <th>mean</th>\n",
              "      <td>1.389777</td>\n",
              "    </tr>\n",
              "    <tr>\n",
              "      <th>std</th>\n",
              "      <td>0.809863</td>\n",
              "    </tr>\n",
              "    <tr>\n",
              "      <th>min</th>\n",
              "      <td>0.000000</td>\n",
              "    </tr>\n",
              "    <tr>\n",
              "      <th>25%</th>\n",
              "      <td>1.000000</td>\n",
              "    </tr>\n",
              "    <tr>\n",
              "      <th>50%</th>\n",
              "      <td>1.000000</td>\n",
              "    </tr>\n",
              "    <tr>\n",
              "      <th>75%</th>\n",
              "      <td>2.000000</td>\n",
              "    </tr>\n",
              "    <tr>\n",
              "      <th>max</th>\n",
              "      <td>18.000000</td>\n",
              "    </tr>\n",
              "  </tbody>\n",
              "</table>\n",
              "</div>"
            ],
            "text/plain": [
              "           Bearer Id\n",
              "count  106856.000000\n",
              "mean        1.389777\n",
              "std         0.809863\n",
              "min         0.000000\n",
              "25%         1.000000\n",
              "50%         1.000000\n",
              "75%         2.000000\n",
              "max        18.000000"
            ]
          },
          "metadata": {
            "tags": []
          },
          "execution_count": 104
        }
      ]
    },
    {
      "cell_type": "code",
      "metadata": {
        "colab": {
          "base_uri": "https://localhost:8080/",
          "height": 450
        },
        "id": "XNd-L9skRJHV",
        "outputId": "e9345528-e7a7-45d7-ccd3-e3eecaaacc91"
      },
      "source": [
        "data_usage = data[[\"MSISDN/Number\",\"Dur. (ms).1\", \"Total DL (Bytes)\", \"Total UL (Bytes)\"]]\n",
        "data_usage.groupby([\"MSISDN/Number\"]).agg('sum')"
      ],
      "execution_count": 105,
      "outputs": [
        {
          "output_type": "execute_result",
          "data": {
            "text/html": [
              "<div>\n",
              "<style scoped>\n",
              "    .dataframe tbody tr th:only-of-type {\n",
              "        vertical-align: middle;\n",
              "    }\n",
              "\n",
              "    .dataframe tbody tr th {\n",
              "        vertical-align: top;\n",
              "    }\n",
              "\n",
              "    .dataframe thead th {\n",
              "        text-align: right;\n",
              "    }\n",
              "</style>\n",
              "<table border=\"1\" class=\"dataframe\">\n",
              "  <thead>\n",
              "    <tr style=\"text-align: right;\">\n",
              "      <th></th>\n",
              "      <th>Dur. (ms).1</th>\n",
              "      <th>Total DL (Bytes)</th>\n",
              "      <th>Total UL (Bytes)</th>\n",
              "    </tr>\n",
              "    <tr>\n",
              "      <th>MSISDN/Number</th>\n",
              "      <th></th>\n",
              "      <th></th>\n",
              "      <th></th>\n",
              "    </tr>\n",
              "  </thead>\n",
              "  <tbody>\n",
              "    <tr>\n",
              "      <th>3.360100e+10</th>\n",
              "      <td>116720140.0</td>\n",
              "      <td>8.426375e+08</td>\n",
              "      <td>36053108.0</td>\n",
              "    </tr>\n",
              "    <tr>\n",
              "      <th>3.360100e+10</th>\n",
              "      <td>181230963.0</td>\n",
              "      <td>1.207552e+08</td>\n",
              "      <td>36104459.0</td>\n",
              "    </tr>\n",
              "    <tr>\n",
              "      <th>3.360100e+10</th>\n",
              "      <td>134969374.0</td>\n",
              "      <td>5.566597e+08</td>\n",
              "      <td>39306820.0</td>\n",
              "    </tr>\n",
              "    <tr>\n",
              "      <th>3.360101e+10</th>\n",
              "      <td>49878024.0</td>\n",
              "      <td>4.019932e+08</td>\n",
              "      <td>20327526.0</td>\n",
              "    </tr>\n",
              "    <tr>\n",
              "      <th>3.360101e+10</th>\n",
              "      <td>37104453.0</td>\n",
              "      <td>1.363130e+09</td>\n",
              "      <td>94280527.0</td>\n",
              "    </tr>\n",
              "    <tr>\n",
              "      <th>...</th>\n",
              "      <td>...</td>\n",
              "      <td>...</td>\n",
              "      <td>...</td>\n",
              "    </tr>\n",
              "    <tr>\n",
              "      <th>3.379000e+10</th>\n",
              "      <td>8810688.0</td>\n",
              "      <td>6.879252e+08</td>\n",
              "      <td>26716429.0</td>\n",
              "    </tr>\n",
              "    <tr>\n",
              "      <th>3.379000e+10</th>\n",
              "      <td>140988659.0</td>\n",
              "      <td>4.445751e+08</td>\n",
              "      <td>35732243.0</td>\n",
              "    </tr>\n",
              "    <tr>\n",
              "      <th>3.197021e+12</th>\n",
              "      <td>877385325.0</td>\n",
              "      <td>1.948281e+08</td>\n",
              "      <td>37295915.0</td>\n",
              "    </tr>\n",
              "    <tr>\n",
              "      <th>3.370000e+14</th>\n",
              "      <td>253030201.0</td>\n",
              "      <td>5.396350e+08</td>\n",
              "      <td>56652839.0</td>\n",
              "    </tr>\n",
              "    <tr>\n",
              "      <th>8.823971e+14</th>\n",
              "      <td>869844200.0</td>\n",
              "      <td>7.869760e+07</td>\n",
              "      <td>60456049.0</td>\n",
              "    </tr>\n",
              "  </tbody>\n",
              "</table>\n",
              "<p>106856 rows × 3 columns</p>\n",
              "</div>"
            ],
            "text/plain": [
              "               Dur. (ms).1  Total DL (Bytes)  Total UL (Bytes)\n",
              "MSISDN/Number                                                 \n",
              "3.360100e+10   116720140.0      8.426375e+08        36053108.0\n",
              "3.360100e+10   181230963.0      1.207552e+08        36104459.0\n",
              "3.360100e+10   134969374.0      5.566597e+08        39306820.0\n",
              "3.360101e+10    49878024.0      4.019932e+08        20327526.0\n",
              "3.360101e+10    37104453.0      1.363130e+09        94280527.0\n",
              "...                    ...               ...               ...\n",
              "3.379000e+10     8810688.0      6.879252e+08        26716429.0\n",
              "3.379000e+10   140988659.0      4.445751e+08        35732243.0\n",
              "3.197021e+12   877385325.0      1.948281e+08        37295915.0\n",
              "3.370000e+14   253030201.0      5.396350e+08        56652839.0\n",
              "8.823971e+14   869844200.0      7.869760e+07        60456049.0\n",
              "\n",
              "[106856 rows x 3 columns]"
            ]
          },
          "metadata": {
            "tags": []
          },
          "execution_count": 105
        }
      ]
    },
    {
      "cell_type": "code",
      "metadata": {
        "colab": {
          "base_uri": "https://localhost:8080/",
          "height": 324
        },
        "id": "7qTJ5AdrROhZ",
        "outputId": "a506ed48-1e00-4059-ae39-4f8c4d2242f2"
      },
      "source": [
        "data[[\"Dur. (ms).1\",\"Total DL (Bytes)\",\"Total UL (Bytes)\", \"Total Social Media\", \"Total Google\", \"Total Email\", \"Total Youtube\", \"Total Netflix\", \"Total Gaming\"]].isna().sum().head(60)"
      ],
      "execution_count": 106,
      "outputs": [
        {
          "output_type": "error",
          "ename": "KeyError",
          "evalue": "ignored",
          "traceback": [
            "\u001b[0;31m---------------------------------------------------------------------------\u001b[0m",
            "\u001b[0;31mKeyError\u001b[0m                                  Traceback (most recent call last)",
            "\u001b[0;32m<ipython-input-106-12cd37c9c740>\u001b[0m in \u001b[0;36m<module>\u001b[0;34m()\u001b[0m\n\u001b[0;32m----> 1\u001b[0;31m \u001b[0mdata\u001b[0m\u001b[0;34m[\u001b[0m\u001b[0;34m[\u001b[0m\u001b[0;34m\"Dur. (ms).1\"\u001b[0m\u001b[0;34m,\u001b[0m\u001b[0;34m\"Total DL (Bytes)\"\u001b[0m\u001b[0;34m,\u001b[0m\u001b[0;34m\"Total UL (Bytes)\"\u001b[0m\u001b[0;34m,\u001b[0m \u001b[0;34m\"Total Social Media\"\u001b[0m\u001b[0;34m,\u001b[0m \u001b[0;34m\"Total Google\"\u001b[0m\u001b[0;34m,\u001b[0m \u001b[0;34m\"Total Email\"\u001b[0m\u001b[0;34m,\u001b[0m \u001b[0;34m\"Total Youtube\"\u001b[0m\u001b[0;34m,\u001b[0m \u001b[0;34m\"Total Netflix\"\u001b[0m\u001b[0;34m,\u001b[0m \u001b[0;34m\"Total Gaming\"\u001b[0m\u001b[0;34m]\u001b[0m\u001b[0;34m]\u001b[0m\u001b[0;34m.\u001b[0m\u001b[0misna\u001b[0m\u001b[0;34m(\u001b[0m\u001b[0;34m)\u001b[0m\u001b[0;34m.\u001b[0m\u001b[0msum\u001b[0m\u001b[0;34m(\u001b[0m\u001b[0;34m)\u001b[0m\u001b[0;34m.\u001b[0m\u001b[0mhead\u001b[0m\u001b[0;34m(\u001b[0m\u001b[0;36m60\u001b[0m\u001b[0;34m)\u001b[0m\u001b[0;34m\u001b[0m\u001b[0;34m\u001b[0m\u001b[0m\n\u001b[0m",
            "\u001b[0;32m/usr/local/lib/python3.7/dist-packages/pandas/core/frame.py\u001b[0m in \u001b[0;36m__getitem__\u001b[0;34m(self, key)\u001b[0m\n\u001b[1;32m   2910\u001b[0m             \u001b[0;32mif\u001b[0m \u001b[0mis_iterator\u001b[0m\u001b[0;34m(\u001b[0m\u001b[0mkey\u001b[0m\u001b[0;34m)\u001b[0m\u001b[0;34m:\u001b[0m\u001b[0;34m\u001b[0m\u001b[0;34m\u001b[0m\u001b[0m\n\u001b[1;32m   2911\u001b[0m                 \u001b[0mkey\u001b[0m \u001b[0;34m=\u001b[0m \u001b[0mlist\u001b[0m\u001b[0;34m(\u001b[0m\u001b[0mkey\u001b[0m\u001b[0;34m)\u001b[0m\u001b[0;34m\u001b[0m\u001b[0;34m\u001b[0m\u001b[0m\n\u001b[0;32m-> 2912\u001b[0;31m             \u001b[0mindexer\u001b[0m \u001b[0;34m=\u001b[0m \u001b[0mself\u001b[0m\u001b[0;34m.\u001b[0m\u001b[0mloc\u001b[0m\u001b[0;34m.\u001b[0m\u001b[0m_get_listlike_indexer\u001b[0m\u001b[0;34m(\u001b[0m\u001b[0mkey\u001b[0m\u001b[0;34m,\u001b[0m \u001b[0maxis\u001b[0m\u001b[0;34m=\u001b[0m\u001b[0;36m1\u001b[0m\u001b[0;34m,\u001b[0m \u001b[0mraise_missing\u001b[0m\u001b[0;34m=\u001b[0m\u001b[0;32mTrue\u001b[0m\u001b[0;34m)\u001b[0m\u001b[0;34m[\u001b[0m\u001b[0;36m1\u001b[0m\u001b[0;34m]\u001b[0m\u001b[0;34m\u001b[0m\u001b[0;34m\u001b[0m\u001b[0m\n\u001b[0m\u001b[1;32m   2913\u001b[0m \u001b[0;34m\u001b[0m\u001b[0m\n\u001b[1;32m   2914\u001b[0m         \u001b[0;31m# take() does not accept boolean indexers\u001b[0m\u001b[0;34m\u001b[0m\u001b[0;34m\u001b[0m\u001b[0;34m\u001b[0m\u001b[0m\n",
            "\u001b[0;32m/usr/local/lib/python3.7/dist-packages/pandas/core/indexing.py\u001b[0m in \u001b[0;36m_get_listlike_indexer\u001b[0;34m(self, key, axis, raise_missing)\u001b[0m\n\u001b[1;32m   1252\u001b[0m             \u001b[0mkeyarr\u001b[0m\u001b[0;34m,\u001b[0m \u001b[0mindexer\u001b[0m\u001b[0;34m,\u001b[0m \u001b[0mnew_indexer\u001b[0m \u001b[0;34m=\u001b[0m \u001b[0max\u001b[0m\u001b[0;34m.\u001b[0m\u001b[0m_reindex_non_unique\u001b[0m\u001b[0;34m(\u001b[0m\u001b[0mkeyarr\u001b[0m\u001b[0;34m)\u001b[0m\u001b[0;34m\u001b[0m\u001b[0;34m\u001b[0m\u001b[0m\n\u001b[1;32m   1253\u001b[0m \u001b[0;34m\u001b[0m\u001b[0m\n\u001b[0;32m-> 1254\u001b[0;31m         \u001b[0mself\u001b[0m\u001b[0;34m.\u001b[0m\u001b[0m_validate_read_indexer\u001b[0m\u001b[0;34m(\u001b[0m\u001b[0mkeyarr\u001b[0m\u001b[0;34m,\u001b[0m \u001b[0mindexer\u001b[0m\u001b[0;34m,\u001b[0m \u001b[0maxis\u001b[0m\u001b[0;34m,\u001b[0m \u001b[0mraise_missing\u001b[0m\u001b[0;34m=\u001b[0m\u001b[0mraise_missing\u001b[0m\u001b[0;34m)\u001b[0m\u001b[0;34m\u001b[0m\u001b[0;34m\u001b[0m\u001b[0m\n\u001b[0m\u001b[1;32m   1255\u001b[0m         \u001b[0;32mreturn\u001b[0m \u001b[0mkeyarr\u001b[0m\u001b[0;34m,\u001b[0m \u001b[0mindexer\u001b[0m\u001b[0;34m\u001b[0m\u001b[0;34m\u001b[0m\u001b[0m\n\u001b[1;32m   1256\u001b[0m \u001b[0;34m\u001b[0m\u001b[0m\n",
            "\u001b[0;32m/usr/local/lib/python3.7/dist-packages/pandas/core/indexing.py\u001b[0m in \u001b[0;36m_validate_read_indexer\u001b[0;34m(self, key, indexer, axis, raise_missing)\u001b[0m\n\u001b[1;32m   1302\u001b[0m             \u001b[0;32mif\u001b[0m \u001b[0mraise_missing\u001b[0m\u001b[0;34m:\u001b[0m\u001b[0;34m\u001b[0m\u001b[0;34m\u001b[0m\u001b[0m\n\u001b[1;32m   1303\u001b[0m                 \u001b[0mnot_found\u001b[0m \u001b[0;34m=\u001b[0m \u001b[0mlist\u001b[0m\u001b[0;34m(\u001b[0m\u001b[0mset\u001b[0m\u001b[0;34m(\u001b[0m\u001b[0mkey\u001b[0m\u001b[0;34m)\u001b[0m \u001b[0;34m-\u001b[0m \u001b[0mset\u001b[0m\u001b[0;34m(\u001b[0m\u001b[0max\u001b[0m\u001b[0;34m)\u001b[0m\u001b[0;34m)\u001b[0m\u001b[0;34m\u001b[0m\u001b[0;34m\u001b[0m\u001b[0m\n\u001b[0;32m-> 1304\u001b[0;31m                 \u001b[0;32mraise\u001b[0m \u001b[0mKeyError\u001b[0m\u001b[0;34m(\u001b[0m\u001b[0;34mf\"{not_found} not in index\"\u001b[0m\u001b[0;34m)\u001b[0m\u001b[0;34m\u001b[0m\u001b[0;34m\u001b[0m\u001b[0m\n\u001b[0m\u001b[1;32m   1305\u001b[0m \u001b[0;34m\u001b[0m\u001b[0m\n\u001b[1;32m   1306\u001b[0m             \u001b[0;31m# we skip the warning on Categorical\u001b[0m\u001b[0;34m\u001b[0m\u001b[0;34m\u001b[0m\u001b[0;34m\u001b[0m\u001b[0m\n",
            "\u001b[0;31mKeyError\u001b[0m: \"['Total Youtube', 'Total Social Media', 'Total Gaming', 'Total Google', 'Total Netflix', 'Total Email'] not in index\""
          ]
        }
      ]
    },
    {
      "cell_type": "code",
      "metadata": {
        "id": "6XNPrkEzRX29"
      },
      "source": [
        "data[\"Total DL (Bytes)\"].fillna(data[\"Total DL (Bytes)\"].mean(), inplace = True)\n",
        "data[\"Total UL (Bytes)\"].fillna(data[\"Total UL (Bytes)\"].mean(), inplace = True)\n",
        "data[\"Dur. (ms).1\"].fillna(data[\"Dur. (ms).1\"].mean(), inplace = True)\n"
      ],
      "execution_count": 107,
      "outputs": []
    },
    {
      "cell_type": "code",
      "metadata": {
        "colab": {
          "base_uri": "https://localhost:8080/",
          "height": 181
        },
        "id": "w3OeW4qGRgyx",
        "outputId": "a209ecf1-0ba1-41f9-9dac-615b0f8373a7"
      },
      "source": [
        "data[[\"Dur. (ms).1\", \"Total DL (Bytes)\",\"Total UL (Bytes)\", \"Total Social Media\", \"Total Google\", \"Total Email\", \"Total Youtube\", \"Total Netflix\", \"Total Gaming\"]].describe()"
      ],
      "execution_count": null,
      "outputs": [
        {
          "output_type": "error",
          "ename": "TypeError",
          "evalue": "ignored",
          "traceback": [
            "\u001b[0;31m---------------------------------------------------------------------------\u001b[0m",
            "\u001b[0;31mTypeError\u001b[0m                                 Traceback (most recent call last)",
            "\u001b[0;32m<ipython-input-154-ae4390e813d6>\u001b[0m in \u001b[0;36m<module>\u001b[0;34m()\u001b[0m\n\u001b[0;32m----> 1\u001b[0;31m \u001b[0mdata\u001b[0m\u001b[0;34m[\u001b[0m\u001b[0;34m[\u001b[0m\u001b[0;34m\"Dur. (ms).1\"\u001b[0m\u001b[0;34m,\u001b[0m \u001b[0;34m\"Total DL (Bytes)\"\u001b[0m\u001b[0;34m,\u001b[0m\u001b[0;34m\"Total UL (Bytes)\"\u001b[0m\u001b[0;34m,\u001b[0m \u001b[0;34m\"Total Social Media\"\u001b[0m\u001b[0;34m,\u001b[0m \u001b[0;34m\"Total Google\"\u001b[0m\u001b[0;34m,\u001b[0m \u001b[0;34m\"Total Email\"\u001b[0m\u001b[0;34m,\u001b[0m \u001b[0;34m\"Total Youtube\"\u001b[0m\u001b[0;34m,\u001b[0m \u001b[0;34m\"Total Netflix\"\u001b[0m\u001b[0;34m,\u001b[0m \u001b[0;34m\"Total Gaming\"\u001b[0m\u001b[0;34m]\u001b[0m\u001b[0;34m]\u001b[0m\u001b[0;34m.\u001b[0m\u001b[0mdescribe\u001b[0m\u001b[0;34m(\u001b[0m\u001b[0;34m)\u001b[0m\u001b[0;34m\u001b[0m\u001b[0;34m\u001b[0m\u001b[0m\n\u001b[0m",
            "\u001b[0;31mTypeError\u001b[0m: 'function' object is not subscriptable"
          ]
        }
      ]
    },
    {
      "cell_type": "code",
      "metadata": {
        "colab": {
          "base_uri": "https://localhost:8080/",
          "height": 164
        },
        "id": "P057KnCsRt1i",
        "outputId": "abeefed6-1f6c-4504-e6d4-da491f13a29a"
      },
      "source": [
        "data.skew()"
      ],
      "execution_count": 41,
      "outputs": [
        {
          "output_type": "error",
          "ename": "AttributeError",
          "evalue": "ignored",
          "traceback": [
            "\u001b[0;31m---------------------------------------------------------------------------\u001b[0m",
            "\u001b[0;31mAttributeError\u001b[0m                            Traceback (most recent call last)",
            "\u001b[0;32m<ipython-input-41-b3b431164adb>\u001b[0m in \u001b[0;36m<module>\u001b[0;34m()\u001b[0m\n\u001b[0;32m----> 1\u001b[0;31m \u001b[0mdata\u001b[0m\u001b[0;34m.\u001b[0m\u001b[0mskew\u001b[0m\u001b[0;34m(\u001b[0m\u001b[0;34m)\u001b[0m\u001b[0;34m\u001b[0m\u001b[0;34m\u001b[0m\u001b[0m\n\u001b[0m",
            "\u001b[0;31mAttributeError\u001b[0m: 'function' object has no attribute 'skew'"
          ]
        }
      ]
    },
    {
      "cell_type": "code",
      "metadata": {
        "colab": {
          "base_uri": "https://localhost:8080/",
          "height": 181
        },
        "id": "E1fM1wJIR3hG",
        "outputId": "0b2547c6-49bf-49b8-92fb-b2643c5d8989"
      },
      "source": [
        "data.boxplot(column=['Dur. (ms).1', \"Total DL (Bytes)\",\"Total UL (Bytes)\"])\n",
        "\n"
      ],
      "execution_count": null,
      "outputs": [
        {
          "output_type": "error",
          "ename": "AttributeError",
          "evalue": "ignored",
          "traceback": [
            "\u001b[0;31m---------------------------------------------------------------------------\u001b[0m",
            "\u001b[0;31mAttributeError\u001b[0m                            Traceback (most recent call last)",
            "\u001b[0;32m<ipython-input-157-d8971695c1a9>\u001b[0m in \u001b[0;36m<module>\u001b[0;34m()\u001b[0m\n\u001b[0;32m----> 1\u001b[0;31m \u001b[0mdata\u001b[0m\u001b[0;34m.\u001b[0m\u001b[0mboxplot\u001b[0m\u001b[0;34m(\u001b[0m\u001b[0mcolumn\u001b[0m\u001b[0;34m=\u001b[0m\u001b[0;34m[\u001b[0m\u001b[0;34m'Dur. (ms).1'\u001b[0m\u001b[0;34m,\u001b[0m \u001b[0;34m\"Total DL (Bytes)\"\u001b[0m\u001b[0;34m,\u001b[0m\u001b[0;34m\"Total UL (Bytes)\"\u001b[0m\u001b[0;34m]\u001b[0m\u001b[0;34m)\u001b[0m\u001b[0;34m\u001b[0m\u001b[0;34m\u001b[0m\u001b[0m\n\u001b[0m\u001b[1;32m      2\u001b[0m \u001b[0;34m\u001b[0m\u001b[0m\n",
            "\u001b[0;31mAttributeError\u001b[0m: 'function' object has no attribute 'boxplot'"
          ]
        }
      ]
    },
    {
      "cell_type": "code",
      "metadata": {
        "colab": {
          "base_uri": "https://localhost:8080/",
          "height": 181
        },
        "id": "2Edv-wxJSfT-",
        "outputId": "4a781ead-6a6c-4b75-ff4d-6f11e3b8f846"
      },
      "source": [
        "data[\"Dur. (ms).1\"].hist(bins = 50)\n",
        "plt.title(\"Duration Histogram\")"
      ],
      "execution_count": null,
      "outputs": [
        {
          "output_type": "error",
          "ename": "TypeError",
          "evalue": "ignored",
          "traceback": [
            "\u001b[0;31m---------------------------------------------------------------------------\u001b[0m",
            "\u001b[0;31mTypeError\u001b[0m                                 Traceback (most recent call last)",
            "\u001b[0;32m<ipython-input-158-83e3b8aded05>\u001b[0m in \u001b[0;36m<module>\u001b[0;34m()\u001b[0m\n\u001b[0;32m----> 1\u001b[0;31m \u001b[0mdata\u001b[0m\u001b[0;34m[\u001b[0m\u001b[0;34m\"Dur. (ms).1\"\u001b[0m\u001b[0;34m]\u001b[0m\u001b[0;34m.\u001b[0m\u001b[0mhist\u001b[0m\u001b[0;34m(\u001b[0m\u001b[0mbins\u001b[0m \u001b[0;34m=\u001b[0m \u001b[0;36m50\u001b[0m\u001b[0;34m)\u001b[0m\u001b[0;34m\u001b[0m\u001b[0;34m\u001b[0m\u001b[0m\n\u001b[0m\u001b[1;32m      2\u001b[0m \u001b[0mplt\u001b[0m\u001b[0;34m.\u001b[0m\u001b[0mtitle\u001b[0m\u001b[0;34m(\u001b[0m\u001b[0;34m\"Duration Histogram\"\u001b[0m\u001b[0;34m)\u001b[0m\u001b[0;34m\u001b[0m\u001b[0;34m\u001b[0m\u001b[0m\n",
            "\u001b[0;31mTypeError\u001b[0m: 'function' object is not subscriptable"
          ]
        }
      ]
    },
    {
      "cell_type": "code",
      "metadata": {
        "colab": {
          "base_uri": "https://localhost:8080/",
          "height": 181
        },
        "id": "bgV3UEEDSk0-",
        "outputId": "1817f7e5-e054-4420-d32e-88b9dc89944f"
      },
      "source": [
        "data[\"Total DL (Bytes)\"].hist(bins = 50)\n",
        "plt.title(\"Total Download Histogram\")"
      ],
      "execution_count": null,
      "outputs": [
        {
          "output_type": "error",
          "ename": "TypeError",
          "evalue": "ignored",
          "traceback": [
            "\u001b[0;31m---------------------------------------------------------------------------\u001b[0m",
            "\u001b[0;31mTypeError\u001b[0m                                 Traceback (most recent call last)",
            "\u001b[0;32m<ipython-input-159-a5f6bce9a839>\u001b[0m in \u001b[0;36m<module>\u001b[0;34m()\u001b[0m\n\u001b[0;32m----> 1\u001b[0;31m \u001b[0mdata\u001b[0m\u001b[0;34m[\u001b[0m\u001b[0;34m\"Total DL (Bytes)\"\u001b[0m\u001b[0;34m]\u001b[0m\u001b[0;34m.\u001b[0m\u001b[0mhist\u001b[0m\u001b[0;34m(\u001b[0m\u001b[0mbins\u001b[0m \u001b[0;34m=\u001b[0m \u001b[0;36m50\u001b[0m\u001b[0;34m)\u001b[0m\u001b[0;34m\u001b[0m\u001b[0;34m\u001b[0m\u001b[0m\n\u001b[0m\u001b[1;32m      2\u001b[0m \u001b[0mplt\u001b[0m\u001b[0;34m.\u001b[0m\u001b[0mtitle\u001b[0m\u001b[0;34m(\u001b[0m\u001b[0;34m\"Total Download Histogram\"\u001b[0m\u001b[0;34m)\u001b[0m\u001b[0;34m\u001b[0m\u001b[0;34m\u001b[0m\u001b[0m\n",
            "\u001b[0;31mTypeError\u001b[0m: 'function' object is not subscriptable"
          ]
        }
      ]
    },
    {
      "cell_type": "code",
      "metadata": {
        "colab": {
          "base_uri": "https://localhost:8080/",
          "height": 181
        },
        "id": "V3cNu5AISq6f",
        "outputId": "7186844b-a7c4-484d-fb6e-c528e33baed0"
      },
      "source": [
        "data[\"Total UL (Bytes)\"].hist(bins = 50)\n",
        "plt.title(\"Total Upload Histogram\")"
      ],
      "execution_count": null,
      "outputs": [
        {
          "output_type": "error",
          "ename": "TypeError",
          "evalue": "ignored",
          "traceback": [
            "\u001b[0;31m---------------------------------------------------------------------------\u001b[0m",
            "\u001b[0;31mTypeError\u001b[0m                                 Traceback (most recent call last)",
            "\u001b[0;32m<ipython-input-161-73e8875de95e>\u001b[0m in \u001b[0;36m<module>\u001b[0;34m()\u001b[0m\n\u001b[0;32m----> 1\u001b[0;31m \u001b[0mdf\u001b[0m\u001b[0;34m[\u001b[0m\u001b[0;34m\"Total UL (Bytes)\"\u001b[0m\u001b[0;34m]\u001b[0m\u001b[0;34m.\u001b[0m\u001b[0mhist\u001b[0m\u001b[0;34m(\u001b[0m\u001b[0mbins\u001b[0m \u001b[0;34m=\u001b[0m \u001b[0;36m50\u001b[0m\u001b[0;34m)\u001b[0m\u001b[0;34m\u001b[0m\u001b[0;34m\u001b[0m\u001b[0m\n\u001b[0m\u001b[1;32m      2\u001b[0m \u001b[0mplt\u001b[0m\u001b[0;34m.\u001b[0m\u001b[0mtitle\u001b[0m\u001b[0;34m(\u001b[0m\u001b[0;34m\"Total Upload Histogram\"\u001b[0m\u001b[0;34m)\u001b[0m\u001b[0;34m\u001b[0m\u001b[0;34m\u001b[0m\u001b[0m\n",
            "\u001b[0;31mTypeError\u001b[0m: 'function' object is not subscriptable"
          ]
        }
      ]
    },
    {
      "cell_type": "code",
      "metadata": {
        "colab": {
          "base_uri": "https://localhost:8080/",
          "height": 181
        },
        "id": "Hj8mOI8FTG__",
        "outputId": "e91a4e24-f0f3-488e-a991-d1a5a03d0561"
      },
      "source": [
        "data[\"Total Social Media\"].hist(bins = 50)\n",
        "plt.title(\"Total Social Media Data Histogram\")"
      ],
      "execution_count": null,
      "outputs": [
        {
          "output_type": "error",
          "ename": "TypeError",
          "evalue": "ignored",
          "traceback": [
            "\u001b[0;31m---------------------------------------------------------------------------\u001b[0m",
            "\u001b[0;31mTypeError\u001b[0m                                 Traceback (most recent call last)",
            "\u001b[0;32m<ipython-input-162-594b584ca170>\u001b[0m in \u001b[0;36m<module>\u001b[0;34m()\u001b[0m\n\u001b[0;32m----> 1\u001b[0;31m \u001b[0mdata\u001b[0m\u001b[0;34m[\u001b[0m\u001b[0;34m\"Total Social Media\"\u001b[0m\u001b[0;34m]\u001b[0m\u001b[0;34m.\u001b[0m\u001b[0mhist\u001b[0m\u001b[0;34m(\u001b[0m\u001b[0mbins\u001b[0m \u001b[0;34m=\u001b[0m \u001b[0;36m50\u001b[0m\u001b[0;34m)\u001b[0m\u001b[0;34m\u001b[0m\u001b[0;34m\u001b[0m\u001b[0m\n\u001b[0m\u001b[1;32m      2\u001b[0m \u001b[0mplt\u001b[0m\u001b[0;34m.\u001b[0m\u001b[0mtitle\u001b[0m\u001b[0;34m(\u001b[0m\u001b[0;34m\"Total Social Media Data Histogram\"\u001b[0m\u001b[0;34m)\u001b[0m\u001b[0;34m\u001b[0m\u001b[0;34m\u001b[0m\u001b[0m\n",
            "\u001b[0;31mTypeError\u001b[0m: 'function' object is not subscriptable"
          ]
        }
      ]
    },
    {
      "cell_type": "code",
      "metadata": {
        "colab": {
          "base_uri": "https://localhost:8080/",
          "height": 181
        },
        "id": "0F_xUKQLTK0p",
        "outputId": "6f510512-c433-4611-898f-6445dc328a8c"
      },
      "source": [
        "data[\"Total Google\"].hist(bins = 50)\n",
        "plt.title(\"Total Google Data Histogram\")"
      ],
      "execution_count": null,
      "outputs": [
        {
          "output_type": "error",
          "ename": "TypeError",
          "evalue": "ignored",
          "traceback": [
            "\u001b[0;31m---------------------------------------------------------------------------\u001b[0m",
            "\u001b[0;31mTypeError\u001b[0m                                 Traceback (most recent call last)",
            "\u001b[0;32m<ipython-input-163-57d34fbc3f3a>\u001b[0m in \u001b[0;36m<module>\u001b[0;34m()\u001b[0m\n\u001b[0;32m----> 1\u001b[0;31m \u001b[0mdata\u001b[0m\u001b[0;34m[\u001b[0m\u001b[0;34m\"Total Google\"\u001b[0m\u001b[0;34m]\u001b[0m\u001b[0;34m.\u001b[0m\u001b[0mhist\u001b[0m\u001b[0;34m(\u001b[0m\u001b[0mbins\u001b[0m \u001b[0;34m=\u001b[0m \u001b[0;36m50\u001b[0m\u001b[0;34m)\u001b[0m\u001b[0;34m\u001b[0m\u001b[0;34m\u001b[0m\u001b[0m\n\u001b[0m\u001b[1;32m      2\u001b[0m \u001b[0mplt\u001b[0m\u001b[0;34m.\u001b[0m\u001b[0mtitle\u001b[0m\u001b[0;34m(\u001b[0m\u001b[0;34m\"Total Google Data Histogram\"\u001b[0m\u001b[0;34m)\u001b[0m\u001b[0;34m\u001b[0m\u001b[0;34m\u001b[0m\u001b[0m\n",
            "\u001b[0;31mTypeError\u001b[0m: 'function' object is not subscriptable"
          ]
        }
      ]
    },
    {
      "cell_type": "code",
      "metadata": {
        "colab": {
          "base_uri": "https://localhost:8080/",
          "height": 181
        },
        "id": "vsq1M54pTUae",
        "outputId": "a689624d-a418-4dd8-fdd8-c4b92b4b09d4"
      },
      "source": [
        "data[\"Total Email\"].hist(bins = 50)\n",
        "plt.title(\"Total Email Data Histogram\")"
      ],
      "execution_count": null,
      "outputs": [
        {
          "output_type": "error",
          "ename": "TypeError",
          "evalue": "ignored",
          "traceback": [
            "\u001b[0;31m---------------------------------------------------------------------------\u001b[0m",
            "\u001b[0;31mTypeError\u001b[0m                                 Traceback (most recent call last)",
            "\u001b[0;32m<ipython-input-164-8cf980423457>\u001b[0m in \u001b[0;36m<module>\u001b[0;34m()\u001b[0m\n\u001b[0;32m----> 1\u001b[0;31m \u001b[0mdata\u001b[0m\u001b[0;34m[\u001b[0m\u001b[0;34m\"Total Email\"\u001b[0m\u001b[0;34m]\u001b[0m\u001b[0;34m.\u001b[0m\u001b[0mhist\u001b[0m\u001b[0;34m(\u001b[0m\u001b[0mbins\u001b[0m \u001b[0;34m=\u001b[0m \u001b[0;36m50\u001b[0m\u001b[0;34m)\u001b[0m\u001b[0;34m\u001b[0m\u001b[0;34m\u001b[0m\u001b[0m\n\u001b[0m\u001b[1;32m      2\u001b[0m \u001b[0mplt\u001b[0m\u001b[0;34m.\u001b[0m\u001b[0mtitle\u001b[0m\u001b[0;34m(\u001b[0m\u001b[0;34m\"Total Email Data Histogram\"\u001b[0m\u001b[0;34m)\u001b[0m\u001b[0;34m\u001b[0m\u001b[0;34m\u001b[0m\u001b[0m\n",
            "\u001b[0;31mTypeError\u001b[0m: 'function' object is not subscriptable"
          ]
        }
      ]
    },
    {
      "cell_type": "code",
      "metadata": {
        "colab": {
          "base_uri": "https://localhost:8080/",
          "height": 181
        },
        "id": "ivF8yZiQTYT7",
        "outputId": "14da3c1b-9fa4-48b8-bbb1-283a30aa0ca5"
      },
      "source": [
        "data[\"Total Youtube\"].hist(bins = 50)\n",
        "plt.title(\"Total Youtube Data Histogram\")"
      ],
      "execution_count": null,
      "outputs": [
        {
          "output_type": "error",
          "ename": "TypeError",
          "evalue": "ignored",
          "traceback": [
            "\u001b[0;31m---------------------------------------------------------------------------\u001b[0m",
            "\u001b[0;31mTypeError\u001b[0m                                 Traceback (most recent call last)",
            "\u001b[0;32m<ipython-input-165-6d6b49ac192a>\u001b[0m in \u001b[0;36m<module>\u001b[0;34m()\u001b[0m\n\u001b[0;32m----> 1\u001b[0;31m \u001b[0mdata\u001b[0m\u001b[0;34m[\u001b[0m\u001b[0;34m\"Total Youtube\"\u001b[0m\u001b[0;34m]\u001b[0m\u001b[0;34m.\u001b[0m\u001b[0mhist\u001b[0m\u001b[0;34m(\u001b[0m\u001b[0mbins\u001b[0m \u001b[0;34m=\u001b[0m \u001b[0;36m50\u001b[0m\u001b[0;34m)\u001b[0m\u001b[0;34m\u001b[0m\u001b[0;34m\u001b[0m\u001b[0m\n\u001b[0m\u001b[1;32m      2\u001b[0m \u001b[0mplt\u001b[0m\u001b[0;34m.\u001b[0m\u001b[0mtitle\u001b[0m\u001b[0;34m(\u001b[0m\u001b[0;34m\"Total Youtube Data Histogram\"\u001b[0m\u001b[0;34m)\u001b[0m\u001b[0;34m\u001b[0m\u001b[0;34m\u001b[0m\u001b[0m\n",
            "\u001b[0;31mTypeError\u001b[0m: 'function' object is not subscriptable"
          ]
        }
      ]
    },
    {
      "cell_type": "code",
      "metadata": {
        "id": "r3LUZjILTeGW",
        "colab": {
          "base_uri": "https://localhost:8080/",
          "height": 181
        },
        "outputId": "5319f1d1-fdad-4a42-9f09-e394611c440a"
      },
      "source": [
        "data[\"Total Netflix\"].hist(bins = 50)\n",
        "plt.title(\"Total Netflix Data Histogram\")\n"
      ],
      "execution_count": 45,
      "outputs": [
        {
          "output_type": "error",
          "ename": "TypeError",
          "evalue": "ignored",
          "traceback": [
            "\u001b[0;31m---------------------------------------------------------------------------\u001b[0m",
            "\u001b[0;31mTypeError\u001b[0m                                 Traceback (most recent call last)",
            "\u001b[0;32m<ipython-input-45-e453bb56e9d4>\u001b[0m in \u001b[0;36m<module>\u001b[0;34m()\u001b[0m\n\u001b[0;32m----> 1\u001b[0;31m \u001b[0mdata\u001b[0m\u001b[0;34m[\u001b[0m\u001b[0;34m\"Total Netflix\"\u001b[0m\u001b[0;34m]\u001b[0m\u001b[0;34m.\u001b[0m\u001b[0mhist\u001b[0m\u001b[0;34m(\u001b[0m\u001b[0mbins\u001b[0m \u001b[0;34m=\u001b[0m \u001b[0;36m50\u001b[0m\u001b[0;34m)\u001b[0m\u001b[0;34m\u001b[0m\u001b[0;34m\u001b[0m\u001b[0m\n\u001b[0m\u001b[1;32m      2\u001b[0m \u001b[0mplt\u001b[0m\u001b[0;34m.\u001b[0m\u001b[0mtitle\u001b[0m\u001b[0;34m(\u001b[0m\u001b[0;34m\"Total Netflix Data Histogram\"\u001b[0m\u001b[0;34m)\u001b[0m\u001b[0;34m\u001b[0m\u001b[0;34m\u001b[0m\u001b[0m\n",
            "\u001b[0;31mTypeError\u001b[0m: 'function' object is not subscriptable"
          ]
        }
      ]
    },
    {
      "cell_type": "code",
      "metadata": {
        "id": "0VrPk2sgURQB",
        "colab": {
          "base_uri": "https://localhost:8080/",
          "height": 181
        },
        "outputId": "0d4a7a15-4e3e-47b2-ae0b-983cae13cac2"
      },
      "source": [
        "data[\"Total Gaming\"].hist(bins = 50)\n",
        "plt.title(\"Total Gaming Data Histogram\")"
      ],
      "execution_count": 46,
      "outputs": [
        {
          "output_type": "error",
          "ename": "TypeError",
          "evalue": "ignored",
          "traceback": [
            "\u001b[0;31m---------------------------------------------------------------------------\u001b[0m",
            "\u001b[0;31mTypeError\u001b[0m                                 Traceback (most recent call last)",
            "\u001b[0;32m<ipython-input-46-4275d12f4417>\u001b[0m in \u001b[0;36m<module>\u001b[0;34m()\u001b[0m\n\u001b[0;32m----> 1\u001b[0;31m \u001b[0mdata\u001b[0m\u001b[0;34m[\u001b[0m\u001b[0;34m\"Total Gaming\"\u001b[0m\u001b[0;34m]\u001b[0m\u001b[0;34m.\u001b[0m\u001b[0mhist\u001b[0m\u001b[0;34m(\u001b[0m\u001b[0mbins\u001b[0m \u001b[0;34m=\u001b[0m \u001b[0;36m50\u001b[0m\u001b[0;34m)\u001b[0m\u001b[0;34m\u001b[0m\u001b[0;34m\u001b[0m\u001b[0m\n\u001b[0m\u001b[1;32m      2\u001b[0m \u001b[0mplt\u001b[0m\u001b[0;34m.\u001b[0m\u001b[0mtitle\u001b[0m\u001b[0;34m(\u001b[0m\u001b[0;34m\"Total Gaming Data Histogram\"\u001b[0m\u001b[0;34m)\u001b[0m\u001b[0;34m\u001b[0m\u001b[0;34m\u001b[0m\u001b[0m\n",
            "\u001b[0;31mTypeError\u001b[0m: 'function' object is not subscriptable"
          ]
        }
      ]
    },
    {
      "cell_type": "code",
      "metadata": {
        "id": "xels6r9aUWVN",
        "colab": {
          "base_uri": "https://localhost:8080/",
          "height": 232
        },
        "outputId": "4611aab1-d000-4f20-a6a8-c0e3fd7f258d"
      },
      "source": [
        "total_usage = app_data[[\"Total Google\", \"Total Youtube\", \"Total Netflix\", \"Total Email\", \"Total Gaming\", \"Total Social Media\", \"Total Other\"]]\n",
        "ind = np.arange(7)\n",
        "width =0.8\n",
        "\n",
        "plt.xticks(ind , (\"Google\", \"Youtube\", \"Netflix\", \"Email\", \"Gaming\", \"Social\", \"Other\"))\n",
        "plt.bar(ind, total_usage.sum(), width, label = \"Total Usage\")\n",
        "plt.title(\"App Data usage\")"
      ],
      "execution_count": 44,
      "outputs": [
        {
          "output_type": "error",
          "ename": "NameError",
          "evalue": "ignored",
          "traceback": [
            "\u001b[0;31m---------------------------------------------------------------------------\u001b[0m",
            "\u001b[0;31mNameError\u001b[0m                                 Traceback (most recent call last)",
            "\u001b[0;32m<ipython-input-44-a04a6c40920c>\u001b[0m in \u001b[0;36m<module>\u001b[0;34m()\u001b[0m\n\u001b[0;32m----> 1\u001b[0;31m \u001b[0mtotal_usage\u001b[0m \u001b[0;34m=\u001b[0m \u001b[0mapp_data\u001b[0m\u001b[0;34m[\u001b[0m\u001b[0;34m[\u001b[0m\u001b[0;34m\"Total Google\"\u001b[0m\u001b[0;34m,\u001b[0m \u001b[0;34m\"Total Youtube\"\u001b[0m\u001b[0;34m,\u001b[0m \u001b[0;34m\"Total Netflix\"\u001b[0m\u001b[0;34m,\u001b[0m \u001b[0;34m\"Total Email\"\u001b[0m\u001b[0;34m,\u001b[0m \u001b[0;34m\"Total Gaming\"\u001b[0m\u001b[0;34m,\u001b[0m \u001b[0;34m\"Total Social Media\"\u001b[0m\u001b[0;34m,\u001b[0m \u001b[0;34m\"Total Other\"\u001b[0m\u001b[0;34m]\u001b[0m\u001b[0;34m]\u001b[0m\u001b[0;34m\u001b[0m\u001b[0;34m\u001b[0m\u001b[0m\n\u001b[0m\u001b[1;32m      2\u001b[0m \u001b[0mind\u001b[0m \u001b[0;34m=\u001b[0m \u001b[0mnp\u001b[0m\u001b[0;34m.\u001b[0m\u001b[0marange\u001b[0m\u001b[0;34m(\u001b[0m\u001b[0;36m7\u001b[0m\u001b[0;34m)\u001b[0m\u001b[0;34m\u001b[0m\u001b[0;34m\u001b[0m\u001b[0m\n\u001b[1;32m      3\u001b[0m \u001b[0mwidth\u001b[0m \u001b[0;34m=\u001b[0m\u001b[0;36m0.8\u001b[0m\u001b[0;34m\u001b[0m\u001b[0;34m\u001b[0m\u001b[0m\n\u001b[1;32m      4\u001b[0m \u001b[0;34m\u001b[0m\u001b[0m\n\u001b[1;32m      5\u001b[0m \u001b[0mplt\u001b[0m\u001b[0;34m.\u001b[0m\u001b[0mxticks\u001b[0m\u001b[0;34m(\u001b[0m\u001b[0mind\u001b[0m \u001b[0;34m,\u001b[0m \u001b[0;34m(\u001b[0m\u001b[0;34m\"Google\"\u001b[0m\u001b[0;34m,\u001b[0m \u001b[0;34m\"Youtube\"\u001b[0m\u001b[0;34m,\u001b[0m \u001b[0;34m\"Netflix\"\u001b[0m\u001b[0;34m,\u001b[0m \u001b[0;34m\"Email\"\u001b[0m\u001b[0;34m,\u001b[0m \u001b[0;34m\"Gaming\"\u001b[0m\u001b[0;34m,\u001b[0m \u001b[0;34m\"Social\"\u001b[0m\u001b[0;34m,\u001b[0m \u001b[0;34m\"Other\"\u001b[0m\u001b[0;34m)\u001b[0m\u001b[0;34m)\u001b[0m\u001b[0;34m\u001b[0m\u001b[0;34m\u001b[0m\u001b[0m\n",
            "\u001b[0;31mNameError\u001b[0m: name 'app_data' is not defined"
          ]
        }
      ]
    }
  ]
}