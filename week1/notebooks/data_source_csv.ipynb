{
  "nbformat": 4,
  "nbformat_minor": 0,
  "metadata": {
    "colab": {
      "name": "data_source csv.ipynb",
      "provenance": [],
      "collapsed_sections": [],
      "mount_file_id": "1tAsdKZTzj45etXM7vOYvuZXlEJ-9OrD6",
      "authorship_tag": "ABX9TyMAZA0MgnQhpk308yw5nS3O",
      "include_colab_link": true
    },
    "kernelspec": {
      "name": "python3",
      "display_name": "Python 3"
    },
    "language_info": {
      "name": "python"
    }
  },
  "cells": [
    {
      "cell_type": "markdown",
      "metadata": {
        "id": "view-in-github",
        "colab_type": "text"
      },
      "source": [
        "<a href=\"https://colab.research.google.com/github/bezawitalemyimer/10xAc/blob/main/week1/notebooks/data_source_csv.ipynb\" target=\"_parent\"><img src=\"https://colab.research.google.com/assets/colab-badge.svg\" alt=\"Open In Colab\"/></a>"
      ]
    },
    {
      "cell_type": "code",
      "metadata": {
        "colab": {
          "base_uri": "https://localhost:8080/"
        },
        "id": "vM8ESI0WcCVq",
        "outputId": "100dae41-6e8b-47e5-8742-b81e0e75010a"
      },
      "source": [
        "from google.colab import drive\n",
        "drive.mount(\"/content/drive\")"
      ],
      "execution_count": null,
      "outputs": [
        {
          "output_type": "stream",
          "text": [
            "Drive already mounted at /content/drive; to attempt to forcibly remount, call drive.mount(\"/content/drive\", force_remount=True).\n"
          ],
          "name": "stdout"
        }
      ]
    },
    {
      "cell_type": "markdown",
      "metadata": {
        "id": "pbIVZg4YT3qS"
      },
      "source": [
        "Task 1 - User Overview analysis"
      ]
    },
    {
      "cell_type": "code",
      "metadata": {
        "id": "2Zr2jZb2SUFx"
      },
      "source": [
        "#imports \n",
        "import pandas as pd      # data manipulation transformation \n",
        "import numpy as np       # numerical data analysis \n",
        "import matplotlib.pyplot as plt\n",
        "import seaborn as sns    # data visualization\n",
        "%matplotlib inline \n",
        "%config InlineBackend.figure_format = 'retina' #higher resolution\n",
        "# importing the style package\n",
        "from matplotlib import style\n",
        "# using the style for the plot\n",
        "plt.style.use('ggplot')\n",
        "\n"
      ],
      "execution_count": 68,
      "outputs": []
    },
    {
      "cell_type": "code",
      "metadata": {
        "colab": {
          "base_uri": "https://localhost:8080/",
          "height": 513
        },
        "id": "m6UwJKjUdMEu",
        "outputId": "e5e9a620-af70-4917-90dc-7eb3d85ee255"
      },
      "source": [
        "import warnings\n",
        "warnings.filterwarnings('ignore')\n",
        "path =\"/content/drive/MyDrive/week 1 colab /Week1_challenge_data_source.csv\"\n",
        "data = pd.read_csv(path)\n",
        " #data set is load and stored in pandas data frame\n",
        "data.head()"
      ],
      "execution_count": 69,
      "outputs": [
        {
          "output_type": "execute_result",
          "data": {
            "text/html": [
              "<div>\n",
              "<style scoped>\n",
              "    .dataframe tbody tr th:only-of-type {\n",
              "        vertical-align: middle;\n",
              "    }\n",
              "\n",
              "    .dataframe tbody tr th {\n",
              "        vertical-align: top;\n",
              "    }\n",
              "\n",
              "    .dataframe thead th {\n",
              "        text-align: right;\n",
              "    }\n",
              "</style>\n",
              "<table border=\"1\" class=\"dataframe\">\n",
              "  <thead>\n",
              "    <tr style=\"text-align: right;\">\n",
              "      <th></th>\n",
              "      <th>Bearer Id</th>\n",
              "      <th>Start</th>\n",
              "      <th>Start ms</th>\n",
              "      <th>End</th>\n",
              "      <th>End ms</th>\n",
              "      <th>Dur. (ms)</th>\n",
              "      <th>IMSI</th>\n",
              "      <th>MSISDN/Number</th>\n",
              "      <th>IMEI</th>\n",
              "      <th>Last Location Name</th>\n",
              "      <th>Avg RTT DL (ms)</th>\n",
              "      <th>Avg RTT UL (ms)</th>\n",
              "      <th>Avg Bearer TP DL (kbps)</th>\n",
              "      <th>Avg Bearer TP UL (kbps)</th>\n",
              "      <th>TCP DL Retrans. Vol (Bytes)</th>\n",
              "      <th>TCP UL Retrans. Vol (Bytes)</th>\n",
              "      <th>DL TP &lt; 50 Kbps (%)</th>\n",
              "      <th>50 Kbps &lt; DL TP &lt; 250 Kbps (%)</th>\n",
              "      <th>250 Kbps &lt; DL TP &lt; 1 Mbps (%)</th>\n",
              "      <th>DL TP &gt; 1 Mbps (%)</th>\n",
              "      <th>UL TP &lt; 10 Kbps (%)</th>\n",
              "      <th>10 Kbps &lt; UL TP &lt; 50 Kbps (%)</th>\n",
              "      <th>50 Kbps &lt; UL TP &lt; 300 Kbps (%)</th>\n",
              "      <th>UL TP &gt; 300 Kbps (%)</th>\n",
              "      <th>HTTP DL (Bytes)</th>\n",
              "      <th>HTTP UL (Bytes)</th>\n",
              "      <th>Activity Duration DL (ms)</th>\n",
              "      <th>Activity Duration UL (ms)</th>\n",
              "      <th>Dur. (ms).1</th>\n",
              "      <th>Handset Manufacturer</th>\n",
              "      <th>Handset Type</th>\n",
              "      <th>Nb of sec with 125000B &lt; Vol DL</th>\n",
              "      <th>Nb of sec with 1250B &lt; Vol UL &lt; 6250B</th>\n",
              "      <th>Nb of sec with 31250B &lt; Vol DL &lt; 125000B</th>\n",
              "      <th>Nb of sec with 37500B &lt; Vol UL</th>\n",
              "      <th>Nb of sec with 6250B &lt; Vol DL &lt; 31250B</th>\n",
              "      <th>Nb of sec with 6250B &lt; Vol UL &lt; 37500B</th>\n",
              "      <th>Nb of sec with Vol DL &lt; 6250B</th>\n",
              "      <th>Nb of sec with Vol UL &lt; 1250B</th>\n",
              "      <th>Social Media DL (Bytes)</th>\n",
              "      <th>Social Media UL (Bytes)</th>\n",
              "      <th>Google DL (Bytes)</th>\n",
              "      <th>Google UL (Bytes)</th>\n",
              "      <th>Email DL (Bytes)</th>\n",
              "      <th>Email UL (Bytes)</th>\n",
              "      <th>Youtube DL (Bytes)</th>\n",
              "      <th>Youtube UL (Bytes)</th>\n",
              "      <th>Netflix DL (Bytes)</th>\n",
              "      <th>Netflix UL (Bytes)</th>\n",
              "      <th>Gaming DL (Bytes)</th>\n",
              "      <th>Gaming UL (Bytes)</th>\n",
              "      <th>Other DL (Bytes)</th>\n",
              "      <th>Other UL (Bytes)</th>\n",
              "      <th>Total UL (Bytes)</th>\n",
              "      <th>Total DL (Bytes)</th>\n",
              "    </tr>\n",
              "  </thead>\n",
              "  <tbody>\n",
              "    <tr>\n",
              "      <th>0</th>\n",
              "      <td>1.311448e+19</td>\n",
              "      <td>4/4/2019 12:01</td>\n",
              "      <td>770.0</td>\n",
              "      <td>4/25/2019 14:35</td>\n",
              "      <td>662.0</td>\n",
              "      <td>1823652.0</td>\n",
              "      <td>2.082014e+14</td>\n",
              "      <td>3.366496e+10</td>\n",
              "      <td>3.552121e+13</td>\n",
              "      <td>9164566995485190</td>\n",
              "      <td>42.0</td>\n",
              "      <td>5.0</td>\n",
              "      <td>23.0</td>\n",
              "      <td>44.0</td>\n",
              "      <td>NaN</td>\n",
              "      <td>NaN</td>\n",
              "      <td>100.0</td>\n",
              "      <td>0.0</td>\n",
              "      <td>0.0</td>\n",
              "      <td>0.0</td>\n",
              "      <td>100.0</td>\n",
              "      <td>0.0</td>\n",
              "      <td>0.0</td>\n",
              "      <td>0.0</td>\n",
              "      <td>NaN</td>\n",
              "      <td>NaN</td>\n",
              "      <td>37624.0</td>\n",
              "      <td>38787.0</td>\n",
              "      <td>1.823653e+09</td>\n",
              "      <td>Samsung</td>\n",
              "      <td>Samsung Galaxy A5 Sm-A520F</td>\n",
              "      <td>NaN</td>\n",
              "      <td>NaN</td>\n",
              "      <td>NaN</td>\n",
              "      <td>NaN</td>\n",
              "      <td>NaN</td>\n",
              "      <td>NaN</td>\n",
              "      <td>213.0</td>\n",
              "      <td>214.0</td>\n",
              "      <td>1545765.0</td>\n",
              "      <td>24420.0</td>\n",
              "      <td>1634479.0</td>\n",
              "      <td>1271433.0</td>\n",
              "      <td>3563542.0</td>\n",
              "      <td>137762.0</td>\n",
              "      <td>15854611.0</td>\n",
              "      <td>2501332.0</td>\n",
              "      <td>8198936.0</td>\n",
              "      <td>9656251.0</td>\n",
              "      <td>278082303.0</td>\n",
              "      <td>14344150.0</td>\n",
              "      <td>171744450.0</td>\n",
              "      <td>8814393.0</td>\n",
              "      <td>36749741.0</td>\n",
              "      <td>308879636.0</td>\n",
              "    </tr>\n",
              "    <tr>\n",
              "      <th>1</th>\n",
              "      <td>1.311448e+19</td>\n",
              "      <td>4/9/2019 13:04</td>\n",
              "      <td>235.0</td>\n",
              "      <td>4/25/2019 8:15</td>\n",
              "      <td>606.0</td>\n",
              "      <td>1365104.0</td>\n",
              "      <td>2.082019e+14</td>\n",
              "      <td>3.368185e+10</td>\n",
              "      <td>3.579401e+13</td>\n",
              "      <td>L77566A</td>\n",
              "      <td>65.0</td>\n",
              "      <td>5.0</td>\n",
              "      <td>16.0</td>\n",
              "      <td>26.0</td>\n",
              "      <td>NaN</td>\n",
              "      <td>NaN</td>\n",
              "      <td>100.0</td>\n",
              "      <td>0.0</td>\n",
              "      <td>0.0</td>\n",
              "      <td>0.0</td>\n",
              "      <td>100.0</td>\n",
              "      <td>0.0</td>\n",
              "      <td>0.0</td>\n",
              "      <td>0.0</td>\n",
              "      <td>NaN</td>\n",
              "      <td>NaN</td>\n",
              "      <td>168.0</td>\n",
              "      <td>3560.0</td>\n",
              "      <td>1.365104e+09</td>\n",
              "      <td>Samsung</td>\n",
              "      <td>Samsung Galaxy J5 (Sm-J530)</td>\n",
              "      <td>NaN</td>\n",
              "      <td>NaN</td>\n",
              "      <td>NaN</td>\n",
              "      <td>NaN</td>\n",
              "      <td>NaN</td>\n",
              "      <td>NaN</td>\n",
              "      <td>971.0</td>\n",
              "      <td>1022.0</td>\n",
              "      <td>1926113.0</td>\n",
              "      <td>7165.0</td>\n",
              "      <td>3493924.0</td>\n",
              "      <td>920172.0</td>\n",
              "      <td>629046.0</td>\n",
              "      <td>308339.0</td>\n",
              "      <td>20247395.0</td>\n",
              "      <td>19111729.0</td>\n",
              "      <td>18338413.0</td>\n",
              "      <td>17227132.0</td>\n",
              "      <td>608750074.0</td>\n",
              "      <td>1170709.0</td>\n",
              "      <td>526904238.0</td>\n",
              "      <td>15055145.0</td>\n",
              "      <td>53800391.0</td>\n",
              "      <td>653384965.0</td>\n",
              "    </tr>\n",
              "    <tr>\n",
              "      <th>2</th>\n",
              "      <td>1.311448e+19</td>\n",
              "      <td>4/9/2019 17:42</td>\n",
              "      <td>1.0</td>\n",
              "      <td>4/25/2019 11:58</td>\n",
              "      <td>652.0</td>\n",
              "      <td>1361762.0</td>\n",
              "      <td>2.082003e+14</td>\n",
              "      <td>3.376063e+10</td>\n",
              "      <td>3.528151e+13</td>\n",
              "      <td>D42335A</td>\n",
              "      <td>NaN</td>\n",
              "      <td>NaN</td>\n",
              "      <td>6.0</td>\n",
              "      <td>9.0</td>\n",
              "      <td>NaN</td>\n",
              "      <td>NaN</td>\n",
              "      <td>100.0</td>\n",
              "      <td>0.0</td>\n",
              "      <td>0.0</td>\n",
              "      <td>0.0</td>\n",
              "      <td>100.0</td>\n",
              "      <td>0.0</td>\n",
              "      <td>0.0</td>\n",
              "      <td>0.0</td>\n",
              "      <td>NaN</td>\n",
              "      <td>NaN</td>\n",
              "      <td>0.0</td>\n",
              "      <td>0.0</td>\n",
              "      <td>1.361763e+09</td>\n",
              "      <td>Samsung</td>\n",
              "      <td>Samsung Galaxy A8 (2018)</td>\n",
              "      <td>NaN</td>\n",
              "      <td>NaN</td>\n",
              "      <td>NaN</td>\n",
              "      <td>NaN</td>\n",
              "      <td>NaN</td>\n",
              "      <td>NaN</td>\n",
              "      <td>751.0</td>\n",
              "      <td>695.0</td>\n",
              "      <td>1684053.0</td>\n",
              "      <td>42224.0</td>\n",
              "      <td>8535055.0</td>\n",
              "      <td>1694064.0</td>\n",
              "      <td>2690151.0</td>\n",
              "      <td>672973.0</td>\n",
              "      <td>19725661.0</td>\n",
              "      <td>14699576.0</td>\n",
              "      <td>17587794.0</td>\n",
              "      <td>6163408.0</td>\n",
              "      <td>229584621.0</td>\n",
              "      <td>395630.0</td>\n",
              "      <td>410692588.0</td>\n",
              "      <td>4215763.0</td>\n",
              "      <td>27883638.0</td>\n",
              "      <td>279807335.0</td>\n",
              "    </tr>\n",
              "    <tr>\n",
              "      <th>3</th>\n",
              "      <td>1.311448e+19</td>\n",
              "      <td>4/10/2019 0:31</td>\n",
              "      <td>486.0</td>\n",
              "      <td>4/25/2019 7:36</td>\n",
              "      <td>171.0</td>\n",
              "      <td>1321509.0</td>\n",
              "      <td>2.082014e+14</td>\n",
              "      <td>3.375034e+10</td>\n",
              "      <td>3.535661e+13</td>\n",
              "      <td>T21824A</td>\n",
              "      <td>NaN</td>\n",
              "      <td>NaN</td>\n",
              "      <td>44.0</td>\n",
              "      <td>44.0</td>\n",
              "      <td>NaN</td>\n",
              "      <td>NaN</td>\n",
              "      <td>100.0</td>\n",
              "      <td>0.0</td>\n",
              "      <td>0.0</td>\n",
              "      <td>0.0</td>\n",
              "      <td>100.0</td>\n",
              "      <td>0.0</td>\n",
              "      <td>0.0</td>\n",
              "      <td>0.0</td>\n",
              "      <td>NaN</td>\n",
              "      <td>NaN</td>\n",
              "      <td>3330.0</td>\n",
              "      <td>37882.0</td>\n",
              "      <td>1.321510e+09</td>\n",
              "      <td>undefined</td>\n",
              "      <td>undefined</td>\n",
              "      <td>NaN</td>\n",
              "      <td>NaN</td>\n",
              "      <td>NaN</td>\n",
              "      <td>NaN</td>\n",
              "      <td>NaN</td>\n",
              "      <td>NaN</td>\n",
              "      <td>17.0</td>\n",
              "      <td>207.0</td>\n",
              "      <td>644121.0</td>\n",
              "      <td>13372.0</td>\n",
              "      <td>9023734.0</td>\n",
              "      <td>2788027.0</td>\n",
              "      <td>1439754.0</td>\n",
              "      <td>631229.0</td>\n",
              "      <td>21388122.0</td>\n",
              "      <td>15146643.0</td>\n",
              "      <td>13994646.0</td>\n",
              "      <td>1097942.0</td>\n",
              "      <td>799538153.0</td>\n",
              "      <td>10849722.0</td>\n",
              "      <td>749039933.0</td>\n",
              "      <td>12797283.0</td>\n",
              "      <td>43324218.0</td>\n",
              "      <td>846028530.0</td>\n",
              "    </tr>\n",
              "    <tr>\n",
              "      <th>4</th>\n",
              "      <td>1.311448e+19</td>\n",
              "      <td>4/12/2019 20:10</td>\n",
              "      <td>565.0</td>\n",
              "      <td>4/25/2019 10:40</td>\n",
              "      <td>954.0</td>\n",
              "      <td>1089009.0</td>\n",
              "      <td>2.082014e+14</td>\n",
              "      <td>3.369980e+10</td>\n",
              "      <td>3.540701e+13</td>\n",
              "      <td>D88865A</td>\n",
              "      <td>NaN</td>\n",
              "      <td>NaN</td>\n",
              "      <td>6.0</td>\n",
              "      <td>9.0</td>\n",
              "      <td>NaN</td>\n",
              "      <td>NaN</td>\n",
              "      <td>100.0</td>\n",
              "      <td>0.0</td>\n",
              "      <td>0.0</td>\n",
              "      <td>0.0</td>\n",
              "      <td>100.0</td>\n",
              "      <td>0.0</td>\n",
              "      <td>0.0</td>\n",
              "      <td>0.0</td>\n",
              "      <td>NaN</td>\n",
              "      <td>NaN</td>\n",
              "      <td>0.0</td>\n",
              "      <td>0.0</td>\n",
              "      <td>1.089009e+09</td>\n",
              "      <td>Samsung</td>\n",
              "      <td>Samsung Sm-G390F</td>\n",
              "      <td>NaN</td>\n",
              "      <td>NaN</td>\n",
              "      <td>NaN</td>\n",
              "      <td>NaN</td>\n",
              "      <td>NaN</td>\n",
              "      <td>NaN</td>\n",
              "      <td>607.0</td>\n",
              "      <td>604.0</td>\n",
              "      <td>862600.0</td>\n",
              "      <td>50188.0</td>\n",
              "      <td>6248284.0</td>\n",
              "      <td>1500559.0</td>\n",
              "      <td>1936496.0</td>\n",
              "      <td>173853.0</td>\n",
              "      <td>15259380.0</td>\n",
              "      <td>18962873.0</td>\n",
              "      <td>17124581.0</td>\n",
              "      <td>415218.0</td>\n",
              "      <td>527707248.0</td>\n",
              "      <td>3529801.0</td>\n",
              "      <td>550709500.0</td>\n",
              "      <td>13910322.0</td>\n",
              "      <td>38542814.0</td>\n",
              "      <td>569138589.0</td>\n",
              "    </tr>\n",
              "  </tbody>\n",
              "</table>\n",
              "</div>"
            ],
            "text/plain": [
              "      Bearer Id            Start  ...  Total UL (Bytes) Total DL (Bytes)\n",
              "0  1.311448e+19   4/4/2019 12:01  ...        36749741.0      308879636.0\n",
              "1  1.311448e+19   4/9/2019 13:04  ...        53800391.0      653384965.0\n",
              "2  1.311448e+19   4/9/2019 17:42  ...        27883638.0      279807335.0\n",
              "3  1.311448e+19   4/10/2019 0:31  ...        43324218.0      846028530.0\n",
              "4  1.311448e+19  4/12/2019 20:10  ...        38542814.0      569138589.0\n",
              "\n",
              "[5 rows x 55 columns]"
            ]
          },
          "metadata": {
            "tags": []
          },
          "execution_count": 69
        }
      ]
    },
    {
      "cell_type": "code",
      "metadata": {
        "colab": {
          "base_uri": "https://localhost:8080/"
        },
        "id": "7nXNrLVUiOtN",
        "outputId": "b18fc579-5c63-45b2-c413-4e9ea5e67201"
      },
      "source": [
        "data.describe"
      ],
      "execution_count": 70,
      "outputs": [
        {
          "output_type": "execute_result",
          "data": {
            "text/plain": [
              "<bound method NDFrame.describe of            Bearer Id            Start  ...  Total UL (Bytes) Total DL (Bytes)\n",
              "0       1.311448e+19   4/4/2019 12:01  ...        36749741.0      308879636.0\n",
              "1       1.311448e+19   4/9/2019 13:04  ...        53800391.0      653384965.0\n",
              "2       1.311448e+19   4/9/2019 17:42  ...        27883638.0      279807335.0\n",
              "3       1.311448e+19   4/10/2019 0:31  ...        43324218.0      846028530.0\n",
              "4       1.311448e+19  4/12/2019 20:10  ...        38542814.0      569138589.0\n",
              "...              ...              ...  ...               ...              ...\n",
              "149996  7.277826e+18   4/29/2019 7:28  ...        57628851.0      574175259.0\n",
              "149997  7.349883e+18   4/29/2019 7:28  ...        39135081.0      666648844.0\n",
              "149998  1.311448e+19   4/29/2019 7:28  ...        34912224.0      592786405.0\n",
              "149999  1.311448e+19   4/29/2019 7:28  ...        29626096.0      371895920.0\n",
              "150000           NaN              NaN  ...               NaN              NaN\n",
              "\n",
              "[150001 rows x 55 columns]>"
            ]
          },
          "metadata": {
            "tags": []
          },
          "execution_count": 70
        }
      ]
    },
    {
      "cell_type": "markdown",
      "metadata": {
        "id": "PDlnwMSRgxEL"
      },
      "source": [
        "Explore what has been stored in it. The column names, how many data points, number of colum, data shape"
      ]
    },
    {
      "cell_type": "code",
      "metadata": {
        "colab": {
          "base_uri": "https://localhost:8080/"
        },
        "id": "kua2Q0hzVNaC",
        "outputId": "9eca8dc4-49fb-428a-be1d-b00414a6ca46"
      },
      "source": [
        "data.info()"
      ],
      "execution_count": 71,
      "outputs": [
        {
          "output_type": "stream",
          "text": [
            "<class 'pandas.core.frame.DataFrame'>\n",
            "RangeIndex: 150001 entries, 0 to 150000\n",
            "Data columns (total 55 columns):\n",
            " #   Column                                    Non-Null Count   Dtype  \n",
            "---  ------                                    --------------   -----  \n",
            " 0   Bearer Id                                 149010 non-null  float64\n",
            " 1   Start                                     150000 non-null  object \n",
            " 2   Start ms                                  150000 non-null  float64\n",
            " 3   End                                       150000 non-null  object \n",
            " 4   End ms                                    150000 non-null  float64\n",
            " 5   Dur. (ms)                                 150000 non-null  float64\n",
            " 6   IMSI                                      149431 non-null  float64\n",
            " 7   MSISDN/Number                             148935 non-null  float64\n",
            " 8   IMEI                                      149429 non-null  float64\n",
            " 9   Last Location Name                        148848 non-null  object \n",
            " 10  Avg RTT DL (ms)                           122172 non-null  float64\n",
            " 11  Avg RTT UL (ms)                           122189 non-null  float64\n",
            " 12  Avg Bearer TP DL (kbps)                   150000 non-null  float64\n",
            " 13  Avg Bearer TP UL (kbps)                   150000 non-null  float64\n",
            " 14  TCP DL Retrans. Vol (Bytes)               61855 non-null   float64\n",
            " 15  TCP UL Retrans. Vol (Bytes)               53352 non-null   float64\n",
            " 16  DL TP < 50 Kbps (%)                       149247 non-null  float64\n",
            " 17  50 Kbps < DL TP < 250 Kbps (%)            149247 non-null  float64\n",
            " 18  250 Kbps < DL TP < 1 Mbps (%)             149247 non-null  float64\n",
            " 19  DL TP > 1 Mbps (%)                        149247 non-null  float64\n",
            " 20  UL TP < 10 Kbps (%)                       149209 non-null  float64\n",
            " 21  10 Kbps < UL TP < 50 Kbps (%)             149209 non-null  float64\n",
            " 22  50 Kbps < UL TP < 300 Kbps (%)            149209 non-null  float64\n",
            " 23  UL TP > 300 Kbps (%)                      149209 non-null  float64\n",
            " 24  HTTP DL (Bytes)                           68527 non-null   float64\n",
            " 25  HTTP UL (Bytes)                           68191 non-null   float64\n",
            " 26  Activity Duration DL (ms)                 150000 non-null  float64\n",
            " 27  Activity Duration UL (ms)                 150000 non-null  float64\n",
            " 28  Dur. (ms).1                               150000 non-null  float64\n",
            " 29  Handset Manufacturer                      149429 non-null  object \n",
            " 30  Handset Type                              149429 non-null  object \n",
            " 31  Nb of sec with 125000B < Vol DL           52463 non-null   float64\n",
            " 32  Nb of sec with 1250B < Vol UL < 6250B     57107 non-null   float64\n",
            " 33  Nb of sec with 31250B < Vol DL < 125000B  56415 non-null   float64\n",
            " 34  Nb of sec with 37500B < Vol UL            19747 non-null   float64\n",
            " 35  Nb of sec with 6250B < Vol DL < 31250B    61684 non-null   float64\n",
            " 36  Nb of sec with 6250B < Vol UL < 37500B    38158 non-null   float64\n",
            " 37  Nb of sec with Vol DL < 6250B             149246 non-null  float64\n",
            " 38  Nb of sec with Vol UL < 1250B             149208 non-null  float64\n",
            " 39  Social Media DL (Bytes)                   150001 non-null  float64\n",
            " 40  Social Media UL (Bytes)                   150001 non-null  float64\n",
            " 41  Google DL (Bytes)                         150001 non-null  float64\n",
            " 42  Google UL (Bytes)                         150001 non-null  float64\n",
            " 43  Email DL (Bytes)                          150001 non-null  float64\n",
            " 44  Email UL (Bytes)                          150001 non-null  float64\n",
            " 45  Youtube DL (Bytes)                        150001 non-null  float64\n",
            " 46  Youtube UL (Bytes)                        150001 non-null  float64\n",
            " 47  Netflix DL (Bytes)                        150001 non-null  float64\n",
            " 48  Netflix UL (Bytes)                        150001 non-null  float64\n",
            " 49  Gaming DL (Bytes)                         150001 non-null  float64\n",
            " 50  Gaming UL (Bytes)                         150001 non-null  float64\n",
            " 51  Other DL (Bytes)                          150001 non-null  float64\n",
            " 52  Other UL (Bytes)                          150001 non-null  float64\n",
            " 53  Total UL (Bytes)                          150000 non-null  float64\n",
            " 54  Total DL (Bytes)                          150000 non-null  float64\n",
            "dtypes: float64(50), object(5)\n",
            "memory usage: 62.9+ MB\n"
          ],
          "name": "stdout"
        }
      ]
    },
    {
      "cell_type": "code",
      "metadata": {
        "colab": {
          "base_uri": "https://localhost:8080/"
        },
        "id": "qQg82IlBg77m",
        "outputId": "f501fc9a-63ff-4c5b-9c62-4466e0223c61"
      },
      "source": [
        "# column names\n",
        "data.columns.tolist()"
      ],
      "execution_count": 72,
      "outputs": [
        {
          "output_type": "execute_result",
          "data": {
            "text/plain": [
              "['Bearer Id',\n",
              " 'Start',\n",
              " 'Start ms',\n",
              " 'End',\n",
              " 'End ms',\n",
              " 'Dur. (ms)',\n",
              " 'IMSI',\n",
              " 'MSISDN/Number',\n",
              " 'IMEI',\n",
              " 'Last Location Name',\n",
              " 'Avg RTT DL (ms)',\n",
              " 'Avg RTT UL (ms)',\n",
              " 'Avg Bearer TP DL (kbps)',\n",
              " 'Avg Bearer TP UL (kbps)',\n",
              " 'TCP DL Retrans. Vol (Bytes)',\n",
              " 'TCP UL Retrans. Vol (Bytes)',\n",
              " 'DL TP < 50 Kbps (%)',\n",
              " '50 Kbps < DL TP < 250 Kbps (%)',\n",
              " '250 Kbps < DL TP < 1 Mbps (%)',\n",
              " 'DL TP > 1 Mbps (%)',\n",
              " 'UL TP < 10 Kbps (%)',\n",
              " '10 Kbps < UL TP < 50 Kbps (%)',\n",
              " '50 Kbps < UL TP < 300 Kbps (%)',\n",
              " 'UL TP > 300 Kbps (%)',\n",
              " 'HTTP DL (Bytes)',\n",
              " 'HTTP UL (Bytes)',\n",
              " 'Activity Duration DL (ms)',\n",
              " 'Activity Duration UL (ms)',\n",
              " 'Dur. (ms).1',\n",
              " 'Handset Manufacturer',\n",
              " 'Handset Type',\n",
              " 'Nb of sec with 125000B < Vol DL',\n",
              " 'Nb of sec with 1250B < Vol UL < 6250B',\n",
              " 'Nb of sec with 31250B < Vol DL < 125000B',\n",
              " 'Nb of sec with 37500B < Vol UL',\n",
              " 'Nb of sec with 6250B < Vol DL < 31250B',\n",
              " 'Nb of sec with 6250B < Vol UL < 37500B',\n",
              " 'Nb of sec with Vol DL < 6250B',\n",
              " 'Nb of sec with Vol UL < 1250B',\n",
              " 'Social Media DL (Bytes)',\n",
              " 'Social Media UL (Bytes)',\n",
              " 'Google DL (Bytes)',\n",
              " 'Google UL (Bytes)',\n",
              " 'Email DL (Bytes)',\n",
              " 'Email UL (Bytes)',\n",
              " 'Youtube DL (Bytes)',\n",
              " 'Youtube UL (Bytes)',\n",
              " 'Netflix DL (Bytes)',\n",
              " 'Netflix UL (Bytes)',\n",
              " 'Gaming DL (Bytes)',\n",
              " 'Gaming UL (Bytes)',\n",
              " 'Other DL (Bytes)',\n",
              " 'Other UL (Bytes)',\n",
              " 'Total UL (Bytes)',\n",
              " 'Total DL (Bytes)']"
            ]
          },
          "metadata": {
            "tags": []
          },
          "execution_count": 72
        }
      ]
    },
    {
      "cell_type": "code",
      "metadata": {
        "colab": {
          "base_uri": "https://localhost:8080/"
        },
        "id": "6hD-SPp6imVj",
        "outputId": "f850abd8-f0cb-44dd-dc31-6c64bcbda755"
      },
      "source": [
        "# number of data points (row ,column)\n",
        "data.shape "
      ],
      "execution_count": 73,
      "outputs": [
        {
          "output_type": "execute_result",
          "data": {
            "text/plain": [
              "(150001, 55)"
            ]
          },
          "metadata": {
            "tags": []
          },
          "execution_count": 73
        }
      ]
    },
    {
      "cell_type": "code",
      "metadata": {
        "colab": {
          "base_uri": "https://localhost:8080/"
        },
        "id": "v63qkIemlDs8",
        "outputId": "157cba9d-6a66-409e-9cdd-57e5e36f6bcb"
      },
      "source": [
        "#data types\n",
        "data.dtypes"
      ],
      "execution_count": 74,
      "outputs": [
        {
          "output_type": "execute_result",
          "data": {
            "text/plain": [
              "Bearer Id                                   float64\n",
              "Start                                        object\n",
              "Start ms                                    float64\n",
              "End                                          object\n",
              "End ms                                      float64\n",
              "Dur. (ms)                                   float64\n",
              "IMSI                                        float64\n",
              "MSISDN/Number                               float64\n",
              "IMEI                                        float64\n",
              "Last Location Name                           object\n",
              "Avg RTT DL (ms)                             float64\n",
              "Avg RTT UL (ms)                             float64\n",
              "Avg Bearer TP DL (kbps)                     float64\n",
              "Avg Bearer TP UL (kbps)                     float64\n",
              "TCP DL Retrans. Vol (Bytes)                 float64\n",
              "TCP UL Retrans. Vol (Bytes)                 float64\n",
              "DL TP < 50 Kbps (%)                         float64\n",
              "50 Kbps < DL TP < 250 Kbps (%)              float64\n",
              "250 Kbps < DL TP < 1 Mbps (%)               float64\n",
              "DL TP > 1 Mbps (%)                          float64\n",
              "UL TP < 10 Kbps (%)                         float64\n",
              "10 Kbps < UL TP < 50 Kbps (%)               float64\n",
              "50 Kbps < UL TP < 300 Kbps (%)              float64\n",
              "UL TP > 300 Kbps (%)                        float64\n",
              "HTTP DL (Bytes)                             float64\n",
              "HTTP UL (Bytes)                             float64\n",
              "Activity Duration DL (ms)                   float64\n",
              "Activity Duration UL (ms)                   float64\n",
              "Dur. (ms).1                                 float64\n",
              "Handset Manufacturer                         object\n",
              "Handset Type                                 object\n",
              "Nb of sec with 125000B < Vol DL             float64\n",
              "Nb of sec with 1250B < Vol UL < 6250B       float64\n",
              "Nb of sec with 31250B < Vol DL < 125000B    float64\n",
              "Nb of sec with 37500B < Vol UL              float64\n",
              "Nb of sec with 6250B < Vol DL < 31250B      float64\n",
              "Nb of sec with 6250B < Vol UL < 37500B      float64\n",
              "Nb of sec with Vol DL < 6250B               float64\n",
              "Nb of sec with Vol UL < 1250B               float64\n",
              "Social Media DL (Bytes)                     float64\n",
              "Social Media UL (Bytes)                     float64\n",
              "Google DL (Bytes)                           float64\n",
              "Google UL (Bytes)                           float64\n",
              "Email DL (Bytes)                            float64\n",
              "Email UL (Bytes)                            float64\n",
              "Youtube DL (Bytes)                          float64\n",
              "Youtube UL (Bytes)                          float64\n",
              "Netflix DL (Bytes)                          float64\n",
              "Netflix UL (Bytes)                          float64\n",
              "Gaming DL (Bytes)                           float64\n",
              "Gaming UL (Bytes)                           float64\n",
              "Other DL (Bytes)                            float64\n",
              "Other UL (Bytes)                            float64\n",
              "Total UL (Bytes)                            float64\n",
              "Total DL (Bytes)                            float64\n",
              "dtype: object"
            ]
          },
          "metadata": {
            "tags": []
          },
          "execution_count": 74
        }
      ]
    },
    {
      "cell_type": "markdown",
      "metadata": {
        "id": "-YPIe0ftmZN4"
      },
      "source": [
        "Handling Missing Values"
      ]
    },
    {
      "cell_type": "code",
      "metadata": {
        "colab": {
          "base_uri": "https://localhost:8080/"
        },
        "id": "rjO_JaxwmbAD",
        "outputId": "924461b9-58f3-448f-a877-90ddce436c94"
      },
      "source": [
        "# missing values in the dataset?\n",
        "def percent_missing(dm):\n",
        "\n",
        "    # Calculate total number of cells in dataframe\n",
        "    totalCells = np.product(dm.shape)\n",
        "\n",
        "    # Count number of missing values per column\n",
        "    missingCount = dm.isnull().sum()\n",
        "\n",
        "    # Calculate total number of missing values\n",
        "    totalMissing = missingCount.sum()\n",
        "\n",
        "    # Calculate percentage of missing values\n",
        "    print(\"The telecom dataset contains\", round(((totalMissing/totalCells) * 100), 2), \"%\", \"missing values.\")\n",
        "\n",
        "percent_missing(data)"
      ],
      "execution_count": 75,
      "outputs": [
        {
          "output_type": "stream",
          "text": [
            "The telecom dataset contains 12.5 % missing values.\n"
          ],
          "name": "stdout"
        }
      ]
    },
    {
      "cell_type": "code",
      "metadata": {
        "colab": {
          "base_uri": "https://localhost:8080/"
        },
        "id": "usNyYbF6pH21",
        "outputId": "60986434-baca-4ab0-d883-7a7094580574"
      },
      "source": [
        "#column(s) has missing values \n",
        "data.isna().sum().sort_values(ascending=False) #columns in descending order to see columns with highest missing values\n"
      ],
      "execution_count": 76,
      "outputs": [
        {
          "output_type": "execute_result",
          "data": {
            "text/plain": [
              "Nb of sec with 37500B < Vol UL              130254\n",
              "Nb of sec with 6250B < Vol UL < 37500B      111843\n",
              "Nb of sec with 125000B < Vol DL              97538\n",
              "TCP UL Retrans. Vol (Bytes)                  96649\n",
              "Nb of sec with 31250B < Vol DL < 125000B     93586\n",
              "Nb of sec with 1250B < Vol UL < 6250B        92894\n",
              "Nb of sec with 6250B < Vol DL < 31250B       88317\n",
              "TCP DL Retrans. Vol (Bytes)                  88146\n",
              "HTTP UL (Bytes)                              81810\n",
              "HTTP DL (Bytes)                              81474\n",
              "Avg RTT DL (ms)                              27829\n",
              "Avg RTT UL (ms)                              27812\n",
              "Last Location Name                            1153\n",
              "MSISDN/Number                                 1066\n",
              "Bearer Id                                      991\n",
              "Nb of sec with Vol UL < 1250B                  793\n",
              "UL TP < 10 Kbps (%)                            792\n",
              "10 Kbps < UL TP < 50 Kbps (%)                  792\n",
              "50 Kbps < UL TP < 300 Kbps (%)                 792\n",
              "UL TP > 300 Kbps (%)                           792\n",
              "Nb of sec with Vol DL < 6250B                  755\n",
              "DL TP > 1 Mbps (%)                             754\n",
              "250 Kbps < DL TP < 1 Mbps (%)                  754\n",
              "50 Kbps < DL TP < 250 Kbps (%)                 754\n",
              "DL TP < 50 Kbps (%)                            754\n",
              "Handset Manufacturer                           572\n",
              "Handset Type                                   572\n",
              "IMEI                                           572\n",
              "IMSI                                           570\n",
              "End                                              1\n",
              "End ms                                           1\n",
              "Start ms                                         1\n",
              "Start                                            1\n",
              "Dur. (ms)                                        1\n",
              "Avg Bearer TP DL (kbps)                          1\n",
              "Avg Bearer TP UL (kbps)                          1\n",
              "Total DL (Bytes)                                 1\n",
              "Activity Duration DL (ms)                        1\n",
              "Total UL (Bytes)                                 1\n",
              "Activity Duration UL (ms)                        1\n",
              "Dur. (ms).1                                      1\n",
              "Social Media DL (Bytes)                          0\n",
              "Social Media UL (Bytes)                          0\n",
              "Google DL (Bytes)                                0\n",
              "Google UL (Bytes)                                0\n",
              "Email DL (Bytes)                                 0\n",
              "Email UL (Bytes)                                 0\n",
              "Youtube UL (Bytes)                               0\n",
              "Netflix DL (Bytes)                               0\n",
              "Netflix UL (Bytes)                               0\n",
              "Gaming DL (Bytes)                                0\n",
              "Gaming UL (Bytes)                                0\n",
              "Other DL (Bytes)                                 0\n",
              "Other UL (Bytes)                                 0\n",
              "Youtube DL (Bytes)                               0\n",
              "dtype: int64"
            ]
          },
          "metadata": {
            "tags": []
          },
          "execution_count": 76
        }
      ]
    },
    {
      "cell_type": "code",
      "metadata": {
        "colab": {
          "base_uri": "https://localhost:8080/"
        },
        "id": "zgGLMrsN6enz",
        "outputId": "8c9169d2-37f6-4b46-cf17-3b04560314c3"
      },
      "source": [
        "len(data) #length of the data frame"
      ],
      "execution_count": 77,
      "outputs": [
        {
          "output_type": "execute_result",
          "data": {
            "text/plain": [
              "150001"
            ]
          },
          "metadata": {
            "tags": []
          },
          "execution_count": 77
        }
      ]
    },
    {
      "cell_type": "code",
      "metadata": {
        "colab": {
          "base_uri": "https://localhost:8080/"
        },
        "id": "n8qkh4jX7fqQ",
        "outputId": "14f7eea3-4a28-4973-f83f-29ac6cfe31ec"
      },
      "source": [
        "data.isna().sum().sort_values(ascending=False)/len(data)*100 #to get % of missing values in each column descending method\n",
        "#print(type(data))"
      ],
      "execution_count": 78,
      "outputs": [
        {
          "output_type": "execute_result",
          "data": {
            "text/plain": [
              "Nb of sec with 37500B < Vol UL              86.835421\n",
              "Nb of sec with 6250B < Vol UL < 37500B      74.561503\n",
              "Nb of sec with 125000B < Vol DL             65.024900\n",
              "TCP UL Retrans. Vol (Bytes)                 64.432237\n",
              "Nb of sec with 31250B < Vol DL < 125000B    62.390251\n",
              "Nb of sec with 1250B < Vol UL < 6250B       61.928920\n",
              "Nb of sec with 6250B < Vol DL < 31250B      58.877607\n",
              "TCP DL Retrans. Vol (Bytes)                 58.763608\n",
              "HTTP UL (Bytes)                             54.539636\n",
              "HTTP DL (Bytes)                             54.315638\n",
              "Avg RTT DL (ms)                             18.552543\n",
              "Avg RTT UL (ms)                             18.541210\n",
              "Last Location Name                           0.768662\n",
              "MSISDN/Number                                0.710662\n",
              "Bearer Id                                    0.660662\n",
              "Nb of sec with Vol UL < 1250B                0.528663\n",
              "UL TP < 10 Kbps (%)                          0.527996\n",
              "10 Kbps < UL TP < 50 Kbps (%)                0.527996\n",
              "50 Kbps < UL TP < 300 Kbps (%)               0.527996\n",
              "UL TP > 300 Kbps (%)                         0.527996\n",
              "Nb of sec with Vol DL < 6250B                0.503330\n",
              "DL TP > 1 Mbps (%)                           0.502663\n",
              "250 Kbps < DL TP < 1 Mbps (%)                0.502663\n",
              "50 Kbps < DL TP < 250 Kbps (%)               0.502663\n",
              "DL TP < 50 Kbps (%)                          0.502663\n",
              "Handset Manufacturer                         0.381331\n",
              "Handset Type                                 0.381331\n",
              "IMEI                                         0.381331\n",
              "IMSI                                         0.379997\n",
              "End                                          0.000667\n",
              "End ms                                       0.000667\n",
              "Start ms                                     0.000667\n",
              "Start                                        0.000667\n",
              "Dur. (ms)                                    0.000667\n",
              "Avg Bearer TP DL (kbps)                      0.000667\n",
              "Avg Bearer TP UL (kbps)                      0.000667\n",
              "Total DL (Bytes)                             0.000667\n",
              "Activity Duration DL (ms)                    0.000667\n",
              "Total UL (Bytes)                             0.000667\n",
              "Activity Duration UL (ms)                    0.000667\n",
              "Dur. (ms).1                                  0.000667\n",
              "Social Media DL (Bytes)                      0.000000\n",
              "Social Media UL (Bytes)                      0.000000\n",
              "Google DL (Bytes)                            0.000000\n",
              "Google UL (Bytes)                            0.000000\n",
              "Email DL (Bytes)                             0.000000\n",
              "Email UL (Bytes)                             0.000000\n",
              "Youtube UL (Bytes)                           0.000000\n",
              "Netflix DL (Bytes)                           0.000000\n",
              "Netflix UL (Bytes)                           0.000000\n",
              "Gaming DL (Bytes)                            0.000000\n",
              "Gaming UL (Bytes)                            0.000000\n",
              "Other DL (Bytes)                             0.000000\n",
              "Other UL (Bytes)                             0.000000\n",
              "Youtube DL (Bytes)                           0.000000\n",
              "dtype: float64"
            ]
          },
          "metadata": {
            "tags": []
          },
          "execution_count": 78
        }
      ]
    },
    {
      "cell_type": "markdown",
      "metadata": {
        "id": "BxGrXx52plvZ"
      },
      "source": [
        "How to fix missing values"
      ]
    },
    {
      "cell_type": "code",
      "metadata": {
        "colab": {
          "base_uri": "https://localhost:8080/"
        },
        "id": "OvP1zqK9pkTt",
        "outputId": "f3ce56eb-702a-4c11-aa4c-f97f71c15e64"
      },
      "source": [
        "# drop columns with more than 30% missing values\n",
        "perc = 30.0\n",
        "min_count =  int(((100-perc)/100)*data.shape[0] + 1)\n",
        "mod_df = data.dropna( axis=1, thresh=min_count)\n",
        "\n",
        "#print modified data\n",
        "\n",
        "mod_df.isna().sum().sort_values(ascending=False)/len(data)*100 \n",
        "#print(min_count)\n",
        "#print(data.shape, mod_df.shape)\n",
        "\n",
        "#print( type (mod_df)) "
      ],
      "execution_count": 79,
      "outputs": [
        {
          "output_type": "execute_result",
          "data": {
            "text/plain": [
              "Avg RTT DL (ms)                   18.552543\n",
              "Avg RTT UL (ms)                   18.541210\n",
              "Last Location Name                 0.768662\n",
              "MSISDN/Number                      0.710662\n",
              "Bearer Id                          0.660662\n",
              "Nb of sec with Vol UL < 1250B      0.528663\n",
              "50 Kbps < UL TP < 300 Kbps (%)     0.527996\n",
              "UL TP > 300 Kbps (%)               0.527996\n",
              "UL TP < 10 Kbps (%)                0.527996\n",
              "10 Kbps < UL TP < 50 Kbps (%)      0.527996\n",
              "Nb of sec with Vol DL < 6250B      0.503330\n",
              "DL TP < 50 Kbps (%)                0.502663\n",
              "50 Kbps < DL TP < 250 Kbps (%)     0.502663\n",
              "250 Kbps < DL TP < 1 Mbps (%)      0.502663\n",
              "DL TP > 1 Mbps (%)                 0.502663\n",
              "IMEI                               0.381331\n",
              "Handset Type                       0.381331\n",
              "Handset Manufacturer               0.381331\n",
              "IMSI                               0.379997\n",
              "Dur. (ms)                          0.000667\n",
              "End ms                             0.000667\n",
              "Avg Bearer TP UL (kbps)            0.000667\n",
              "End                                0.000667\n",
              "Start ms                           0.000667\n",
              "Start                              0.000667\n",
              "Avg Bearer TP DL (kbps)            0.000667\n",
              "Total DL (Bytes)                   0.000667\n",
              "Total UL (Bytes)                   0.000667\n",
              "Activity Duration UL (ms)          0.000667\n",
              "Activity Duration DL (ms)          0.000667\n",
              "Dur. (ms).1                        0.000667\n",
              "Social Media DL (Bytes)            0.000000\n",
              "Social Media UL (Bytes)            0.000000\n",
              "Google DL (Bytes)                  0.000000\n",
              "Google UL (Bytes)                  0.000000\n",
              "Email DL (Bytes)                   0.000000\n",
              "Email UL (Bytes)                   0.000000\n",
              "Youtube UL (Bytes)                 0.000000\n",
              "Netflix DL (Bytes)                 0.000000\n",
              "Netflix UL (Bytes)                 0.000000\n",
              "Gaming DL (Bytes)                  0.000000\n",
              "Gaming UL (Bytes)                  0.000000\n",
              "Other DL (Bytes)                   0.000000\n",
              "Other UL (Bytes)                   0.000000\n",
              "Youtube DL (Bytes)                 0.000000\n",
              "dtype: float64"
            ]
          },
          "metadata": {
            "tags": []
          },
          "execution_count": 79
        }
      ]
    },
    {
      "cell_type": "code",
      "metadata": {
        "id": "wIWSbJ9CK7DJ",
        "colab": {
          "base_uri": "https://localhost:8080/"
        },
        "outputId": "c15fe859-24fb-4deb-8834-fea64c4b678c"
      },
      "source": [
        "\n",
        "# cleaning data frame\n",
        "mod_df.dropna(subset = [\"Bearer Id\", \"MSISDN/Number\"], inplace=True)\n",
        "cols=['Avg RTT DL (ms)','Avg RTT UL (ms)','Last Location Name','10 Kbps < UL TP < 50 Kbps (%)','Nb of sec with Vol UL < 1250B','50 Kbps < UL TP < 300 Kbps (%)','10 Kbps < UL TP < 50 Kbps (%)','UL TP < 10 Kbps (%)',\n",
        "      'UL TP > 300 Kbps (%)','Nb of sec with Vol DL < 6250B','DL TP > 1 Mbps (%)','250 Kbps < DL TP < 1 Mbps (%)','50 Kbps < DL TP < 250 Kbps (%)','DL TP < 50 Kbps (%)']\n",
        "for col in cols:\n",
        "  mod_df[col]=mod_df[col].fillna(method='ffill')\n",
        "\n",
        "mod_df.isna().sum().sort_values(ascending=False)/len(data)*100\n",
        "\n",
        "#data.isna().sum().sort_values(ascending=False)/len(data)*100\n",
        "#print (type(data))\n"
      ],
      "execution_count": 82,
      "outputs": [
        {
          "output_type": "execute_result",
          "data": {
            "text/plain": [
              "Total DL (Bytes)                  0.0\n",
              "UL TP > 300 Kbps (%)              0.0\n",
              "10 Kbps < UL TP < 50 Kbps (%)     0.0\n",
              "UL TP < 10 Kbps (%)               0.0\n",
              "DL TP > 1 Mbps (%)                0.0\n",
              "250 Kbps < DL TP < 1 Mbps (%)     0.0\n",
              "50 Kbps < DL TP < 250 Kbps (%)    0.0\n",
              "DL TP < 50 Kbps (%)               0.0\n",
              "Avg Bearer TP UL (kbps)           0.0\n",
              "Avg Bearer TP DL (kbps)           0.0\n",
              "Avg RTT UL (ms)                   0.0\n",
              "Avg RTT DL (ms)                   0.0\n",
              "Last Location Name                0.0\n",
              "IMEI                              0.0\n",
              "MSISDN/Number                     0.0\n",
              "IMSI                              0.0\n",
              "Dur. (ms)                         0.0\n",
              "End ms                            0.0\n",
              "End                               0.0\n",
              "Start ms                          0.0\n",
              "Start                             0.0\n",
              "50 Kbps < UL TP < 300 Kbps (%)    0.0\n",
              "Activity Duration DL (ms)         0.0\n",
              "Total UL (Bytes)                  0.0\n",
              "Activity Duration UL (ms)         0.0\n",
              "Other UL (Bytes)                  0.0\n",
              "Other DL (Bytes)                  0.0\n",
              "Gaming UL (Bytes)                 0.0\n",
              "Gaming DL (Bytes)                 0.0\n",
              "Netflix UL (Bytes)                0.0\n",
              "Netflix DL (Bytes)                0.0\n",
              "Youtube UL (Bytes)                0.0\n",
              "Youtube DL (Bytes)                0.0\n",
              "Email UL (Bytes)                  0.0\n",
              "Email DL (Bytes)                  0.0\n",
              "Google UL (Bytes)                 0.0\n",
              "Google DL (Bytes)                 0.0\n",
              "Social Media UL (Bytes)           0.0\n",
              "Social Media DL (Bytes)           0.0\n",
              "Nb of sec with Vol UL < 1250B     0.0\n",
              "Nb of sec with Vol DL < 6250B     0.0\n",
              "Handset Type                      0.0\n",
              "Handset Manufacturer              0.0\n",
              "Dur. (ms).1                       0.0\n",
              "Bearer Id                         0.0\n",
              "dtype: float64"
            ]
          },
          "metadata": {
            "tags": []
          },
          "execution_count": 82
        }
      ]
    },
    {
      "cell_type": "code",
      "metadata": {
        "id": "sInn01HhGYa8"
      },
      "source": [
        ""
      ],
      "execution_count": 81,
      "outputs": []
    },
    {
      "cell_type": "markdown",
      "metadata": {
        "id": "SaidRGy5lDKy"
      },
      "source": [
        "Transforming Data\n",
        "Scaling and Normalization"
      ]
    },
    {
      "cell_type": "code",
      "metadata": {
        "id": "Bz8BhGl6lBhk",
        "colab": {
          "base_uri": "https://localhost:8080/",
          "height": 204
        },
        "outputId": "5f44bde1-7f89-4555-9520-bc608b2c83ac"
      },
      "source": [
        "from sklearn.preprocessing import MinMaxScaler\n",
        "\n",
        "minmax_scaler = MinMaxScaler()\n",
        "\n",
        "# generate 1000 data points randomly drawn from an exponential distribution\n",
        "original_data = pd.DataFrame(np.random.exponential(200, size=2000))\n",
        "\n",
        "original_data.sample(5)"
      ],
      "execution_count": 46,
      "outputs": [
        {
          "output_type": "execute_result",
          "data": {
            "text/html": [
              "<div>\n",
              "<style scoped>\n",
              "    .dataframe tbody tr th:only-of-type {\n",
              "        vertical-align: middle;\n",
              "    }\n",
              "\n",
              "    .dataframe tbody tr th {\n",
              "        vertical-align: top;\n",
              "    }\n",
              "\n",
              "    .dataframe thead th {\n",
              "        text-align: right;\n",
              "    }\n",
              "</style>\n",
              "<table border=\"1\" class=\"dataframe\">\n",
              "  <thead>\n",
              "    <tr style=\"text-align: right;\">\n",
              "      <th></th>\n",
              "      <th>0</th>\n",
              "    </tr>\n",
              "  </thead>\n",
              "  <tbody>\n",
              "    <tr>\n",
              "      <th>333</th>\n",
              "      <td>34.244643</td>\n",
              "    </tr>\n",
              "    <tr>\n",
              "      <th>1316</th>\n",
              "      <td>118.038762</td>\n",
              "    </tr>\n",
              "    <tr>\n",
              "      <th>1689</th>\n",
              "      <td>163.450412</td>\n",
              "    </tr>\n",
              "    <tr>\n",
              "      <th>915</th>\n",
              "      <td>97.833721</td>\n",
              "    </tr>\n",
              "    <tr>\n",
              "      <th>1062</th>\n",
              "      <td>138.804425</td>\n",
              "    </tr>\n",
              "  </tbody>\n",
              "</table>\n",
              "</div>"
            ],
            "text/plain": [
              "               0\n",
              "333    34.244643\n",
              "1316  118.038762\n",
              "1689  163.450412\n",
              "915    97.833721\n",
              "1062  138.804425"
            ]
          },
          "metadata": {
            "tags": []
          },
          "execution_count": 46
        }
      ]
    },
    {
      "cell_type": "code",
      "metadata": {
        "colab": {
          "base_uri": "https://localhost:8080/"
        },
        "id": "UdWmQZQUD0pV",
        "outputId": "3ec85c02-21a8-4461-f16c-109e6eba0a77"
      },
      "source": [
        "original_data[0].min(), original_data[0].max()"
      ],
      "execution_count": 83,
      "outputs": [
        {
          "output_type": "execute_result",
          "data": {
            "text/plain": [
              "(0.010094773553856842, 1808.9369176886662)"
            ]
          },
          "metadata": {
            "tags": []
          },
          "execution_count": 83
        }
      ]
    },
    {
      "cell_type": "code",
      "metadata": {
        "colab": {
          "base_uri": "https://localhost:8080/",
          "height": 265
        },
        "id": "mzbynSeTEM8p",
        "outputId": "a7470cdf-c171-4543-842a-f1b99c73cf79"
      },
      "source": [
        "count, bins, ignored = plt.hist(original_data, 14)\n",
        "plt.show()"
      ],
      "execution_count": 84,
      "outputs": [
        {
          "output_type": "display_data",
          "data": {
            "image/png": "[encoded data removed]",
            "text/plain": [
              "<Figure size 432x288 with 1 Axes>"
            ]
          },
          "metadata": {
            "tags": [],
            "image/png": {
              "width": 372,
              "height": 248
            }
          }
        }
      ]
    },
    {
      "cell_type": "code",
      "metadata": {
        "colab": {
          "base_uri": "https://localhost:8080/",
          "height": 391
        },
        "id": "YrY4exrAGahW",
        "outputId": "efc23c7b-3e49-4b89-e675-8456d2b38be0"
      },
      "source": [
        "# mix-max scale the data between 0 and 1\n",
        "def scaler(df):\n",
        "    scaled_data = minmax_scaler.fit_transform(df)\n",
        "\n",
        "    # plot both together to compare\n",
        "    fig, ax = plt.subplots(1,2, figsize=(10, 6))\n",
        "    sns.histplot(original_data, ax=ax[0])\n",
        "    ax[0].set_title(\"Original Data\")\n",
        "    sns.histplot(scaled_data, ax=ax[1])\n",
        "    ax[1].set_title(\"Scaled data\")\n",
        "    \n",
        "scaler(original_data)"
      ],
      "execution_count": 85,
      "outputs": [
        {
          "output_type": "display_data",
          "data": {
            "image/png": "[encoded data removed]",
            "text/plain": [
              "<Figure size 720x432 with 2 Axes>"
            ]
          },
          "metadata": {
            "tags": [],
            "image/png": {
              "width": 614,
              "height": 374
            }
          }
        }
      ]
    },
    {
      "cell_type": "code",
      "metadata": {
        "colab": {
          "base_uri": "https://localhost:8080/",
          "height": 391
        },
        "id": "CkBnc_RWGtOZ",
        "outputId": "4d837220-b2e6-4b1d-bb53-c6cbf8bf70b2"
      },
      "source": [
        "from sklearn.preprocessing import Normalizer\n",
        "\n",
        "def normalizer(df):\n",
        "    norm = Normalizer()\n",
        "    # normalize the exponential data with boxcox\n",
        "    normalized_data = norm.fit_transform(df)\n",
        "\n",
        "    # plot both together to compare\n",
        "    fig, ax=plt.subplots(1,2, figsize=(10, 6))\n",
        "    sns.histplot(df, ax=ax[0])\n",
        "    ax[0].set_title(\"Original Data\")\n",
        "    sns.histplot(normalized_data[0], ax=ax[1])\n",
        "    ax[1].set_title(\"Normalized data\")\n",
        "\n",
        "normalizer(original_data)"
      ],
      "execution_count": 86,
      "outputs": [
        {
          "output_type": "display_data",
          "data": {
            "image/png": "[encoded data removed]",
            "text/plain": [
              "<Figure size 720x432 with 2 Axes>"
            ]
          },
          "metadata": {
            "tags": [],
            "image/png": {
              "width": 614,
              "height": 374
            }
          }
        }
      ]
    },
    {
      "cell_type": "code",
      "metadata": {
        "colab": {
          "base_uri": "https://localhost:8080/"
        },
        "id": "zwpMGQTnGzF2",
        "outputId": "d4ced888-8091-4b0d-b8e2-7f49517a23b9"
      },
      "source": [
        "data.info()"
      ],
      "execution_count": 87,
      "outputs": [
        {
          "output_type": "stream",
          "text": [
            "<class 'pandas.core.frame.DataFrame'>\n",
            "RangeIndex: 150001 entries, 0 to 150000\n",
            "Data columns (total 55 columns):\n",
            " #   Column                                    Non-Null Count   Dtype  \n",
            "---  ------                                    --------------   -----  \n",
            " 0   Bearer Id                                 149010 non-null  float64\n",
            " 1   Start                                     150000 non-null  object \n",
            " 2   Start ms                                  150000 non-null  float64\n",
            " 3   End                                       150000 non-null  object \n",
            " 4   End ms                                    150000 non-null  float64\n",
            " 5   Dur. (ms)                                 150000 non-null  float64\n",
            " 6   IMSI                                      149431 non-null  float64\n",
            " 7   MSISDN/Number                             148935 non-null  float64\n",
            " 8   IMEI                                      149429 non-null  float64\n",
            " 9   Last Location Name                        148848 non-null  object \n",
            " 10  Avg RTT DL (ms)                           122172 non-null  float64\n",
            " 11  Avg RTT UL (ms)                           122189 non-null  float64\n",
            " 12  Avg Bearer TP DL (kbps)                   150000 non-null  float64\n",
            " 13  Avg Bearer TP UL (kbps)                   150000 non-null  float64\n",
            " 14  TCP DL Retrans. Vol (Bytes)               61855 non-null   float64\n",
            " 15  TCP UL Retrans. Vol (Bytes)               53352 non-null   float64\n",
            " 16  DL TP < 50 Kbps (%)                       149247 non-null  float64\n",
            " 17  50 Kbps < DL TP < 250 Kbps (%)            149247 non-null  float64\n",
            " 18  250 Kbps < DL TP < 1 Mbps (%)             149247 non-null  float64\n",
            " 19  DL TP > 1 Mbps (%)                        149247 non-null  float64\n",
            " 20  UL TP < 10 Kbps (%)                       149209 non-null  float64\n",
            " 21  10 Kbps < UL TP < 50 Kbps (%)             149209 non-null  float64\n",
            " 22  50 Kbps < UL TP < 300 Kbps (%)            149209 non-null  float64\n",
            " 23  UL TP > 300 Kbps (%)                      149209 non-null  float64\n",
            " 24  HTTP DL (Bytes)                           68527 non-null   float64\n",
            " 25  HTTP UL (Bytes)                           68191 non-null   float64\n",
            " 26  Activity Duration DL (ms)                 150000 non-null  float64\n",
            " 27  Activity Duration UL (ms)                 150000 non-null  float64\n",
            " 28  Dur. (ms).1                               150000 non-null  float64\n",
            " 29  Handset Manufacturer                      149429 non-null  object \n",
            " 30  Handset Type                              149429 non-null  object \n",
            " 31  Nb of sec with 125000B < Vol DL           52463 non-null   float64\n",
            " 32  Nb of sec with 1250B < Vol UL < 6250B     57107 non-null   float64\n",
            " 33  Nb of sec with 31250B < Vol DL < 125000B  56415 non-null   float64\n",
            " 34  Nb of sec with 37500B < Vol UL            19747 non-null   float64\n",
            " 35  Nb of sec with 6250B < Vol DL < 31250B    61684 non-null   float64\n",
            " 36  Nb of sec with 6250B < Vol UL < 37500B    38158 non-null   float64\n",
            " 37  Nb of sec with Vol DL < 6250B             149246 non-null  float64\n",
            " 38  Nb of sec with Vol UL < 1250B             149208 non-null  float64\n",
            " 39  Social Media DL (Bytes)                   150001 non-null  float64\n",
            " 40  Social Media UL (Bytes)                   150001 non-null  float64\n",
            " 41  Google DL (Bytes)                         150001 non-null  float64\n",
            " 42  Google UL (Bytes)                         150001 non-null  float64\n",
            " 43  Email DL (Bytes)                          150001 non-null  float64\n",
            " 44  Email UL (Bytes)                          150001 non-null  float64\n",
            " 45  Youtube DL (Bytes)                        150001 non-null  float64\n",
            " 46  Youtube UL (Bytes)                        150001 non-null  float64\n",
            " 47  Netflix DL (Bytes)                        150001 non-null  float64\n",
            " 48  Netflix UL (Bytes)                        150001 non-null  float64\n",
            " 49  Gaming DL (Bytes)                         150001 non-null  float64\n",
            " 50  Gaming UL (Bytes)                         150001 non-null  float64\n",
            " 51  Other DL (Bytes)                          150001 non-null  float64\n",
            " 52  Other UL (Bytes)                          150001 non-null  float64\n",
            " 53  Total UL (Bytes)                          150000 non-null  float64\n",
            " 54  Total DL (Bytes)                          150000 non-null  float64\n",
            "dtypes: float64(50), object(5)\n",
            "memory usage: 62.9+ MB\n"
          ],
          "name": "stdout"
        }
      ]
    },
    {
      "cell_type": "markdown",
      "metadata": {
        "id": "TmrVgrrzltsS"
      },
      "source": [
        "For the actual telecom dataset, you‘re expected to conduct a full User Overview analysis &\n",
        "the following sub-tasks are your guidance:   \n",
        "● Start by identifying the top 10 handsets used by the customers.   \n",
        "● Then, identify the top 3 handset manufacturers  \n",
        "● Next, identify the top 5 handsets per top 3 handset manufacturer   \n",
        "● Make a short interpretation and recommendation to marketing teams\n"
      ]
    },
    {
      "cell_type": "code",
      "metadata": {
        "colab": {
          "base_uri": "https://localhost:8080/"
        },
        "id": "Qos1BghZIvS2",
        "outputId": "f5f8bfc9-4c3a-4b0d-8931-5ad72bbf9ec2"
      },
      "source": [
        "#Start by identifying the top 10 handsets used by the customers.\n",
        "data[\"Handset Type\"].value_counts().head(10)"
      ],
      "execution_count": 88,
      "outputs": [
        {
          "output_type": "execute_result",
          "data": {
            "text/plain": [
              "Huawei B528S-23A                19752\n",
              "Apple iPhone 6S (A1688)          9419\n",
              "Apple iPhone 6 (A1586)           9023\n",
              "undefined                        8987\n",
              "Apple iPhone 7 (A1778)           6326\n",
              "Apple iPhone Se (A1723)          5187\n",
              "Apple iPhone 8 (A1905)           4993\n",
              "Apple iPhone Xr (A2105)          4568\n",
              "Samsung Galaxy S8 (Sm-G950F)     4520\n",
              "Apple iPhone X (A1901)           3813\n",
              "Name: Handset Type, dtype: int64"
            ]
          },
          "metadata": {
            "tags": []
          },
          "execution_count": 88
        }
      ]
    },
    {
      "cell_type": "code",
      "metadata": {
        "colab": {
          "base_uri": "https://localhost:8080/"
        },
        "id": "XlMqJH2jLk_I",
        "outputId": "935b0397-1f5b-4e03-9334-362a5a276d4e"
      },
      "source": [
        "#identify the top 3 handset manufacturers\n",
        "data[\"Handset Manufacturer\"].value_counts().head(3)"
      ],
      "execution_count": 91,
      "outputs": [
        {
          "output_type": "execute_result",
          "data": {
            "text/plain": [
              "Apple      59565\n",
              "Samsung    40839\n",
              "Huawei     34423\n",
              "Name: Handset Manufacturer, dtype: int64"
            ]
          },
          "metadata": {
            "tags": []
          },
          "execution_count": 91
        }
      ]
    },
    {
      "cell_type": "code",
      "metadata": {
        "colab": {
          "base_uri": "https://localhost:8080/"
        },
        "id": "IfxwcrNxLqNL",
        "outputId": "12c00af8-4195-4886-a9c4-49e633b2a3d5"
      },
      "source": [
        "#identify the top 5 handsets per top 3 handset manufacturer\n",
        "apple_handsets = data[data[\"Handset Manufacturer\"] == \"Apple\"]\n",
        "apple_handsets[\"Handset Type\"].value_counts().head(5)"
      ],
      "execution_count": 92,
      "outputs": [
        {
          "output_type": "execute_result",
          "data": {
            "text/plain": [
              "Apple iPhone 6S (A1688)    9419\n",
              "Apple iPhone 6 (A1586)     9023\n",
              "Apple iPhone 7 (A1778)     6326\n",
              "Apple iPhone Se (A1723)    5187\n",
              "Apple iPhone 8 (A1905)     4993\n",
              "Name: Handset Type, dtype: int64"
            ]
          },
          "metadata": {
            "tags": []
          },
          "execution_count": 92
        }
      ]
    },
    {
      "cell_type": "code",
      "metadata": {
        "colab": {
          "base_uri": "https://localhost:8080/"
        },
        "id": "bWcS00CHGYgn",
        "outputId": "6c1a3dc1-26f9-4451-eabe-858de637c0cb"
      },
      "source": [
        "apple_handsets = data[data[\"Handset Manufacturer\"] == \"Samsung\"]\n",
        "apple_handsets[\"Handset Type\"].value_counts().head(5)"
      ],
      "execution_count": 93,
      "outputs": [
        {
          "output_type": "execute_result",
          "data": {
            "text/plain": [
              "Samsung Galaxy S8 (Sm-G950F)    4520\n",
              "Samsung Galaxy A5 Sm-A520F      3724\n",
              "Samsung Galaxy J5 (Sm-J530)     3696\n",
              "Samsung Galaxy J3 (Sm-J330)     3484\n",
              "Samsung Galaxy S7 (Sm-G930X)    3199\n",
              "Name: Handset Type, dtype: int64"
            ]
          },
          "metadata": {
            "tags": []
          },
          "execution_count": 93
        }
      ]
    },
    {
      "cell_type": "code",
      "metadata": {
        "colab": {
          "base_uri": "https://localhost:8080/"
        },
        "id": "G5qVvKOYGcmS",
        "outputId": "c5a03fbc-96fb-4fa6-8120-5561fc33b8ec"
      },
      "source": [
        "apple_handsets = data[data[\"Handset Manufacturer\"] == \"Huawei\"]\n",
        "apple_handsets[\"Handset Type\"].value_counts().head(5)"
      ],
      "execution_count": 94,
      "outputs": [
        {
          "output_type": "execute_result",
          "data": {
            "text/plain": [
              "Huawei B528S-23A                  19752\n",
              "Huawei E5180                       2079\n",
              "Huawei P20 Lite Huawei Nova 3E     2021\n",
              "Huawei P20                         1480\n",
              "Huawei Y6 2018                      997\n",
              "Name: Handset Type, dtype: int64"
            ]
          },
          "metadata": {
            "tags": []
          },
          "execution_count": 94
        }
      ]
    },
    {
      "cell_type": "code",
      "metadata": {
        "id": "miP_RWBOG_-N"
      },
      "source": [
        "#● Make a short interpretation and recommendation to marketing teams\n"
      ],
      "execution_count": null,
      "outputs": []
    },
    {
      "cell_type": "markdown",
      "metadata": {
        "id": "vUVeqMLBGrSd"
      },
      "source": [
        "*  The marketing team needs to focus on users with handsets from these top three manufacturers: Apple, Samsung and Huawei."
      ]
    },
    {
      "cell_type": "code",
      "metadata": {
        "id": "w-LQgG5GTRcY"
      },
      "source": [
        ""
      ],
      "execution_count": null,
      "outputs": []
    },
    {
      "cell_type": "markdown",
      "metadata": {
        "id": "GqApbmXrVDJ0"
      },
      "source": [
        "Task 1.1 - Your employer wants to have an overview of the users’ behavior on those applications.     \n",
        "● Aggregate per user the following information in the column     \n",
        "○ number of xDR sessions     \n",
        "○ Session duration      \n",
        "○ the total download (DL) and upload (UL) data     \n",
        "○ the total data volume (in Bytes) during this session for each application \n",
        "\n"
      ]
    },
    {
      "cell_type": "code",
      "metadata": {
        "colab": {
          "base_uri": "https://localhost:8080/",
          "height": 450
        },
        "id": "ec6v1-EKQ4tw",
        "outputId": "9b414f86-b959-4fe8-e986-cf7745a1198a"
      },
      "source": [
        "sessions = data[[\"MSISDN/Number\",\"Bearer Id\"]]\n",
        "session_count = sessions.groupby([\"MSISDN/Number\"]).count()\n",
        "session_count"
      ],
      "execution_count": 98,
      "outputs": [
        {
          "output_type": "execute_result",
          "data": {
            "text/html": [
              "<div>\n",
              "<style scoped>\n",
              "    .dataframe tbody tr th:only-of-type {\n",
              "        vertical-align: middle;\n",
              "    }\n",
              "\n",
              "    .dataframe tbody tr th {\n",
              "        vertical-align: top;\n",
              "    }\n",
              "\n",
              "    .dataframe thead th {\n",
              "        text-align: right;\n",
              "    }\n",
              "</style>\n",
              "<table border=\"1\" class=\"dataframe\">\n",
              "  <thead>\n",
              "    <tr style=\"text-align: right;\">\n",
              "      <th></th>\n",
              "      <th>Bearer Id</th>\n",
              "    </tr>\n",
              "    <tr>\n",
              "      <th>MSISDN/Number</th>\n",
              "      <th></th>\n",
              "    </tr>\n",
              "  </thead>\n",
              "  <tbody>\n",
              "    <tr>\n",
              "      <th>3.360100e+10</th>\n",
              "      <td>1</td>\n",
              "    </tr>\n",
              "    <tr>\n",
              "      <th>3.360100e+10</th>\n",
              "      <td>1</td>\n",
              "    </tr>\n",
              "    <tr>\n",
              "      <th>3.360100e+10</th>\n",
              "      <td>1</td>\n",
              "    </tr>\n",
              "    <tr>\n",
              "      <th>3.360101e+10</th>\n",
              "      <td>1</td>\n",
              "    </tr>\n",
              "    <tr>\n",
              "      <th>3.360101e+10</th>\n",
              "      <td>2</td>\n",
              "    </tr>\n",
              "    <tr>\n",
              "      <th>...</th>\n",
              "      <td>...</td>\n",
              "    </tr>\n",
              "    <tr>\n",
              "      <th>3.379000e+10</th>\n",
              "      <td>1</td>\n",
              "    </tr>\n",
              "    <tr>\n",
              "      <th>3.379000e+10</th>\n",
              "      <td>1</td>\n",
              "    </tr>\n",
              "    <tr>\n",
              "      <th>3.197021e+12</th>\n",
              "      <td>1</td>\n",
              "    </tr>\n",
              "    <tr>\n",
              "      <th>3.370000e+14</th>\n",
              "      <td>1</td>\n",
              "    </tr>\n",
              "    <tr>\n",
              "      <th>8.823971e+14</th>\n",
              "      <td>1</td>\n",
              "    </tr>\n",
              "  </tbody>\n",
              "</table>\n",
              "<p>106856 rows × 1 columns</p>\n",
              "</div>"
            ],
            "text/plain": [
              "               Bearer Id\n",
              "MSISDN/Number           \n",
              "3.360100e+10           1\n",
              "3.360100e+10           1\n",
              "3.360100e+10           1\n",
              "3.360101e+10           1\n",
              "3.360101e+10           2\n",
              "...                  ...\n",
              "3.379000e+10           1\n",
              "3.379000e+10           1\n",
              "3.197021e+12           1\n",
              "3.370000e+14           1\n",
              "8.823971e+14           1\n",
              "\n",
              "[106856 rows x 1 columns]"
            ]
          },
          "metadata": {
            "tags": []
          },
          "execution_count": 98
        }
      ]
    },
    {
      "cell_type": "code",
      "metadata": {
        "colab": {
          "base_uri": "https://localhost:8080/",
          "height": 297
        },
        "id": "8b8UQ2atQ-fx",
        "outputId": "59663b95-c631-473a-ee63-530105a891ba"
      },
      "source": [
        "session_count.describe()"
      ],
      "execution_count": 97,
      "outputs": [
        {
          "output_type": "execute_result",
          "data": {
            "text/html": [
              "<div>\n",
              "<style scoped>\n",
              "    .dataframe tbody tr th:only-of-type {\n",
              "        vertical-align: middle;\n",
              "    }\n",
              "\n",
              "    .dataframe tbody tr th {\n",
              "        vertical-align: top;\n",
              "    }\n",
              "\n",
              "    .dataframe thead th {\n",
              "        text-align: right;\n",
              "    }\n",
              "</style>\n",
              "<table border=\"1\" class=\"dataframe\">\n",
              "  <thead>\n",
              "    <tr style=\"text-align: right;\">\n",
              "      <th></th>\n",
              "      <th>Bearer Id</th>\n",
              "    </tr>\n",
              "  </thead>\n",
              "  <tbody>\n",
              "    <tr>\n",
              "      <th>count</th>\n",
              "      <td>106856.000000</td>\n",
              "    </tr>\n",
              "    <tr>\n",
              "      <th>mean</th>\n",
              "      <td>1.389777</td>\n",
              "    </tr>\n",
              "    <tr>\n",
              "      <th>std</th>\n",
              "      <td>0.809863</td>\n",
              "    </tr>\n",
              "    <tr>\n",
              "      <th>min</th>\n",
              "      <td>0.000000</td>\n",
              "    </tr>\n",
              "    <tr>\n",
              "      <th>25%</th>\n",
              "      <td>1.000000</td>\n",
              "    </tr>\n",
              "    <tr>\n",
              "      <th>50%</th>\n",
              "      <td>1.000000</td>\n",
              "    </tr>\n",
              "    <tr>\n",
              "      <th>75%</th>\n",
              "      <td>2.000000</td>\n",
              "    </tr>\n",
              "    <tr>\n",
              "      <th>max</th>\n",
              "      <td>18.000000</td>\n",
              "    </tr>\n",
              "  </tbody>\n",
              "</table>\n",
              "</div>"
            ],
            "text/plain": [
              "           Bearer Id\n",
              "count  106856.000000\n",
              "mean        1.389777\n",
              "std         0.809863\n",
              "min         0.000000\n",
              "25%         1.000000\n",
              "50%         1.000000\n",
              "75%         2.000000\n",
              "max        18.000000"
            ]
          },
          "metadata": {
            "tags": []
          },
          "execution_count": 97
        }
      ]
    },
    {
      "cell_type": "code",
      "metadata": {
        "colab": {
          "base_uri": "https://localhost:8080/",
          "height": 450
        },
        "id": "XNd-L9skRJHV",
        "outputId": "63e61057-9e36-4b2f-a59c-bacbd3e6ad40"
      },
      "source": [
        "data_usage = data[[\"MSISDN/Number\",\"Dur. (ms).1\", \"Total DL (Bytes)\", \"Total UL (Bytes)\"]]\n",
        "data_usage.groupby([\"MSISDN/Number\"]).agg('sum')"
      ],
      "execution_count": 99,
      "outputs": [
        {
          "output_type": "execute_result",
          "data": {
            "text/html": [
              "<div>\n",
              "<style scoped>\n",
              "    .dataframe tbody tr th:only-of-type {\n",
              "        vertical-align: middle;\n",
              "    }\n",
              "\n",
              "    .dataframe tbody tr th {\n",
              "        vertical-align: top;\n",
              "    }\n",
              "\n",
              "    .dataframe thead th {\n",
              "        text-align: right;\n",
              "    }\n",
              "</style>\n",
              "<table border=\"1\" class=\"dataframe\">\n",
              "  <thead>\n",
              "    <tr style=\"text-align: right;\">\n",
              "      <th></th>\n",
              "      <th>Dur. (ms).1</th>\n",
              "      <th>Total DL (Bytes)</th>\n",
              "      <th>Total UL (Bytes)</th>\n",
              "    </tr>\n",
              "    <tr>\n",
              "      <th>MSISDN/Number</th>\n",
              "      <th></th>\n",
              "      <th></th>\n",
              "      <th></th>\n",
              "    </tr>\n",
              "  </thead>\n",
              "  <tbody>\n",
              "    <tr>\n",
              "      <th>3.360100e+10</th>\n",
              "      <td>116720140.0</td>\n",
              "      <td>8.426375e+08</td>\n",
              "      <td>36053108.0</td>\n",
              "    </tr>\n",
              "    <tr>\n",
              "      <th>3.360100e+10</th>\n",
              "      <td>181230963.0</td>\n",
              "      <td>1.207552e+08</td>\n",
              "      <td>36104459.0</td>\n",
              "    </tr>\n",
              "    <tr>\n",
              "      <th>3.360100e+10</th>\n",
              "      <td>134969374.0</td>\n",
              "      <td>5.566597e+08</td>\n",
              "      <td>39306820.0</td>\n",
              "    </tr>\n",
              "    <tr>\n",
              "      <th>3.360101e+10</th>\n",
              "      <td>49878024.0</td>\n",
              "      <td>4.019932e+08</td>\n",
              "      <td>20327526.0</td>\n",
              "    </tr>\n",
              "    <tr>\n",
              "      <th>3.360101e+10</th>\n",
              "      <td>37104453.0</td>\n",
              "      <td>1.363130e+09</td>\n",
              "      <td>94280527.0</td>\n",
              "    </tr>\n",
              "    <tr>\n",
              "      <th>...</th>\n",
              "      <td>...</td>\n",
              "      <td>...</td>\n",
              "      <td>...</td>\n",
              "    </tr>\n",
              "    <tr>\n",
              "      <th>3.379000e+10</th>\n",
              "      <td>8810688.0</td>\n",
              "      <td>6.879252e+08</td>\n",
              "      <td>26716429.0</td>\n",
              "    </tr>\n",
              "    <tr>\n",
              "      <th>3.379000e+10</th>\n",
              "      <td>140988659.0</td>\n",
              "      <td>4.445751e+08</td>\n",
              "      <td>35732243.0</td>\n",
              "    </tr>\n",
              "    <tr>\n",
              "      <th>3.197021e+12</th>\n",
              "      <td>877385325.0</td>\n",
              "      <td>1.948281e+08</td>\n",
              "      <td>37295915.0</td>\n",
              "    </tr>\n",
              "    <tr>\n",
              "      <th>3.370000e+14</th>\n",
              "      <td>253030201.0</td>\n",
              "      <td>5.396350e+08</td>\n",
              "      <td>56652839.0</td>\n",
              "    </tr>\n",
              "    <tr>\n",
              "      <th>8.823971e+14</th>\n",
              "      <td>869844200.0</td>\n",
              "      <td>7.869760e+07</td>\n",
              "      <td>60456049.0</td>\n",
              "    </tr>\n",
              "  </tbody>\n",
              "</table>\n",
              "<p>106856 rows × 3 columns</p>\n",
              "</div>"
            ],
            "text/plain": [
              "               Dur. (ms).1  Total DL (Bytes)  Total UL (Bytes)\n",
              "MSISDN/Number                                                 \n",
              "3.360100e+10   116720140.0      8.426375e+08        36053108.0\n",
              "3.360100e+10   181230963.0      1.207552e+08        36104459.0\n",
              "3.360100e+10   134969374.0      5.566597e+08        39306820.0\n",
              "3.360101e+10    49878024.0      4.019932e+08        20327526.0\n",
              "3.360101e+10    37104453.0      1.363130e+09        94280527.0\n",
              "...                    ...               ...               ...\n",
              "3.379000e+10     8810688.0      6.879252e+08        26716429.0\n",
              "3.379000e+10   140988659.0      4.445751e+08        35732243.0\n",
              "3.197021e+12   877385325.0      1.948281e+08        37295915.0\n",
              "3.370000e+14   253030201.0      5.396350e+08        56652839.0\n",
              "8.823971e+14   869844200.0      7.869760e+07        60456049.0\n",
              "\n",
              "[106856 rows x 3 columns]"
            ]
          },
          "metadata": {
            "tags": []
          },
          "execution_count": 99
        }
      ]
    },
    {
      "cell_type": "code",
      "metadata": {
        "colab": {
          "base_uri": "https://localhost:8080/",
          "height": 450
        },
        "id": "bUFSuTDUJLej",
        "outputId": "ff6d8cac-228f-4296-d5f7-7a2446efd5fc"
      },
      "source": [
        "\n",
        "data[\"Total Google\"] = data[\"Google DL (Bytes)\"] + data[\"Google UL (Bytes)\"]\n",
        "data[\"Total Youtube\"] = data[\"Youtube DL (Bytes)\"] + data[\"Youtube UL (Bytes)\"]\n",
        "data[\"Total Netflix\"] = data[\"Netflix DL (Bytes)\"] + data[\"Netflix UL (Bytes)\"]\n",
        "data[\"Total Email\"] = data[\"Email DL (Bytes)\"] + data[\"Email UL (Bytes)\"]\n",
        "data[\"Total Gaming\"] = data[\"Gaming DL (Bytes)\"] + data[\"Gaming UL (Bytes)\"]\n",
        "data[\"Total Social Media\"] = data[\"Social Media DL (Bytes)\"] + data[\"Social Media UL (Bytes)\"]\n",
        "data[\"Total Other\"] = data[\"Other DL (Bytes)\"] + data[\"Other UL (Bytes)\"]\n",
        "\n",
        "\n",
        "app_data = data[[\"Bearer Id\",\"MSISDN/Number\",\"Total Google\", \"Total Youtube\", \"Total Netflix\", \"Total Email\", \"Total Gaming\", \n",
        "                 \"Total Social Media\", \"Total Other\"]]\n",
        "app_data.groupby([\"MSISDN/Number\"]).agg('sum')\n"
      ],
      "execution_count": 102,
      "outputs": [
        {
          "output_type": "execute_result",
          "data": {
            "text/html": [
              "<div>\n",
              "<style scoped>\n",
              "    .dataframe tbody tr th:only-of-type {\n",
              "        vertical-align: middle;\n",
              "    }\n",
              "\n",
              "    .dataframe tbody tr th {\n",
              "        vertical-align: top;\n",
              "    }\n",
              "\n",
              "    .dataframe thead th {\n",
              "        text-align: right;\n",
              "    }\n",
              "</style>\n",
              "<table border=\"1\" class=\"dataframe\">\n",
              "  <thead>\n",
              "    <tr style=\"text-align: right;\">\n",
              "      <th></th>\n",
              "      <th>Bearer Id</th>\n",
              "      <th>Total Google</th>\n",
              "      <th>Total Youtube</th>\n",
              "      <th>Total Netflix</th>\n",
              "      <th>Total Email</th>\n",
              "      <th>Total Gaming</th>\n",
              "      <th>Total Social Media</th>\n",
              "      <th>Total Other</th>\n",
              "    </tr>\n",
              "    <tr>\n",
              "      <th>MSISDN/Number</th>\n",
              "      <th></th>\n",
              "      <th></th>\n",
              "      <th></th>\n",
              "      <th></th>\n",
              "      <th></th>\n",
              "      <th></th>\n",
              "      <th></th>\n",
              "      <th></th>\n",
              "    </tr>\n",
              "  </thead>\n",
              "  <tbody>\n",
              "    <tr>\n",
              "      <th>3.360100e+10</th>\n",
              "      <td>1.311448e+19</td>\n",
              "      <td>4389005.0</td>\n",
              "      <td>21624548.0</td>\n",
              "      <td>27180981.0</td>\n",
              "      <td>1331362.0</td>\n",
              "      <td>8.124587e+08</td>\n",
              "      <td>2232135.0</td>\n",
              "      <td>386570872.0</td>\n",
              "    </tr>\n",
              "    <tr>\n",
              "      <th>3.360100e+10</th>\n",
              "      <td>7.349883e+18</td>\n",
              "      <td>5334863.0</td>\n",
              "      <td>12432223.0</td>\n",
              "      <td>11221763.0</td>\n",
              "      <td>3307781.0</td>\n",
              "      <td>1.197501e+08</td>\n",
              "      <td>2660565.0</td>\n",
              "      <td>281710071.0</td>\n",
              "    </tr>\n",
              "    <tr>\n",
              "      <th>3.360100e+10</th>\n",
              "      <td>7.349883e+18</td>\n",
              "      <td>3443126.0</td>\n",
              "      <td>21333570.0</td>\n",
              "      <td>19353900.0</td>\n",
              "      <td>3205380.0</td>\n",
              "      <td>5.388277e+08</td>\n",
              "      <td>3195623.0</td>\n",
              "      <td>501693672.0</td>\n",
              "    </tr>\n",
              "    <tr>\n",
              "      <th>3.360101e+10</th>\n",
              "      <td>1.304243e+19</td>\n",
              "      <td>9678493.0</td>\n",
              "      <td>6977321.0</td>\n",
              "      <td>1942092.0</td>\n",
              "      <td>2284670.0</td>\n",
              "      <td>3.911261e+08</td>\n",
              "      <td>280294.0</td>\n",
              "      <td>35279702.0</td>\n",
              "    </tr>\n",
              "    <tr>\n",
              "      <th>3.360101e+10</th>\n",
              "      <td>1.462771e+19</td>\n",
              "      <td>18499616.0</td>\n",
              "      <td>41533002.0</td>\n",
              "      <td>49201724.0</td>\n",
              "      <td>3305469.0</td>\n",
              "      <td>1.314798e+09</td>\n",
              "      <td>2912542.0</td>\n",
              "      <td>804804484.0</td>\n",
              "    </tr>\n",
              "    <tr>\n",
              "      <th>...</th>\n",
              "      <td>...</td>\n",
              "      <td>...</td>\n",
              "      <td>...</td>\n",
              "      <td>...</td>\n",
              "      <td>...</td>\n",
              "      <td>...</td>\n",
              "      <td>...</td>\n",
              "      <td>...</td>\n",
              "    </tr>\n",
              "    <tr>\n",
              "      <th>3.379000e+10</th>\n",
              "      <td>1.304243e+19</td>\n",
              "      <td>7531269.0</td>\n",
              "      <td>26647843.0</td>\n",
              "      <td>14902538.0</td>\n",
              "      <td>1006915.0</td>\n",
              "      <td>6.603614e+08</td>\n",
              "      <td>300183.0</td>\n",
              "      <td>295282817.0</td>\n",
              "    </tr>\n",
              "    <tr>\n",
              "      <th>3.379000e+10</th>\n",
              "      <td>1.311448e+19</td>\n",
              "      <td>5429705.0</td>\n",
              "      <td>19851572.0</td>\n",
              "      <td>8531060.0</td>\n",
              "      <td>2514097.0</td>\n",
              "      <td>4.370033e+08</td>\n",
              "      <td>498569.0</td>\n",
              "      <td>211115113.0</td>\n",
              "    </tr>\n",
              "    <tr>\n",
              "      <th>3.197021e+12</th>\n",
              "      <td>7.277826e+18</td>\n",
              "      <td>10438660.0</td>\n",
              "      <td>11959905.0</td>\n",
              "      <td>26592300.0</td>\n",
              "      <td>1520771.0</td>\n",
              "      <td>1.780487e+08</td>\n",
              "      <td>715224.0</td>\n",
              "      <td>470526473.0</td>\n",
              "    </tr>\n",
              "    <tr>\n",
              "      <th>3.370000e+14</th>\n",
              "      <td>7.349883e+18</td>\n",
              "      <td>9830617.0</td>\n",
              "      <td>36734940.0</td>\n",
              "      <td>30905042.0</td>\n",
              "      <td>3318582.0</td>\n",
              "      <td>5.101427e+08</td>\n",
              "      <td>521566.0</td>\n",
              "      <td>149188439.0</td>\n",
              "    </tr>\n",
              "    <tr>\n",
              "      <th>8.823971e+14</th>\n",
              "      <td>7.277826e+18</td>\n",
              "      <td>9218647.0</td>\n",
              "      <td>40940710.0</td>\n",
              "      <td>28846230.0</td>\n",
              "      <td>3330974.0</td>\n",
              "      <td>4.307026e+07</td>\n",
              "      <td>1546088.0</td>\n",
              "      <td>401360457.0</td>\n",
              "    </tr>\n",
              "  </tbody>\n",
              "</table>\n",
              "<p>106856 rows × 8 columns</p>\n",
              "</div>"
            ],
            "text/plain": [
              "                  Bearer Id  Total Google  ...  Total Social Media  Total Other\n",
              "MSISDN/Number                              ...                                 \n",
              "3.360100e+10   1.311448e+19     4389005.0  ...           2232135.0  386570872.0\n",
              "3.360100e+10   7.349883e+18     5334863.0  ...           2660565.0  281710071.0\n",
              "3.360100e+10   7.349883e+18     3443126.0  ...           3195623.0  501693672.0\n",
              "3.360101e+10   1.304243e+19     9678493.0  ...            280294.0   35279702.0\n",
              "3.360101e+10   1.462771e+19    18499616.0  ...           2912542.0  804804484.0\n",
              "...                     ...           ...  ...                 ...          ...\n",
              "3.379000e+10   1.304243e+19     7531269.0  ...            300183.0  295282817.0\n",
              "3.379000e+10   1.311448e+19     5429705.0  ...            498569.0  211115113.0\n",
              "3.197021e+12   7.277826e+18    10438660.0  ...            715224.0  470526473.0\n",
              "3.370000e+14   7.349883e+18     9830617.0  ...            521566.0  149188439.0\n",
              "8.823971e+14   7.277826e+18     9218647.0  ...           1546088.0  401360457.0\n",
              "\n",
              "[106856 rows x 8 columns]"
            ]
          },
          "metadata": {
            "tags": []
          },
          "execution_count": 102
        }
      ]
    },
    {
      "cell_type": "code",
      "metadata": {
        "id": "Pa55UGl3WGlM"
      },
      "source": [
        ""
      ],
      "execution_count": null,
      "outputs": []
    },
    {
      "cell_type": "markdown",
      "metadata": {
        "id": "3wwnfDoXW2Ut"
      },
      "source": [
        "Task 1.2 - Conduct an exploratory data analysis on those data & communicate useful insights. Ensure that you identify and treat all missing values and outliers in the dataset by replacing by the mean of the corresponding column."
      ]
    },
    {
      "cell_type": "code",
      "metadata": {
        "colab": {
          "base_uri": "https://localhost:8080/"
        },
        "id": "1m75t17zXChH",
        "outputId": "d8746ef6-df44-4319-889b-ad96b3d6f4c1"
      },
      "source": [
        "#checking for null values\n",
        "data[[\"Dur. (ms).1\",\"Total DL (Bytes)\",\"Total UL (Bytes)\", \"Total Social Media\", \"Total Google\", \"Total Email\", \"Total Youtube\",\n",
        "      \"Total Netflix\", \"Total Gaming\"]].isna().sum().head(60)"
      ],
      "execution_count": 106,
      "outputs": [
        {
          "output_type": "execute_result",
          "data": {
            "text/plain": [
              "Dur. (ms).1           0\n",
              "Total DL (Bytes)      0\n",
              "Total UL (Bytes)      0\n",
              "Total Social Media    0\n",
              "Total Google          0\n",
              "Total Email           0\n",
              "Total Youtube         0\n",
              "Total Netflix         0\n",
              "Total Gaming          0\n",
              "dtype: int64"
            ]
          },
          "metadata": {
            "tags": []
          },
          "execution_count": 106
        }
      ]
    },
    {
      "cell_type": "code",
      "metadata": {
        "id": "_Cba_COsXc0h"
      },
      "source": [
        "#filling the null values with the mean of the column\n",
        "data[\"Total DL (Bytes)\"].fillna(data[\"Total DL (Bytes)\"].mean(), inplace = True)\n",
        "data[\"Total UL (Bytes)\"].fillna(data[\"Total UL (Bytes)\"].mean(), inplace = True)\n",
        "data[\"Dur. (ms).1\"].fillna(data[\"Dur. (ms).1\"].mean(), inplace = True)"
      ],
      "execution_count": 116,
      "outputs": []
    },
    {
      "cell_type": "code",
      "metadata": {
        "colab": {
          "base_uri": "https://localhost:8080/",
          "height": 297
        },
        "id": "wfkpfXZQYMQB",
        "outputId": "31b19660-9213-4583-8502-2a68be815045"
      },
      "source": [
        "data[[\"Dur. (ms).1\", \"Total DL (Bytes)\",\"Total UL (Bytes)\", \"Total Social Media\", \"Total Google\", \"Total Email\", \"Total Youtube\",\n",
        "      \"Total Netflix\", \"Total Gaming\"]].describe()"
      ],
      "execution_count": 111,
      "outputs": [
        {
          "output_type": "execute_result",
          "data": {
            "text/html": [
              "<div>\n",
              "<style scoped>\n",
              "    .dataframe tbody tr th:only-of-type {\n",
              "        vertical-align: middle;\n",
              "    }\n",
              "\n",
              "    .dataframe tbody tr th {\n",
              "        vertical-align: top;\n",
              "    }\n",
              "\n",
              "    .dataframe thead th {\n",
              "        text-align: right;\n",
              "    }\n",
              "</style>\n",
              "<table border=\"1\" class=\"dataframe\">\n",
              "  <thead>\n",
              "    <tr style=\"text-align: right;\">\n",
              "      <th></th>\n",
              "      <th>Dur. (ms).1</th>\n",
              "      <th>Total DL (Bytes)</th>\n",
              "      <th>Total UL (Bytes)</th>\n",
              "      <th>Total Social Media</th>\n",
              "      <th>Total Google</th>\n",
              "      <th>Total Email</th>\n",
              "      <th>Total Youtube</th>\n",
              "      <th>Total Netflix</th>\n",
              "      <th>Total Gaming</th>\n",
              "    </tr>\n",
              "  </thead>\n",
              "  <tbody>\n",
              "    <tr>\n",
              "      <th>count</th>\n",
              "      <td>1.500010e+05</td>\n",
              "      <td>1.500010e+05</td>\n",
              "      <td>1.500010e+05</td>\n",
              "      <td>1.500010e+05</td>\n",
              "      <td>1.500010e+05</td>\n",
              "      <td>1.500010e+05</td>\n",
              "      <td>1.500010e+05</td>\n",
              "      <td>1.500010e+05</td>\n",
              "      <td>1.500010e+05</td>\n",
              "    </tr>\n",
              "    <tr>\n",
              "      <th>mean</th>\n",
              "      <td>1.046091e+08</td>\n",
              "      <td>4.546434e+08</td>\n",
              "      <td>4.112121e+07</td>\n",
              "      <td>1.828250e+06</td>\n",
              "      <td>7.807295e+06</td>\n",
              "      <td>2.259102e+06</td>\n",
              "      <td>2.264348e+07</td>\n",
              "      <td>2.262861e+07</td>\n",
              "      <td>4.303331e+08</td>\n",
              "    </tr>\n",
              "    <tr>\n",
              "      <th>std</th>\n",
              "      <td>8.103734e+07</td>\n",
              "      <td>2.441421e+08</td>\n",
              "      <td>1.127635e+07</td>\n",
              "      <td>1.035646e+06</td>\n",
              "      <td>3.516420e+06</td>\n",
              "      <td>1.071109e+06</td>\n",
              "      <td>9.246800e+06</td>\n",
              "      <td>9.260820e+06</td>\n",
              "      <td>2.440199e+08</td>\n",
              "    </tr>\n",
              "    <tr>\n",
              "      <th>min</th>\n",
              "      <td>7.142988e+06</td>\n",
              "      <td>7.114041e+06</td>\n",
              "      <td>2.866892e+06</td>\n",
              "      <td>1.563000e+03</td>\n",
              "      <td>4.033000e+04</td>\n",
              "      <td>8.359000e+03</td>\n",
              "      <td>7.890300e+04</td>\n",
              "      <td>9.843200e+04</td>\n",
              "      <td>3.063580e+05</td>\n",
              "    </tr>\n",
              "    <tr>\n",
              "      <th>25%</th>\n",
              "      <td>5.744206e+07</td>\n",
              "      <td>2.431072e+08</td>\n",
              "      <td>3.322203e+07</td>\n",
              "      <td>9.322180e+05</td>\n",
              "      <td>4.943599e+06</td>\n",
              "      <td>1.359344e+06</td>\n",
              "      <td>1.599846e+07</td>\n",
              "      <td>1.597946e+07</td>\n",
              "      <td>2.187279e+08</td>\n",
              "    </tr>\n",
              "    <tr>\n",
              "      <th>50%</th>\n",
              "      <td>8.639998e+07</td>\n",
              "      <td>4.558409e+08</td>\n",
              "      <td>4.114324e+07</td>\n",
              "      <td>1.826471e+06</td>\n",
              "      <td>7.812835e+06</td>\n",
              "      <td>2.263567e+06</td>\n",
              "      <td>2.266177e+07</td>\n",
              "      <td>2.263554e+07</td>\n",
              "      <td>4.316150e+08</td>\n",
              "    </tr>\n",
              "    <tr>\n",
              "      <th>75%</th>\n",
              "      <td>1.324307e+08</td>\n",
              "      <td>6.657051e+08</td>\n",
              "      <td>4.903424e+07</td>\n",
              "      <td>2.727487e+06</td>\n",
              "      <td>1.068280e+07</td>\n",
              "      <td>3.159818e+06</td>\n",
              "      <td>2.929260e+07</td>\n",
              "      <td>2.929044e+07</td>\n",
              "      <td>6.414159e+08</td>\n",
              "    </tr>\n",
              "    <tr>\n",
              "      <th>max</th>\n",
              "      <td>1.859336e+09</td>\n",
              "      <td>9.029696e+08</td>\n",
              "      <td>7.833131e+07</td>\n",
              "      <td>3.650861e+06</td>\n",
              "      <td>1.552878e+07</td>\n",
              "      <td>4.518036e+06</td>\n",
              "      <td>4.519008e+07</td>\n",
              "      <td>4.519815e+07</td>\n",
              "      <td>8.592028e+08</td>\n",
              "    </tr>\n",
              "  </tbody>\n",
              "</table>\n",
              "</div>"
            ],
            "text/plain": [
              "        Dur. (ms).1  Total DL (Bytes)  ...  Total Netflix  Total Gaming\n",
              "count  1.500010e+05      1.500010e+05  ...   1.500010e+05  1.500010e+05\n",
              "mean   1.046091e+08      4.546434e+08  ...   2.262861e+07  4.303331e+08\n",
              "std    8.103734e+07      2.441421e+08  ...   9.260820e+06  2.440199e+08\n",
              "min    7.142988e+06      7.114041e+06  ...   9.843200e+04  3.063580e+05\n",
              "25%    5.744206e+07      2.431072e+08  ...   1.597946e+07  2.187279e+08\n",
              "50%    8.639998e+07      4.558409e+08  ...   2.263554e+07  4.316150e+08\n",
              "75%    1.324307e+08      6.657051e+08  ...   2.929044e+07  6.414159e+08\n",
              "max    1.859336e+09      9.029696e+08  ...   4.519815e+07  8.592028e+08\n",
              "\n",
              "[8 rows x 9 columns]"
            ]
          },
          "metadata": {
            "tags": []
          },
          "execution_count": 111
        }
      ]
    },
    {
      "cell_type": "code",
      "metadata": {
        "colab": {
          "base_uri": "https://localhost:8080/"
        },
        "id": "PeSZIp-yYgm1",
        "outputId": "6479b28d-7eb8-459f-9b37-27c02487ddc3"
      },
      "source": [
        "#checking for skewness\n",
        "data.skew()"
      ],
      "execution_count": 112,
      "outputs": [
        {
          "output_type": "execute_result",
          "data": {
            "text/plain": [
              "Bearer Id                                     0.026666\n",
              "Start ms                                      0.000968\n",
              "End ms                                       -0.001163\n",
              "Dur. (ms)                                     3.952609\n",
              "IMSI                                         41.045956\n",
              "MSISDN/Number                               332.155856\n",
              "IMEI                                          1.071470\n",
              "Avg RTT DL (ms)                              62.907828\n",
              "Avg RTT UL (ms)                              28.457415\n",
              "Avg Bearer TP DL (kbps)                       2.589437\n",
              "Avg Bearer TP UL (kbps)                       4.503413\n",
              "TCP DL Retrans. Vol (Bytes)                  15.951809\n",
              "TCP UL Retrans. Vol (Bytes)                  84.113393\n",
              "DL TP < 50 Kbps (%)                          -2.297803\n",
              "50 Kbps < DL TP < 250 Kbps (%)                3.271453\n",
              "250 Kbps < DL TP < 1 Mbps (%)                 4.566158\n",
              "DL TP > 1 Mbps (%)                            5.370351\n",
              "UL TP < 10 Kbps (%)                          -8.985016\n",
              "10 Kbps < UL TP < 50 Kbps (%)                10.943888\n",
              "50 Kbps < UL TP < 300 Kbps (%)               21.878495\n",
              "UL TP > 300 Kbps (%)                         36.174053\n",
              "HTTP DL (Bytes)                              38.944710\n",
              "HTTP UL (Bytes)                              32.474970\n",
              "Activity Duration DL (ms)                     5.872256\n",
              "Activity Duration UL (ms)                     7.382557\n",
              "Dur. (ms).1                                   3.952622\n",
              "Nb of sec with 125000B < Vol DL               6.592502\n",
              "Nb of sec with 1250B < Vol UL < 6250B        22.035745\n",
              "Nb of sec with 31250B < Vol DL < 125000B      6.610541\n",
              "Nb of sec with 37500B < Vol UL               21.560028\n",
              "Nb of sec with 6250B < Vol DL < 31250B        6.896050\n",
              "Nb of sec with 6250B < Vol UL < 37500B       19.642752\n",
              "Nb of sec with Vol DL < 6250B                 9.042166\n",
              "Nb of sec with Vol UL < 1250B                 7.495176\n",
              "Social Media DL (Bytes)                      -0.002136\n",
              "Social Media UL (Bytes)                      -0.000359\n",
              "Google DL (Bytes)                            -0.008092\n",
              "Google UL (Bytes)                             0.002216\n",
              "Email DL (Bytes)                             -0.002463\n",
              "Email UL (Bytes)                              0.007358\n",
              "Youtube DL (Bytes)                            0.000231\n",
              "Youtube UL (Bytes)                           -0.001142\n",
              "Netflix DL (Bytes)                           -0.002442\n",
              "Netflix UL (Bytes)                           -0.000113\n",
              "Gaming DL (Bytes)                            -0.003460\n",
              "Gaming UL (Bytes)                            -0.001840\n",
              "Other DL (Bytes)                              0.001400\n",
              "Other UL (Bytes)                              0.001392\n",
              "Total UL (Bytes)                             -0.002456\n",
              "Total DL (Bytes)                             -0.003153\n",
              "Total Google                                 -0.010602\n",
              "Total Youtube                                -0.005465\n",
              "Total Netflix                                -0.000409\n",
              "Total Email                                  -0.006033\n",
              "Total Gaming                                 -0.003225\n",
              "Total Social Media                           -0.002121\n",
              "Total Other                                   0.001256\n",
              "dtype: float64"
            ]
          },
          "metadata": {
            "tags": []
          },
          "execution_count": 112
        }
      ]
    },
    {
      "cell_type": "code",
      "metadata": {
        "colab": {
          "base_uri": "https://localhost:8080/",
          "height": 292
        },
        "id": "ft6xwQejY_RR",
        "outputId": "58f7be07-3515-4926-b2ff-b8ef38fe2e83"
      },
      "source": [
        "#looking for the outliers\n",
        "data.boxplot(column=['Dur. (ms).1', \"Total DL (Bytes)\",\"Total UL (Bytes)\"])\n"
      ],
      "execution_count": 113,
      "outputs": [
        {
          "output_type": "execute_result",
          "data": {
            "text/plain": [
              "<matplotlib.axes._subplots.AxesSubplot at 0x7fbf06fd19d0>"
            ]
          },
          "metadata": {
            "tags": []
          },
          "execution_count": 113
        },
        {
          "output_type": "display_data",
          "data": {
            "image/png": "[encoded data removed]",
            "text/plain": [
              "<Figure size 432x288 with 1 Axes>"
            ]
          },
          "metadata": {
            "tags": [],
            "image/png": {
              "width": 378,
              "height": 258
            }
          }
        }
      ]
    },
    {
      "cell_type": "markdown",
      "metadata": {
        "id": "QAUmCZ5SljQV"
      },
      "source": [
        "plotting variable distributions"
      ]
    },
    {
      "cell_type": "code",
      "metadata": {
        "colab": {
          "base_uri": "https://localhost:8080/",
          "height": 311
        },
        "id": "cZCndnHuZJ9Z",
        "outputId": "6642d8ff-67e2-4767-b1ca-dc7bc047b26e"
      },
      "source": [
        "#plotting Histogram for Duration\n",
        "data[\"Dur. (ms).1\"].hist(bins = 50)\n",
        "plt.title(\"Duration Histogram\")"
      ],
      "execution_count": 124,
      "outputs": [
        {
          "output_type": "execute_result",
          "data": {
            "text/plain": [
              "Text(0.5, 1.0, 'Duration Histogram')"
            ]
          },
          "metadata": {
            "tags": []
          },
          "execution_count": 124
        },
        {
          "output_type": "display_data",
          "data": {
            "image/png": "[encoded data removed]",
            "text/plain": [
              "<Figure size 432x288 with 1 Axes>"
            ]
          },
          "metadata": {
            "tags": [],
            "image/png": {
              "width": 388,
              "height": 277
            }
          }
        }
      ]
    },
    {
      "cell_type": "code",
      "metadata": {
        "colab": {
          "base_uri": "https://localhost:8080/",
          "height": 311
        },
        "id": "b0Tw4D3sgM69",
        "outputId": "895f649e-32e5-4ad7-b785-ca25174dac4f"
      },
      "source": [
        "#plotting Histogram for Total Download \n",
        "\n",
        "data[\"Total DL (Bytes)\"].hist(bins = 50)\n",
        "plt.title(\"Total Download Histogram\")"
      ],
      "execution_count": 117,
      "outputs": [
        {
          "output_type": "execute_result",
          "data": {
            "text/plain": [
              "Text(0.5, 1.0, 'Total Download Histogram')"
            ]
          },
          "metadata": {
            "tags": []
          },
          "execution_count": 117
        },
        {
          "output_type": "display_data",
          "data": {
            "image/png": "[encoded data removed]",
            "text/plain": [
              "<Figure size 432x288 with 1 Axes>"
            ]
          },
          "metadata": {
            "tags": [],
            "image/png": {
              "width": 381,
              "height": 277
            }
          }
        }
      ]
    },
    {
      "cell_type": "code",
      "metadata": {
        "colab": {
          "base_uri": "https://localhost:8080/",
          "height": 311
        },
        "id": "rR_0z4HXgiLU",
        "outputId": "a1406fbb-2fc3-49c2-e266-95a8b999cf0c"
      },
      "source": [
        "#plotting Histogram for Total Upload \n",
        "data[\"Total UL (Bytes)\"].hist(bins = 50)\n",
        "plt.title(\"Total Upload Histogram\")"
      ],
      "execution_count": 118,
      "outputs": [
        {
          "output_type": "execute_result",
          "data": {
            "text/plain": [
              "Text(0.5, 1.0, 'Total Upload Histogram')"
            ]
          },
          "metadata": {
            "tags": []
          },
          "execution_count": 118
        },
        {
          "output_type": "display_data",
          "data": {
            "image/png": "[encoded data removed]",
            "text/plain": [
              "<Figure size 432x288 with 1 Axes>"
            ]
          },
          "metadata": {
            "tags": [],
            "image/png": {
              "width": 381,
              "height": 277
            }
          }
        }
      ]
    },
    {
      "cell_type": "code",
      "metadata": {
        "colab": {
          "base_uri": "https://localhost:8080/",
          "height": 311
        },
        "id": "nyk4Y2IghWWT",
        "outputId": "5e035493-495e-48f1-c254-44d35e839fbd"
      },
      "source": [
        "#plotting Histogram for Total Social Media Data\n",
        "data[\"Total Social Media\"].hist(bins = 50)\n",
        "plt.title(\"Total Social Media Data Histogram\")"
      ],
      "execution_count": 119,
      "outputs": [
        {
          "output_type": "execute_result",
          "data": {
            "text/plain": [
              "Text(0.5, 1.0, 'Total Social Media Data Histogram')"
            ]
          },
          "metadata": {
            "tags": []
          },
          "execution_count": 119
        },
        {
          "output_type": "display_data",
          "data": {
            "image/png": "[encoded data removed]",
            "text/plain": [
              "<Figure size 432x288 with 1 Axes>"
            ]
          },
          "metadata": {
            "tags": [],
            "image/png": {
              "width": 381,
              "height": 277
            }
          }
        }
      ]
    },
    {
      "cell_type": "code",
      "metadata": {
        "colab": {
          "base_uri": "https://localhost:8080/",
          "height": 311
        },
        "id": "UhqthB77iO6O",
        "outputId": "82ece995-dff8-45c7-c52f-512227f4a1dc"
      },
      "source": [
        "# plotting Histogram for Total Google Data\n",
        "data[\"Total Google\"].hist(bins = 50)\n",
        "plt.title(\"Total Google Data Histogram\")"
      ],
      "execution_count": 120,
      "outputs": [
        {
          "output_type": "execute_result",
          "data": {
            "text/plain": [
              "Text(0.5, 1.0, 'Total Google Data Histogram')"
            ]
          },
          "metadata": {
            "tags": []
          },
          "execution_count": 120
        },
        {
          "output_type": "display_data",
          "data": {
            "image/png": "[encoded data removed]",
            "text/plain": [
              "<Figure size 432x288 with 1 Axes>"
            ]
          },
          "metadata": {
            "tags": [],
            "image/png": {
              "width": 383,
              "height": 277
            }
          }
        }
      ]
    },
    {
      "cell_type": "code",
      "metadata": {
        "colab": {
          "base_uri": "https://localhost:8080/",
          "height": 311
        },
        "id": "j9LjwOPNiurp",
        "outputId": "dbea768d-04eb-4eeb-b6c0-566e1253ca3d"
      },
      "source": [
        "#plotting Histogram  for Total Email Data\n",
        "data[\"Total Email\"].hist(bins = 50)\n",
        "plt.title(\"Total Email Data Histogram\")"
      ],
      "execution_count": 121,
      "outputs": [
        {
          "output_type": "execute_result",
          "data": {
            "text/plain": [
              "Text(0.5, 1.0, 'Total Email Data Histogram')"
            ]
          },
          "metadata": {
            "tags": []
          },
          "execution_count": 121
        },
        {
          "output_type": "display_data",
          "data": {
            "image/png": "[encoded data removed]",
            "text/plain": [
              "<Figure size 432x288 with 1 Axes>"
            ]
          },
          "metadata": {
            "tags": [],
            "image/png": {
              "width": 381,
              "height": 277
            }
          }
        }
      ]
    },
    {
      "cell_type": "code",
      "metadata": {
        "colab": {
          "base_uri": "https://localhost:8080/",
          "height": 311
        },
        "id": "wrDgdWR4jUcM",
        "outputId": "59d01812-0c66-4145-b80b-c397a47a3ef9"
      },
      "source": [
        "#plotting Histogram for Total Youtube Data \n",
        "data[\"Total Youtube\"].hist(bins = 50)\n",
        "plt.title(\"Total Youtube Data Histogram\")"
      ],
      "execution_count": 122,
      "outputs": [
        {
          "output_type": "execute_result",
          "data": {
            "text/plain": [
              "Text(0.5, 1.0, 'Total Youtube Data Histogram')"
            ]
          },
          "metadata": {
            "tags": []
          },
          "execution_count": 122
        },
        {
          "output_type": "display_data",
          "data": {
            "image/png": "[encoded data removed]",
            "text/plain": [
              "<Figure size 432x288 with 1 Axes>"
            ]
          },
          "metadata": {
            "tags": [],
            "image/png": {
              "width": 381,
              "height": 277
            }
          }
        }
      ]
    },
    {
      "cell_type": "code",
      "metadata": {
        "colab": {
          "base_uri": "https://localhost:8080/",
          "height": 311
        },
        "id": "2N6mXGTykXql",
        "outputId": "d99708a7-3312-4d42-c2ca-54c1b3deb718"
      },
      "source": [
        "#plotting Histogram for Total Netflix\n",
        "data[\"Total Netflix\"].hist(bins = 50)\n",
        "plt.title(\"Total Netflix Data Histogram\")"
      ],
      "execution_count": 123,
      "outputs": [
        {
          "output_type": "execute_result",
          "data": {
            "text/plain": [
              "Text(0.5, 1.0, 'Total Netflix Data Histogram')"
            ]
          },
          "metadata": {
            "tags": []
          },
          "execution_count": 123
        },
        {
          "output_type": "display_data",
          "data": {
            "image/png": "[encoded data removed]",
            "text/plain": [
              "<Figure size 432x288 with 1 Axes>"
            ]
          },
          "metadata": {
            "tags": [],
            "image/png": {
              "width": 381,
              "height": 277
            }
          }
        }
      ]
    },
    {
      "cell_type": "code",
      "metadata": {
        "colab": {
          "base_uri": "https://localhost:8080/",
          "height": 311
        },
        "id": "tJ-hjJ-8mqs9",
        "outputId": "4d81152e-d1e4-433d-d45c-239642a4c53d"
      },
      "source": [
        "#plotting Histogram for Total Gaming Data\n",
        "data[\"Total Gaming\"].hist(bins = 50)\n",
        "plt.title(\"Total Gaming Data Histogram\")"
      ],
      "execution_count": 125,
      "outputs": [
        {
          "output_type": "execute_result",
          "data": {
            "text/plain": [
              "Text(0.5, 1.0, 'Total Gaming Data Histogram')"
            ]
          },
          "metadata": {
            "tags": []
          },
          "execution_count": 125
        },
        {
          "output_type": "display_data",
          "data": {
            "image/png": "[encoded data removed]",
            "text/plain": [
              "<Figure size 432x288 with 1 Axes>"
            ]
          },
          "metadata": {
            "tags": [],
            "image/png": {
              "width": 381,
              "height": 277
            }
          }
        }
      ]
    },
    {
      "cell_type": "code",
      "metadata": {
        "colab": {
          "base_uri": "https://localhost:8080/",
          "height": 299
        },
        "id": "qVo2Yo0pnJVD",
        "outputId": "d7a73316-1934-4328-878d-ef908ec11e53"
      },
      "source": [
        "#plotting comparisons\n",
        "total_usage = app_data[[\"Total Google\", \"Total Youtube\", \"Total Netflix\", \"Total Email\", \"Total Gaming\", \"Total Social Media\", \"Total Other\"]]\n",
        "ind = np.arange(7)\n",
        "width =0.8\n",
        "\n",
        "plt.xticks(ind , (\"Google\", \"Youtube\", \"Netflix\", \"Email\", \"Gaming\", \"Social\", \"Other\"))\n",
        "plt.bar(ind, total_usage.sum(), width, label = \"Total Usage\")\n",
        "plt.title(\"App Data usage\")"
      ],
      "execution_count": 126,
      "outputs": [
        {
          "output_type": "execute_result",
          "data": {
            "text/plain": [
              "Text(0.5, 1.0, 'App Data usage')"
            ]
          },
          "metadata": {
            "tags": []
          },
          "execution_count": 126
        },
        {
          "output_type": "display_data",
          "data": {
            "image/png": "[encoded data removed]",
            "text/plain": [
              "<Figure size 432x288 with 1 Axes>"
            ]
          },
          "metadata": {
            "tags": [],
            "image/png": {
              "width": 362,
              "height": 265
            }
          }
        }
      ]
    }
  ]
}