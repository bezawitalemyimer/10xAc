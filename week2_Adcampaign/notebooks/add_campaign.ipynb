{
 "cells": [
  {
   "cell_type": "markdown",
   "id": "9eeee86f",
   "metadata": {},
   "source": [
    "# A/B Hypothesis Testing:Ad campaign performance"
   ]
  },
  {
   "cell_type": "markdown",
   "id": "0f3993a8",
   "metadata": {},
   "source": [
    "The main objective of this project is to test if the ads that the advertising company runs resulted in a significant lift in brand awareness. \n",
    "This is a test run and the main objective is to validate the hypothesis algorithm you built. SmartAd ran this campaign from 3-10 July 2020.\n",
    "By using classical A/B testing and machine learning,smartAds plan to result insgnificant lift to the campany."
   ]
  },
  {
   "cell_type": "code",
   "execution_count": null,
   "id": "2f9d5b58",
   "metadata": {},
   "outputs": [],
   "source": [
    "#Data exploration and visualization"
   ]
  },
  {
   "cell_type": "markdown",
   "id": "1ec9f730",
   "metadata": {},
   "source": [
    "#imports\n",
    "import pandas as pd\n",
    "import numpy as np\n",
    "import matplotlib.pyplot as plt\n",
    "import scipy.stats as scs\n",
    "import statsmodels.api as sm #\n",
    "import seaborn as sns\n",
    "from sklearn import preprocessing  #\n",
    "from sklearn.preprocessing import scale #\n",
    "from scipy.stats import spearmanr #\n",
    "from sklearn.preprocessing import MinMaxScaler #\n",
    "from sklearn.model_selection import train_test_split #\n",
    "from sklearn.linear_model import LogisticRegression #\n",
    "from sklearn.tree import DecisionTreeClassifier #\n",
    "from sklearn.model_selection import KFold\n",
    "from sklearn.model_selection import cross_val_score #\n",
    "from sklearn.metrics import log_loss #\n",
    "from sklearn import metrics\n",
    "from matplotlib import rcParams #\n",
    "from matplotlib.pyplot import pie, axis, show\n",
    "from scipy.stats import norm  #"
   ]
  },
  {
   "cell_type": "code",
   "execution_count": null,
   "id": "1e5b4455",
   "metadata": {},
   "outputs": [],
   "source": []
  },
  {
   "cell_type": "code",
   "execution_count": 9,
   "id": "22f548d2",
   "metadata": {
    "scrolled": true
   },
   "outputs": [
    {
     "data": {
      "text/html": [
       "<div>\n",
       "<style scoped>\n",
       "    .dataframe tbody tr th:only-of-type {\n",
       "        vertical-align: middle;\n",
       "    }\n",
       "\n",
       "    .dataframe tbody tr th {\n",
       "        vertical-align: top;\n",
       "    }\n",
       "\n",
       "    .dataframe thead th {\n",
       "        text-align: right;\n",
       "    }\n",
       "</style>\n",
       "<table border=\"1\" class=\"dataframe\">\n",
       "  <thead>\n",
       "    <tr style=\"text-align: right;\">\n",
       "      <th></th>\n",
       "      <th>auction_id</th>\n",
       "      <th>experiment</th>\n",
       "      <th>date</th>\n",
       "      <th>hour</th>\n",
       "      <th>device_make</th>\n",
       "      <th>platform_os</th>\n",
       "      <th>browser</th>\n",
       "      <th>yes</th>\n",
       "      <th>no</th>\n",
       "    </tr>\n",
       "  </thead>\n",
       "  <tbody>\n",
       "    <tr>\n",
       "      <th>0</th>\n",
       "      <td>0008ef63-77a7-448b-bd1e-075f42c55e39</td>\n",
       "      <td>exposed</td>\n",
       "      <td>2020-07-10</td>\n",
       "      <td>8</td>\n",
       "      <td>Generic Smartphone</td>\n",
       "      <td>6</td>\n",
       "      <td>Chrome Mobile</td>\n",
       "      <td>0</td>\n",
       "      <td>0</td>\n",
       "    </tr>\n",
       "    <tr>\n",
       "      <th>1</th>\n",
       "      <td>000eabc5-17ce-4137-8efe-44734d914446</td>\n",
       "      <td>exposed</td>\n",
       "      <td>2020-07-07</td>\n",
       "      <td>10</td>\n",
       "      <td>Generic Smartphone</td>\n",
       "      <td>6</td>\n",
       "      <td>Chrome Mobile</td>\n",
       "      <td>0</td>\n",
       "      <td>0</td>\n",
       "    </tr>\n",
       "    <tr>\n",
       "      <th>2</th>\n",
       "      <td>0016d14a-ae18-4a02-a204-6ba53b52f2ed</td>\n",
       "      <td>exposed</td>\n",
       "      <td>2020-07-05</td>\n",
       "      <td>2</td>\n",
       "      <td>E5823</td>\n",
       "      <td>6</td>\n",
       "      <td>Chrome Mobile WebView</td>\n",
       "      <td>0</td>\n",
       "      <td>1</td>\n",
       "    </tr>\n",
       "    <tr>\n",
       "      <th>3</th>\n",
       "      <td>00187412-2932-4542-a8ef-3633901c98d9</td>\n",
       "      <td>control</td>\n",
       "      <td>2020-07-03</td>\n",
       "      <td>15</td>\n",
       "      <td>Samsung SM-A705FN</td>\n",
       "      <td>6</td>\n",
       "      <td>Facebook</td>\n",
       "      <td>0</td>\n",
       "      <td>0</td>\n",
       "    </tr>\n",
       "    <tr>\n",
       "      <th>4</th>\n",
       "      <td>001a7785-d3fe-4e11-a344-c8735acacc2c</td>\n",
       "      <td>control</td>\n",
       "      <td>2020-07-03</td>\n",
       "      <td>15</td>\n",
       "      <td>Generic Smartphone</td>\n",
       "      <td>6</td>\n",
       "      <td>Chrome Mobile</td>\n",
       "      <td>0</td>\n",
       "      <td>0</td>\n",
       "    </tr>\n",
       "  </tbody>\n",
       "</table>\n",
       "</div>"
      ],
      "text/plain": [
       "                             auction_id experiment        date  hour  \\\n",
       "0  0008ef63-77a7-448b-bd1e-075f42c55e39    exposed  2020-07-10     8   \n",
       "1  000eabc5-17ce-4137-8efe-44734d914446    exposed  2020-07-07    10   \n",
       "2  0016d14a-ae18-4a02-a204-6ba53b52f2ed    exposed  2020-07-05     2   \n",
       "3  00187412-2932-4542-a8ef-3633901c98d9    control  2020-07-03    15   \n",
       "4  001a7785-d3fe-4e11-a344-c8735acacc2c    control  2020-07-03    15   \n",
       "\n",
       "          device_make  platform_os                browser  yes  no  \n",
       "0  Generic Smartphone            6          Chrome Mobile    0   0  \n",
       "1  Generic Smartphone            6          Chrome Mobile    0   0  \n",
       "2               E5823            6  Chrome Mobile WebView    0   1  \n",
       "3   Samsung SM-A705FN            6               Facebook    0   0  \n",
       "4  Generic Smartphone            6          Chrome Mobile    0   0  "
      ]
     },
     "execution_count": 9,
     "metadata": {},
     "output_type": "execute_result"
    }
   ],
   "source": [
    "#loading the data \n",
    "data = pd.read_csv(\"/Users/bez/desktop/10xAc/week2_Adcampaign/data/AdsmartABdata.csv\")\n",
    "data.head(5)"
   ]
  },
  {
   "cell_type": "code",
   "execution_count": 5,
   "id": "e007be24",
   "metadata": {},
   "outputs": [
    {
     "data": {
      "text/plain": [
       "(8077, 9)"
      ]
     },
     "execution_count": 5,
     "metadata": {},
     "output_type": "execute_result"
    }
   ],
   "source": [
    "#dimension of data\n",
    "data.shape"
   ]
  },
  {
   "cell_type": "code",
   "execution_count": 6,
   "id": "cd5a1f18",
   "metadata": {},
   "outputs": [
    {
     "data": {
      "text/plain": [
       "(572, 9)"
      ]
     },
     "execution_count": 6,
     "metadata": {},
     "output_type": "execute_result"
    }
   ],
   "source": [
    "#users who answered yes \n",
    "data[(data.yes==1)].shape"
   ]
  },
  {
   "cell_type": "code",
   "execution_count": null,
   "id": "2648f66d",
   "metadata": {},
   "outputs": [],
   "source": [
    "#users who answered no\n",
    "data[(data.no==1)].shape"
   ]
  },
  {
   "cell_type": "code",
   "execution_count": 7,
   "id": "258297d4",
   "metadata": {},
   "outputs": [
    {
     "data": {
      "text/plain": [
       "(6834, 9)"
      ]
     },
     "execution_count": 7,
     "metadata": {},
     "output_type": "execute_result"
    }
   ],
   "source": [
    "#users who neither answered \"yes\" nor \"no\"\n",
    "data[(data.yes == 0)&(data.no == 0)].shape"
   ]
  },
  {
   "cell_type": "code",
   "execution_count": 12,
   "id": "b1eb80f0",
   "metadata": {},
   "outputs": [],
   "source": [
    "#cleaning and filtering data sets with those who answered\n",
    "answered= data[(data.yes == 1)|(data.no == 1)].reset_index()"
   ]
  },
  {
   "cell_type": "code",
   "execution_count": null,
   "id": "501848af",
   "metadata": {},
   "outputs": [],
   "source": [
    "# droping \n",
    "answered.drop('index', axis=1, inplace=True)\n",
    "answered.shape"
   ]
  },
  {
   "cell_type": "code",
   "execution_count": null,
   "id": "a8040f17",
   "metadata": {},
   "outputs": [],
   "source": [
    "#get unique values of each column\n",
    "answered.nunique()"
   ]
  }
 ],
 "metadata": {
  "kernelspec": {
   "display_name": "Python 3",
   "language": "python",
   "name": "python3"
  },
  "language_info": {
   "codemirror_mode": {
    "name": "ipython",
    "version": 3
   },
   "file_extension": ".py",
   "mimetype": "text/x-python",
   "name": "python",
   "nbconvert_exporter": "python",
   "pygments_lexer": "ipython3",
   "version": "3.8.8"
  }
 },
 "nbformat": 4,
 "nbformat_minor": 5
}
