{
 "cells": [
  {
   "cell_type": "markdown",
   "id": "01a59340",
   "metadata": {},
   "source": [
    "# A/B Hypothesis Testing:Ad campaign performance"
   ]
  },
  {
   "cell_type": "markdown",
   "id": "b236c1d5",
   "metadata": {},
   "source": [
    "The main objective of this project is to test if the ads that the advertising company runs resulted in a significant lift in brand awareness. \n",
    "This is a test run and the main objective is to validate the hypothesis algorithm you built. SmartAd ran this campaign from 3-10 July 2020.\n",
    "By using classical A/B testing and machine learning,smartAds plan to result insgnificant lift to the campany."
   ]
  },
  {
   "cell_type": "markdown",
   "id": "9fe42a0f",
   "metadata": {},
   "source": [
    "#Data exploration and visualization"
   ]
  },
  {
   "cell_type": "code",
   "execution_count": 1,
   "id": "479b1775",
   "metadata": {},
   "outputs": [],
   "source": [
    "#imports\n",
    "import pandas as pd\n",
    "import numpy as np\n",
    "import matplotlib.pyplot as plt\n",
    "import scipy.stats as scs\n",
    "import statsmodels.api as sm \n",
    "import seaborn as sns\n",
    "from sklearn import preprocessing  \n",
    "from sklearn.preprocessing import scale \n",
    "from scipy.stats import spearmanr #\n",
    "from sklearn.preprocessing import MinMaxScaler \n",
    "from sklearn.model_selection import train_test_split \n",
    "from sklearn.linear_model import LogisticRegression \n",
    "from sklearn.tree import DecisionTreeClassifier \n",
    "from sklearn.model_selection import KFold\n",
    "from sklearn.model_selection import cross_val_score #\n",
    "from sklearn.metrics import log_loss #\n",
    "from sklearn import metrics\n",
    "from matplotlib import rcParams #\n",
    "from matplotlib.pyplot import pie, axis, show\n",
    "from scipy.stats import norm  #\n",
    "import warnings\n",
    "warnings.filterwarnings(action=\"ignore\")\n"
   ]
  },
  {
   "cell_type": "code",
   "execution_count": 10,
   "id": "9a434d20",
   "metadata": {},
   "outputs": [
    {
     "ename": "ModuleNotFoundError",
     "evalue": "No module named 'xgboost'",
     "output_type": "error",
     "traceback": [
      "\u001b[0;31m---------------------------------------------------------------------------\u001b[0m",
      "\u001b[0;31mModuleNotFoundError\u001b[0m                       Traceback (most recent call last)",
      "\u001b[0;32m<ipython-input-10-5943d1bfe3f1>\u001b[0m in \u001b[0;36m<module>\u001b[0;34m\u001b[0m\n\u001b[0;32m----> 1\u001b[0;31m \u001b[0;32mimport\u001b[0m \u001b[0mxgboost\u001b[0m \u001b[0;32mas\u001b[0m \u001b[0mxgb\u001b[0m\u001b[0;34m\u001b[0m\u001b[0;34m\u001b[0m\u001b[0m\n\u001b[0m",
      "\u001b[0;31mModuleNotFoundError\u001b[0m: No module named 'xgboost'"
     ]
    }
   ],
   "source": [
    "#import xgboost as xgb\n",
    "import sys\n",
    "!{sys.executable} -m pip install xgboost"
   ]
  },
  {
   "cell_type": "code",
   "execution_count": null,
   "id": "4354f30b",
   "metadata": {},
   "outputs": [],
   "source": [
    "A/B Hypothesis Testing: Ad campaign performance"
   ]
  },
  {
   "cell_type": "markdown",
   "id": "f601251f",
   "metadata": {},
   "source": [
    "BIO Data Exploration"
   ]
  },
  {
   "cell_type": "code",
   "execution_count": 2,
   "id": "dc0371e3",
   "metadata": {
    "scrolled": true
   },
   "outputs": [
    {
     "data": {
      "text/html": [
       "<div>\n",
       "<style scoped>\n",
       "    .dataframe tbody tr th:only-of-type {\n",
       "        vertical-align: middle;\n",
       "    }\n",
       "\n",
       "    .dataframe tbody tr th {\n",
       "        vertical-align: top;\n",
       "    }\n",
       "\n",
       "    .dataframe thead th {\n",
       "        text-align: right;\n",
       "    }\n",
       "</style>\n",
       "<table border=\"1\" class=\"dataframe\">\n",
       "  <thead>\n",
       "    <tr style=\"text-align: right;\">\n",
       "      <th></th>\n",
       "      <th>auction_id</th>\n",
       "      <th>experiment</th>\n",
       "      <th>date</th>\n",
       "      <th>hour</th>\n",
       "      <th>device_make</th>\n",
       "      <th>platform_os</th>\n",
       "      <th>browser</th>\n",
       "      <th>yes</th>\n",
       "      <th>no</th>\n",
       "    </tr>\n",
       "  </thead>\n",
       "  <tbody>\n",
       "    <tr>\n",
       "      <th>0</th>\n",
       "      <td>0008ef63-77a7-448b-bd1e-075f42c55e39</td>\n",
       "      <td>exposed</td>\n",
       "      <td>2020-07-10</td>\n",
       "      <td>8</td>\n",
       "      <td>Generic Smartphone</td>\n",
       "      <td>6</td>\n",
       "      <td>Chrome Mobile</td>\n",
       "      <td>0</td>\n",
       "      <td>0</td>\n",
       "    </tr>\n",
       "    <tr>\n",
       "      <th>1</th>\n",
       "      <td>000eabc5-17ce-4137-8efe-44734d914446</td>\n",
       "      <td>exposed</td>\n",
       "      <td>2020-07-07</td>\n",
       "      <td>10</td>\n",
       "      <td>Generic Smartphone</td>\n",
       "      <td>6</td>\n",
       "      <td>Chrome Mobile</td>\n",
       "      <td>0</td>\n",
       "      <td>0</td>\n",
       "    </tr>\n",
       "    <tr>\n",
       "      <th>2</th>\n",
       "      <td>0016d14a-ae18-4a02-a204-6ba53b52f2ed</td>\n",
       "      <td>exposed</td>\n",
       "      <td>2020-07-05</td>\n",
       "      <td>2</td>\n",
       "      <td>E5823</td>\n",
       "      <td>6</td>\n",
       "      <td>Chrome Mobile WebView</td>\n",
       "      <td>0</td>\n",
       "      <td>1</td>\n",
       "    </tr>\n",
       "    <tr>\n",
       "      <th>3</th>\n",
       "      <td>00187412-2932-4542-a8ef-3633901c98d9</td>\n",
       "      <td>control</td>\n",
       "      <td>2020-07-03</td>\n",
       "      <td>15</td>\n",
       "      <td>Samsung SM-A705FN</td>\n",
       "      <td>6</td>\n",
       "      <td>Facebook</td>\n",
       "      <td>0</td>\n",
       "      <td>0</td>\n",
       "    </tr>\n",
       "    <tr>\n",
       "      <th>4</th>\n",
       "      <td>001a7785-d3fe-4e11-a344-c8735acacc2c</td>\n",
       "      <td>control</td>\n",
       "      <td>2020-07-03</td>\n",
       "      <td>15</td>\n",
       "      <td>Generic Smartphone</td>\n",
       "      <td>6</td>\n",
       "      <td>Chrome Mobile</td>\n",
       "      <td>0</td>\n",
       "      <td>0</td>\n",
       "    </tr>\n",
       "  </tbody>\n",
       "</table>\n",
       "</div>"
      ],
      "text/plain": [
       "                             auction_id experiment        date  hour  \\\n",
       "0  0008ef63-77a7-448b-bd1e-075f42c55e39    exposed  2020-07-10     8   \n",
       "1  000eabc5-17ce-4137-8efe-44734d914446    exposed  2020-07-07    10   \n",
       "2  0016d14a-ae18-4a02-a204-6ba53b52f2ed    exposed  2020-07-05     2   \n",
       "3  00187412-2932-4542-a8ef-3633901c98d9    control  2020-07-03    15   \n",
       "4  001a7785-d3fe-4e11-a344-c8735acacc2c    control  2020-07-03    15   \n",
       "\n",
       "          device_make  platform_os                browser  yes  no  \n",
       "0  Generic Smartphone            6          Chrome Mobile    0   0  \n",
       "1  Generic Smartphone            6          Chrome Mobile    0   0  \n",
       "2               E5823            6  Chrome Mobile WebView    0   1  \n",
       "3   Samsung SM-A705FN            6               Facebook    0   0  \n",
       "4  Generic Smartphone            6          Chrome Mobile    0   0  "
      ]
     },
     "execution_count": 2,
     "metadata": {},
     "output_type": "execute_result"
    }
   ],
   "source": [
    "#loading the data \n",
    "data = pd.read_csv(\"/Users/bez/desktop/10xAc/week2_Adcampaign/data/AdsmartABdata.csv\")\n",
    "data.head(5)"
   ]
  },
  {
   "cell_type": "markdown",
   "id": "a36312db",
   "metadata": {
    "scrolled": true
   },
   "source": [
    "#data set info \n",
    "data.info()"
   ]
  },
  {
   "cell_type": "code",
   "execution_count": 13,
   "id": "e027b9df",
   "metadata": {},
   "outputs": [
    {
     "data": {
      "text/html": [
       "<div>\n",
       "<style scoped>\n",
       "    .dataframe tbody tr th:only-of-type {\n",
       "        vertical-align: middle;\n",
       "    }\n",
       "\n",
       "    .dataframe tbody tr th {\n",
       "        vertical-align: top;\n",
       "    }\n",
       "\n",
       "    .dataframe thead th {\n",
       "        text-align: right;\n",
       "    }\n",
       "</style>\n",
       "<table border=\"1\" class=\"dataframe\">\n",
       "  <thead>\n",
       "    <tr style=\"text-align: right;\">\n",
       "      <th></th>\n",
       "      <th>hour</th>\n",
       "      <th>platform_os</th>\n",
       "      <th>yes</th>\n",
       "      <th>no</th>\n",
       "    </tr>\n",
       "  </thead>\n",
       "  <tbody>\n",
       "    <tr>\n",
       "      <th>count</th>\n",
       "      <td>8077.000000</td>\n",
       "      <td>8077.000000</td>\n",
       "      <td>8077.000000</td>\n",
       "      <td>8077.000000</td>\n",
       "    </tr>\n",
       "    <tr>\n",
       "      <th>mean</th>\n",
       "      <td>11.615080</td>\n",
       "      <td>5.947134</td>\n",
       "      <td>0.070818</td>\n",
       "      <td>0.083075</td>\n",
       "    </tr>\n",
       "    <tr>\n",
       "      <th>std</th>\n",
       "      <td>5.734879</td>\n",
       "      <td>0.224333</td>\n",
       "      <td>0.256537</td>\n",
       "      <td>0.276013</td>\n",
       "    </tr>\n",
       "    <tr>\n",
       "      <th>min</th>\n",
       "      <td>0.000000</td>\n",
       "      <td>5.000000</td>\n",
       "      <td>0.000000</td>\n",
       "      <td>0.000000</td>\n",
       "    </tr>\n",
       "    <tr>\n",
       "      <th>25%</th>\n",
       "      <td>7.000000</td>\n",
       "      <td>6.000000</td>\n",
       "      <td>0.000000</td>\n",
       "      <td>0.000000</td>\n",
       "    </tr>\n",
       "    <tr>\n",
       "      <th>50%</th>\n",
       "      <td>13.000000</td>\n",
       "      <td>6.000000</td>\n",
       "      <td>0.000000</td>\n",
       "      <td>0.000000</td>\n",
       "    </tr>\n",
       "    <tr>\n",
       "      <th>75%</th>\n",
       "      <td>15.000000</td>\n",
       "      <td>6.000000</td>\n",
       "      <td>0.000000</td>\n",
       "      <td>0.000000</td>\n",
       "    </tr>\n",
       "    <tr>\n",
       "      <th>max</th>\n",
       "      <td>23.000000</td>\n",
       "      <td>7.000000</td>\n",
       "      <td>1.000000</td>\n",
       "      <td>1.000000</td>\n",
       "    </tr>\n",
       "  </tbody>\n",
       "</table>\n",
       "</div>"
      ],
      "text/plain": [
       "              hour  platform_os          yes           no\n",
       "count  8077.000000  8077.000000  8077.000000  8077.000000\n",
       "mean     11.615080     5.947134     0.070818     0.083075\n",
       "std       5.734879     0.224333     0.256537     0.276013\n",
       "min       0.000000     5.000000     0.000000     0.000000\n",
       "25%       7.000000     6.000000     0.000000     0.000000\n",
       "50%      13.000000     6.000000     0.000000     0.000000\n",
       "75%      15.000000     6.000000     0.000000     0.000000\n",
       "max      23.000000     7.000000     1.000000     1.000000"
      ]
     },
     "execution_count": 13,
     "metadata": {},
     "output_type": "execute_result"
    }
   ],
   "source": [
    "data.describe()"
   ]
  },
  {
   "cell_type": "code",
   "execution_count": 12,
   "id": "35bd4884",
   "metadata": {},
   "outputs": [
    {
     "data": {
      "text/plain": [
       "auction_id     0\n",
       "experiment     0\n",
       "date           0\n",
       "hour           0\n",
       "device_make    0\n",
       "platform_os    0\n",
       "browser        0\n",
       "yes            0\n",
       "no             0\n",
       "dtype: int64"
      ]
     },
     "execution_count": 12,
     "metadata": {},
     "output_type": "execute_result"
    }
   ],
   "source": [
    "data.isnull().sum()"
   ]
  },
  {
   "cell_type": "code",
   "execution_count": 3,
   "id": "30684a36",
   "metadata": {},
   "outputs": [
    {
     "data": {
      "text/plain": [
       "Index(['auction_id', 'experiment', 'date', 'hour', 'device_make',\n",
       "       'platform_os', 'browser', 'yes', 'no'],\n",
       "      dtype='object')"
      ]
     },
     "execution_count": 3,
     "metadata": {},
     "output_type": "execute_result"
    }
   ],
   "source": [
    "#check columns\n",
    "data.columns"
   ]
  },
  {
   "cell_type": "code",
   "execution_count": 4,
   "id": "f400524c",
   "metadata": {},
   "outputs": [
    {
     "data": {
      "text/plain": [
       "(8077, 9)"
      ]
     },
     "execution_count": 4,
     "metadata": {},
     "output_type": "execute_result"
    }
   ],
   "source": [
    "#dimension of data\n",
    "data.shape"
   ]
  },
  {
   "cell_type": "code",
   "execution_count": 5,
   "id": "3aeae5bc",
   "metadata": {},
   "outputs": [
    {
     "data": {
      "text/plain": [
       "(572, 9)"
      ]
     },
     "execution_count": 5,
     "metadata": {},
     "output_type": "execute_result"
    }
   ],
   "source": [
    "#users who answered yes \n",
    "data[(data.yes==1)].shape"
   ]
  },
  {
   "cell_type": "code",
   "execution_count": 6,
   "id": "947558c6",
   "metadata": {},
   "outputs": [
    {
     "data": {
      "text/plain": [
       "(671, 9)"
      ]
     },
     "execution_count": 6,
     "metadata": {},
     "output_type": "execute_result"
    }
   ],
   "source": [
    "#users who answered no\n",
    "data[(data.no==1)].shape"
   ]
  },
  {
   "cell_type": "code",
   "execution_count": 7,
   "id": "3d864114",
   "metadata": {},
   "outputs": [
    {
     "data": {
      "text/plain": [
       "(6834, 9)"
      ]
     },
     "execution_count": 7,
     "metadata": {},
     "output_type": "execute_result"
    }
   ],
   "source": [
    "#users who neither answered \"yes\" nor \"no\"\n",
    "data[(data.yes == 0)&(data.no == 0)].shape"
   ]
  },
  {
   "cell_type": "markdown",
   "id": "3b270b75",
   "metadata": {},
   "source": [
    "* Out of the 8077 users 6834 chose not to respond to the survey,need to work with a valid response *"
   ]
  },
  {
   "cell_type": "code",
   "execution_count": 8,
   "id": "a6db11a8",
   "metadata": {},
   "outputs": [],
   "source": [
    "#cleaning and filtering data sets with those who answered\n",
    "answered =data[(data.yes == 1)|(data.no == 1)].reset_index()"
   ]
  },
  {
   "cell_type": "code",
   "execution_count": 9,
   "id": "ee88c484",
   "metadata": {},
   "outputs": [
    {
     "data": {
      "text/plain": [
       "(1243, 9)"
      ]
     },
     "execution_count": 9,
     "metadata": {},
     "output_type": "execute_result"
    }
   ],
   "source": [
    "# droping \n",
    "answered.drop('index', axis=1, inplace=True)\n",
    "answered.shape"
   ]
  },
  {
   "cell_type": "markdown",
   "id": "04c83322",
   "metadata": {},
   "source": [
    "data has 9 features with unique values "
   ]
  },
  {
   "cell_type": "code",
   "execution_count": 11,
   "id": "342b3740",
   "metadata": {},
   "outputs": [
    {
     "data": {
      "text/plain": [
       "auction_id     1243\n",
       "experiment        2\n",
       "date              8\n",
       "hour             24\n",
       "device_make     115\n",
       "platform_os       2\n",
       "browser           8\n",
       "yes               2\n",
       "no                2\n",
       "dtype: int64"
      ]
     },
     "execution_count": 11,
     "metadata": {},
     "output_type": "execute_result"
    }
   ],
   "source": [
    "#get unique values of each column\n",
    "answered.nunique()"
   ]
  },
  {
   "cell_type": "code",
   "execution_count": 25,
   "id": "0347805b",
   "metadata": {},
   "outputs": [],
   "source": [
    "def count_plot(variable):\n",
    "    sns.countplot(x=variable, data=answered)\n",
    "    \n",
    "def bar_plot(variable):\n",
    "    sns.barplot(y=variable, x='yes', data=answered, orient='h')\n"
   ]
  },
  {
   "cell_type": "code",
   "execution_count": 45,
   "id": "5641bf60",
   "metadata": {},
   "outputs": [
    {
     "data": {
      "image/png": "[encoded data removed]",
      "text/plain": [
       "<Figure size 1080x504 with 1 Axes>"
      ]
     },
     "metadata": {},
     "output_type": "display_data"
    }
   ],
   "source": [
    "sums = answered[\"yes\"].groupby(answered.experiment).sum()\n",
    "plt.figure(figsize=(15, 7))\n",
    "plt.title(\"experiment group count pie chart\")\n",
    "axis('equal');\n",
    "pie(sums, labels=sums.index);\n",
    "show()"
   ]
  },
  {
   "cell_type": "markdown",
   "id": "a637e66f",
   "metadata": {},
   "source": [
    "the above pie chart shows more users in the exposed group"
   ]
  },
  {
   "cell_type": "code",
   "execution_count": 44,
   "id": "2962d5e2",
   "metadata": {},
   "outputs": [
    {
     "data": {
      "text/plain": [
       "<AxesSubplot:xlabel='experiment', ylabel='yes'>"
      ]
     },
     "execution_count": 44,
     "metadata": {},
     "output_type": "execute_result"
    },
    {
     "data": {
      "image/png": "[encoded data removed]",
      "text/plain": [
       "<Figure size 1080x504 with 1 Axes>"
      ]
     },
     "metadata": {
      "needs_background": "light"
     },
     "output_type": "display_data"
    }
   ],
   "source": [
    "# yes \n",
    "plt.figure(figsize=(15, 7))\n",
    "sns.barplot(data=data, x='experiment', y='yes')"
   ]
  },
  {
   "cell_type": "markdown",
   "id": "3c91b991",
   "metadata": {},
   "source": [
    "*Date*plot showing more users answered on 2020-07-03"
   ]
  },
  {
   "cell_type": "code",
   "execution_count": 43,
   "id": "41bd895a",
   "metadata": {},
   "outputs": [
    {
     "data": {
      "image/png": "[encoded data removed]",
      "text/plain": [
       "<Figure size 1080x504 with 1 Axes>"
      ]
     },
     "metadata": {
      "needs_background": "light"
     },
     "output_type": "display_data"
    }
   ],
   "source": [
    "#plot value date \n",
    "plt.figure(figsize=(15, 7))\n",
    "plt.title(\"date count plot\")\n",
    "count_plot( \"date\")\n"
   ]
  },
  {
   "cell_type": "markdown",
   "id": "76bdb313",
   "metadata": {},
   "source": [
    "*Hour*plot showing more users answered on 15:00 o'clock"
   ]
  },
  {
   "cell_type": "code",
   "execution_count": 42,
   "id": "d4c70556",
   "metadata": {},
   "outputs": [
    {
     "data": {
      "image/png": "[encoded data removed]",
      "text/plain": [
       "<Figure size 1080x504 with 1 Axes>"
      ]
     },
     "metadata": {
      "needs_background": "light"
     },
     "output_type": "display_data"
    }
   ],
   "source": [
    "#\n",
    "plt.figure(figsize=(15, 7))\n",
    "plt.title(\"hour count plot\")\n",
    "count_plot( \"hour\")"
   ]
  },
  {
   "cell_type": "markdown",
   "id": "3c82d629",
   "metadata": {},
   "source": [
    "Chrome Mobile browser to be the most used browser among the users"
   ]
  },
  {
   "cell_type": "code",
   "execution_count": 51,
   "id": "130626c8",
   "metadata": {},
   "outputs": [
    {
     "data": {
      "image/png": "[encoded data removed]",
      "text/plain": [
       "<Figure size 2160x1080 with 1 Axes>"
      ]
     },
     "metadata": {
      "needs_background": "light"
     },
     "output_type": "display_data"
    }
   ],
   "source": [
    "#plot value Hour\n",
    "plt.figure(figsize=(30,15))\n",
    "plt.title(\"browser count plot\")\n",
    "count_plot(\"browser\")"
   ]
  },
  {
   "cell_type": "markdown",
   "id": "2f713a73",
   "metadata": {},
   "source": [
    " plot showing most of users are using a generic smartphone"
   ]
  },
  {
   "cell_type": "code",
   "execution_count": 52,
   "id": "a51bd2b9",
   "metadata": {},
   "outputs": [
    {
     "data": {
      "image/png": "[encoded data removed]",
      "text/plain": [
       "<Figure size 1800x720 with 1 Axes>"
      ]
     },
     "metadata": {
      "needs_background": "light"
     },
     "output_type": "display_data"
    }
   ],
   "source": [
    "#rotate x-axis labels 90 degree so we can \n",
    "plt.figure(figsize=(25,10))\n",
    "plt.xticks(rotation=90)\n",
    "plt.title(\"device_make count plot\")\n",
    "count_plot(\"device_make\")"
   ]
  },
  {
   "cell_type": "markdown",
   "id": "1eb7c9bf",
   "metadata": {},
   "source": [
    "The bar plots below show the relationships between the features\n",
    "and the responses to the advertisement and how is the answers are related to each feature "
   ]
  },
  {
   "cell_type": "markdown",
   "id": "fb391a00",
   "metadata": {},
   "source": [
    "shows the portion of users who said \"yes\" per browser"
   ]
  },
  {
   "cell_type": "code",
   "execution_count": 55,
   "id": "5036cd6d",
   "metadata": {},
   "outputs": [
    {
     "data": {
      "image/png": "[encoded data removed]",
      "text/plain": [
       "<Figure size 1080x504 with 1 Axes>"
      ]
     },
     "metadata": {
      "needs_background": "light"
     },
     "output_type": "display_data"
    }
   ],
   "source": [
    "plt.figure(figsize=(15,7))\n",
    "plt.title(\"browser vs yes count\")\n",
    "bar_plot('browser')"
   ]
  },
  {
   "cell_type": "markdown",
   "id": "48b84049",
   "metadata": {},
   "source": [
    "plot shows the portion of users who said \"yes\" per shows Date"
   ]
  },
  {
   "cell_type": "code",
   "execution_count": 56,
   "id": "3426fc31",
   "metadata": {},
   "outputs": [
    {
     "data": {
      "image/png": "[encoded data removed]",
      "text/plain": [
       "<Figure size 1080x504 with 1 Axes>"
      ]
     },
     "metadata": {
      "needs_background": "light"
     },
     "output_type": "display_data"
    }
   ],
   "source": [
    "plt.figure(figsize=(15,7))\n",
    "plt.title(\"date vs yes count\")\n",
    "bar_plot('date')"
   ]
  },
  {
   "cell_type": "code",
   "execution_count": null,
   "id": "96972dd3",
   "metadata": {},
   "outputs": [],
   "source": [
    "plot shows the portion of users who said \"yes\" per hour. It looks users responding at 23:00 o'clock,\n",
    "    with any number said \"yes\""
   ]
  },
  {
   "cell_type": "code",
   "execution_count": 66,
   "id": "1772b6e2",
   "metadata": {},
   "outputs": [
    {
     "data": {
      "image/png": "[encoded data removed]",
      "text/plain": [
       "<Figure size 1080x504 with 1 Axes>"
      ]
     },
     "metadata": {
      "needs_background": "light"
     },
     "output_type": "display_data"
    }
   ],
   "source": [
    "plt.figure(figsize=(15,7))\n",
    "plt.title(\"hour vs yes count\")\n",
    "bar_plot('hour')"
   ]
  },
  {
   "cell_type": "markdown",
   "id": "f20956bf",
   "metadata": {},
   "source": [
    "plot shows that more users in the exposed group said yes than in control group.\n",
    "To prove this scientificaly we need to do A/B testing "
   ]
  },
  {
   "cell_type": "code",
   "execution_count": 59,
   "id": "8c500cad",
   "metadata": {},
   "outputs": [
    {
     "data": {
      "image/png": "[encoded data removed]",
      "text/plain": [
       "<Figure size 1080x504 with 1 Axes>"
      ]
     },
     "metadata": {
      "needs_background": "light"
     },
     "output_type": "display_data"
    }
   ],
   "source": [
    "plt.figure(figsize=(15,7))\n",
    "plt.title(\"experiment vs yes count\")\n",
    "bar_plot('experiment')"
   ]
  },
  {
   "cell_type": "markdown",
   "id": "7ef7b925",
   "metadata": {},
   "source": [
    "## Task 1.2 : Classic and sequential A/B testing analysis"
   ]
  },
  {
   "cell_type": "markdown",
   "id": "7e23d679",
   "metadata": {},
   "source": [
    "#### classical A/B testing by calculating p-vale using statistical tests"
   ]
  },
  {
   "cell_type": "code",
   "execution_count": 69,
   "id": "5dbaa7ff",
   "metadata": {},
   "outputs": [
    {
     "data": {
      "text/html": [
       "<div>\n",
       "<style scoped>\n",
       "    .dataframe tbody tr th:only-of-type {\n",
       "        vertical-align: middle;\n",
       "    }\n",
       "\n",
       "    .dataframe tbody tr th {\n",
       "        vertical-align: top;\n",
       "    }\n",
       "\n",
       "    .dataframe thead th {\n",
       "        text-align: right;\n",
       "    }\n",
       "</style>\n",
       "<table border=\"1\" class=\"dataframe\">\n",
       "  <thead>\n",
       "    <tr style=\"text-align: right;\">\n",
       "      <th></th>\n",
       "      <th>auction_id</th>\n",
       "      <th>experiment</th>\n",
       "      <th>converted</th>\n",
       "    </tr>\n",
       "  </thead>\n",
       "  <tbody>\n",
       "    <tr>\n",
       "      <th>0</th>\n",
       "      <td>0016d14a-ae18-4a02-a204-6ba53b52f2ed</td>\n",
       "      <td>exposed</td>\n",
       "      <td>0</td>\n",
       "    </tr>\n",
       "    <tr>\n",
       "      <th>1</th>\n",
       "      <td>008aafdf-deef-4482-8fec-d98e3da054da</td>\n",
       "      <td>exposed</td>\n",
       "      <td>1</td>\n",
       "    </tr>\n",
       "    <tr>\n",
       "      <th>2</th>\n",
       "      <td>00a1384a-5118-4d1b-925b-6cdada50318d</td>\n",
       "      <td>exposed</td>\n",
       "      <td>0</td>\n",
       "    </tr>\n",
       "    <tr>\n",
       "      <th>3</th>\n",
       "      <td>00b6fadb-10bd-49e3-a778-290da82f7a8d</td>\n",
       "      <td>control</td>\n",
       "      <td>1</td>\n",
       "    </tr>\n",
       "    <tr>\n",
       "      <th>4</th>\n",
       "      <td>00ebf4a8-060f-4b99-93ac-c62724399483</td>\n",
       "      <td>control</td>\n",
       "      <td>0</td>\n",
       "    </tr>\n",
       "  </tbody>\n",
       "</table>\n",
       "</div>"
      ],
      "text/plain": [
       "                             auction_id experiment  converted\n",
       "0  0016d14a-ae18-4a02-a204-6ba53b52f2ed    exposed          0\n",
       "1  008aafdf-deef-4482-8fec-d98e3da054da    exposed          1\n",
       "2  00a1384a-5118-4d1b-925b-6cdada50318d    exposed          0\n",
       "3  00b6fadb-10bd-49e3-a778-290da82f7a8d    control          1\n",
       "4  00ebf4a8-060f-4b99-93ac-c62724399483    control          0"
      ]
     },
     "execution_count": 69,
     "metadata": {},
     "output_type": "execute_result"
    }
   ],
   "source": [
    "#subset of users with id and group only\n",
    "users = pd.DataFrame(data = answered[[\"auction_id\", \"experiment\"]])\n",
    "#add a column for the response\n",
    "users[\"converted\"] = answered.yes\n",
    "users.head(5)"
   ]
  },
  {
   "cell_type": "code",
   "execution_count": 92,
   "id": "7cc30ef5",
   "metadata": {},
   "outputs": [],
   "source": [
    "#separate the control and exposed groups\n",
    "exposed = users[users.experiment == 'exposed']\n",
    "control = users[users.experiment == 'control']"
   ]
  },
  {
   "cell_type": "code",
   "execution_count": 94,
   "id": "95fccdd2",
   "metadata": {},
   "outputs": [
    {
     "data": {
      "text/html": [
       "<div>\n",
       "<style scoped>\n",
       "    .dataframe tbody tr th:only-of-type {\n",
       "        vertical-align: middle;\n",
       "    }\n",
       "\n",
       "    .dataframe tbody tr th {\n",
       "        vertical-align: top;\n",
       "    }\n",
       "\n",
       "    .dataframe thead th {\n",
       "        text-align: right;\n",
       "    }\n",
       "</style>\n",
       "<table border=\"1\" class=\"dataframe\">\n",
       "  <thead>\n",
       "    <tr style=\"text-align: right;\">\n",
       "      <th></th>\n",
       "      <th>converted</th>\n",
       "    </tr>\n",
       "    <tr>\n",
       "      <th>experiment</th>\n",
       "      <th></th>\n",
       "    </tr>\n",
       "  </thead>\n",
       "  <tbody>\n",
       "    <tr>\n",
       "      <th>control</th>\n",
       "      <td>264</td>\n",
       "    </tr>\n",
       "    <tr>\n",
       "      <th>exposed</th>\n",
       "      <td>308</td>\n",
       "    </tr>\n",
       "  </tbody>\n",
       "</table>\n",
       "</div>"
      ],
      "text/plain": [
       "            converted\n",
       "experiment           \n",
       "control           264\n",
       "exposed           308"
      ]
     },
     "execution_count": 94,
     "metadata": {},
     "output_type": "execute_result"
    }
   ],
   "source": [
    "#pivot table to get the sum of converted users in each group\n",
    "summary = users.pivot_table(values='converted', index='experiment', aggfunc=np.sum)\n",
    "summary"
   ]
  },
  {
   "cell_type": "code",
   "execution_count": 95,
   "id": "324fa815",
   "metadata": {},
   "outputs": [
    {
     "data": {
      "text/html": [
       "<div>\n",
       "<style scoped>\n",
       "    .dataframe tbody tr th:only-of-type {\n",
       "        vertical-align: middle;\n",
       "    }\n",
       "\n",
       "    .dataframe tbody tr th {\n",
       "        vertical-align: top;\n",
       "    }\n",
       "\n",
       "    .dataframe thead th {\n",
       "        text-align: right;\n",
       "    }\n",
       "</style>\n",
       "<table border=\"1\" class=\"dataframe\">\n",
       "  <thead>\n",
       "    <tr style=\"text-align: right;\">\n",
       "      <th></th>\n",
       "      <th>converted</th>\n",
       "      <th>total</th>\n",
       "      <th>rate</th>\n",
       "    </tr>\n",
       "    <tr>\n",
       "      <th>experiment</th>\n",
       "      <th></th>\n",
       "      <th></th>\n",
       "      <th></th>\n",
       "    </tr>\n",
       "  </thead>\n",
       "  <tbody>\n",
       "    <tr>\n",
       "      <th>control</th>\n",
       "      <td>264</td>\n",
       "      <td>586</td>\n",
       "      <td>0.450512</td>\n",
       "    </tr>\n",
       "    <tr>\n",
       "      <th>exposed</th>\n",
       "      <td>308</td>\n",
       "      <td>657</td>\n",
       "      <td>0.468798</td>\n",
       "    </tr>\n",
       "  </tbody>\n",
       "</table>\n",
       "</div>"
      ],
      "text/plain": [
       "            converted  total      rate\n",
       "experiment                            \n",
       "control           264    586  0.450512\n",
       "exposed           308    657  0.468798"
      ]
     },
     "execution_count": 95,
     "metadata": {},
     "output_type": "execute_result"
    }
   ],
   "source": [
    "# add additional columns to the pivot table\n",
    "summary['total'] = users.pivot_table(values='converted', index='experiment', aggfunc=lambda x: len(x))\n",
    "summary['rate'] = users.pivot_table(values='converted', index='experiment')\n",
    "summary"
   ]
  },
  {
   "cell_type": "code",
   "execution_count": 96,
   "id": "18453f73",
   "metadata": {},
   "outputs": [
    {
     "data": {
      "text/plain": [
       "0.018285619295484168"
      ]
     },
     "execution_count": 96,
     "metadata": {},
     "output_type": "execute_result"
    }
   ],
   "source": [
    "control_converted = summary['converted'][0]\n",
    "control_total = summary['total'][0]\n",
    "control_rate = summary['rate'][0]\n",
    "\n",
    "exposed_converted = summary['converted'][1]\n",
    "exposed_total = summary['total'][1]\n",
    "exposed_rate = summary['rate'][1]\n",
    "\n",
    "rate_difference = exposed_rate-control_rate\n",
    "rate_difference"
   ]
  },
  {
   "cell_type": "code",
   "execution_count": 97,
   "id": "a26f60e8",
   "metadata": {},
   "outputs": [
    {
     "data": {
      "text/plain": [
       "Text(0, 0.5, 'probability')"
      ]
     },
     "execution_count": 97,
     "metadata": {},
     "output_type": "execute_result"
    },
    {
     "data": {
      "image/png": "[encoded data removed]",
      "text/plain": [
       "<Figure size 864x432 with 1 Axes>"
      ]
     },
     "metadata": {
      "needs_background": "light"
     },
     "output_type": "display_data"
    }
   ],
   "source": [
    "fig, ax = plt.subplots(figsize=(12,6))\n",
    "x = np.linspace(summary.iloc[0,0]-49, summary.iloc[0,0]+50, 100)\n",
    "y = scs.binom(control_total, control_rate).pmf(x)\n",
    "ax.bar(x, y, alpha=0.5)\n",
    "ax.axvline(x=exposed_rate*580 , c='green', alpha=0.75, linestyle='--')\n",
    "#ax.axvline(x=exposed_rate*A_total, c='blue', alpha=0.75, linestyle='--')\n",
    "plt.xlabel('converted')\n",
    "plt.ylabel('probability')"
   ]
  },
  {
   "cell_type": "code",
   "execution_count": 98,
   "id": "f3e4edb8",
   "metadata": {},
   "outputs": [
    {
     "data": {
      "text/plain": [
       "Text(0, 0.5, 'probability')"
      ]
     },
     "execution_count": 98,
     "metadata": {},
     "output_type": "execute_result"
    },
    {
     "data": {
      "image/png": "[encoded data removed]",
      "text/plain": [
       "<Figure size 864x432 with 1 Axes>"
      ]
     },
     "metadata": {
      "needs_background": "light"
     },
     "output_type": "display_data"
    }
   ],
   "source": [
    "\n",
    "fig, ax = plt.subplots(figsize=(12,6))\n",
    "\n",
    "xC = np.linspace(control_converted-49, control_converted+50, 100)\n",
    "yC = scs.binom(control_total, control_rate).pmf(xC)\n",
    "ax.bar(xC, yC, label = \"Control\",alpha=0.5)\n",
    "\n",
    "xE = np.linspace(exposed_converted-49, exposed_converted+50, 100)\n",
    "yE = scs.binom(exposed_total, exposed_rate).pmf(xE)\n",
    "ax.bar(xE, yE, label = \"Exposed\",alpha=0.5)\n",
    "plt.legend()\n",
    "plt.xlabel('converted')\n",
    "plt.ylabel('probability')"
   ]
  },
  {
   "cell_type": "code",
   "execution_count": 99,
   "id": "99129273",
   "metadata": {},
   "outputs": [
    {
     "ename": "NameError",
     "evalue": "name 'ctrl_cr' is not defined",
     "output_type": "error",
     "traceback": [
      "\u001b[0;31m---------------------------------------------------------------------------\u001b[0m",
      "\u001b[0;31mNameError\u001b[0m                                 Traceback (most recent call last)",
      "\u001b[0;32m<ipython-input-99-de5e4359d378>\u001b[0m in \u001b[0;36m<module>\u001b[0;34m\u001b[0m\n\u001b[0;32m----> 1\u001b[0;31m \u001b[0mstd_C\u001b[0m \u001b[0;34m=\u001b[0m \u001b[0mnp\u001b[0m\u001b[0;34m.\u001b[0m\u001b[0msqrt\u001b[0m\u001b[0;34m(\u001b[0m\u001b[0mctrl_cr\u001b[0m \u001b[0;34m*\u001b[0m \u001b[0;34m(\u001b[0m\u001b[0;36m1\u001b[0m\u001b[0;34m-\u001b[0m\u001b[0mctrl_cr\u001b[0m\u001b[0;34m)\u001b[0m\u001b[0;34m)\u001b[0m \u001b[0;34m/\u001b[0m \u001b[0mnp\u001b[0m\u001b[0;34m.\u001b[0m\u001b[0msqrt\u001b[0m\u001b[0;34m(\u001b[0m\u001b[0mctrl_total\u001b[0m\u001b[0;34m)\u001b[0m\u001b[0;34m\u001b[0m\u001b[0;34m\u001b[0m\u001b[0m\n\u001b[0m\u001b[1;32m      2\u001b[0m \u001b[0mstd_E\u001b[0m \u001b[0;34m=\u001b[0m \u001b[0mnp\u001b[0m\u001b[0;34m.\u001b[0m\u001b[0msqrt\u001b[0m\u001b[0;34m(\u001b[0m\u001b[0mexposed_rate\u001b[0m \u001b[0;34m*\u001b[0m \u001b[0;34m(\u001b[0m\u001b[0;36m1\u001b[0m\u001b[0;34m-\u001b[0m\u001b[0mexposed_rate\u001b[0m\u001b[0;34m)\u001b[0m\u001b[0;34m)\u001b[0m \u001b[0;34m/\u001b[0m \u001b[0mnp\u001b[0m\u001b[0;34m.\u001b[0m\u001b[0msqrt\u001b[0m\u001b[0;34m(\u001b[0m\u001b[0mexposed_total\u001b[0m\u001b[0;34m)\u001b[0m\u001b[0;34m\u001b[0m\u001b[0;34m\u001b[0m\u001b[0m\n\u001b[1;32m      3\u001b[0m \u001b[0;34m\u001b[0m\u001b[0m\n\u001b[1;32m      4\u001b[0m \u001b[0;31m# plot the null and alternative hypothesis\u001b[0m\u001b[0;34m\u001b[0m\u001b[0;34m\u001b[0m\u001b[0;34m\u001b[0m\u001b[0m\n\u001b[1;32m      5\u001b[0m \u001b[0mfig\u001b[0m\u001b[0;34m,\u001b[0m \u001b[0max\u001b[0m \u001b[0;34m=\u001b[0m \u001b[0mplt\u001b[0m\u001b[0;34m.\u001b[0m\u001b[0msubplots\u001b[0m\u001b[0;34m(\u001b[0m\u001b[0mfigsize\u001b[0m\u001b[0;34m=\u001b[0m\u001b[0;34m(\u001b[0m\u001b[0;36m12\u001b[0m\u001b[0;34m,\u001b[0m\u001b[0;36m6\u001b[0m\u001b[0;34m)\u001b[0m\u001b[0;34m)\u001b[0m\u001b[0;34m\u001b[0m\u001b[0;34m\u001b[0m\u001b[0m\n",
      "\u001b[0;31mNameError\u001b[0m: name 'ctrl_cr' is not defined"
     ]
    }
   ],
   "source": [
    "\n",
    "std_C = np.sqrt(ctrl_cr * (1-ctrl_cr)) / np.sqrt(ctrl_total)\n",
    "std_E = np.sqrt(exposed_rate * (1-exposed_rate)) / np.sqrt(exposed_total)\n",
    "\n",
    "# plot the null and alternative hypothesis\n",
    "fig, ax = plt.subplots(figsize=(12,6))\n",
    "x = np.linspace(.35, .6, 1000)\n",
    "\n",
    "yC = scs.norm(ctrl_cr, std_C).pdf(x)\n",
    "ax.plot(x, yC,label = \"Control\")\n",
    "ax.axvline(x=ctrl_cr, c='red', alpha=0.5, linestyle='--')\n",
    "\n",
    "yE = scs.norm(exposed_rate, std_E).pdf(x)\n",
    "ax.plot(x, yE,label = \"Exposed\")\n",
    "ax.axvline(x=exposed_rate, c='blue', alpha=0.5, linestyle='--')\n",
    "\n",
    "plt.legend()\n",
    "plt.xlabel('Converted rate')\n",
    "plt.ylabel('probablity')"
   ]
  },
  {
   "cell_type": "code",
   "execution_count": 100,
   "id": "3a0e34bc",
   "metadata": {},
   "outputs": [
    {
     "ename": "NameError",
     "evalue": "name 'std_C' is not defined",
     "output_type": "error",
     "traceback": [
      "\u001b[0;31m---------------------------------------------------------------------------\u001b[0m",
      "\u001b[0;31mNameError\u001b[0m                                 Traceback (most recent call last)",
      "\u001b[0;32m<ipython-input-100-89613a70223b>\u001b[0m in \u001b[0;36m<module>\u001b[0;34m\u001b[0m\n\u001b[0;32m----> 1\u001b[0;31m \u001b[0mz_score\u001b[0m \u001b[0;34m=\u001b[0m \u001b[0;34m(\u001b[0m\u001b[0mrate_difference\u001b[0m\u001b[0;34m)\u001b[0m \u001b[0;34m/\u001b[0m \u001b[0mnp\u001b[0m\u001b[0;34m.\u001b[0m\u001b[0msqrt\u001b[0m\u001b[0;34m(\u001b[0m\u001b[0mstd_C\u001b[0m\u001b[0;34m**\u001b[0m\u001b[0;36m2\u001b[0m \u001b[0;34m+\u001b[0m \u001b[0mstd_E\u001b[0m\u001b[0;34m**\u001b[0m\u001b[0;36m2\u001b[0m\u001b[0;34m)\u001b[0m\u001b[0;34m\u001b[0m\u001b[0;34m\u001b[0m\u001b[0m\n\u001b[0m\u001b[1;32m      2\u001b[0m \u001b[0mp\u001b[0m \u001b[0;34m=\u001b[0m \u001b[0mnorm\u001b[0m\u001b[0;34m(\u001b[0m\u001b[0mrate_difference\u001b[0m\u001b[0;34m,\u001b[0m \u001b[0mnp\u001b[0m\u001b[0;34m.\u001b[0m\u001b[0msqrt\u001b[0m\u001b[0;34m(\u001b[0m\u001b[0mstd_C\u001b[0m\u001b[0;34m**\u001b[0m\u001b[0;36m2\u001b[0m \u001b[0;34m+\u001b[0m \u001b[0mstd_E\u001b[0m\u001b[0;34m**\u001b[0m\u001b[0;36m2\u001b[0m\u001b[0;34m)\u001b[0m\u001b[0;34m)\u001b[0m\u001b[0;34m\u001b[0m\u001b[0;34m\u001b[0m\u001b[0m\n\u001b[1;32m      3\u001b[0m \u001b[0;34m\u001b[0m\u001b[0m\n\u001b[1;32m      4\u001b[0m \u001b[0mx\u001b[0m \u001b[0;34m=\u001b[0m \u001b[0mnp\u001b[0m\u001b[0;34m.\u001b[0m\u001b[0mlinspace\u001b[0m\u001b[0;34m(\u001b[0m\u001b[0;34m-\u001b[0m\u001b[0;36m0.15\u001b[0m\u001b[0;34m,\u001b[0m \u001b[0;36m0.15\u001b[0m\u001b[0;34m,\u001b[0m \u001b[0;36m1000\u001b[0m\u001b[0;34m)\u001b[0m\u001b[0;34m\u001b[0m\u001b[0;34m\u001b[0m\u001b[0m\n\u001b[1;32m      5\u001b[0m \u001b[0my\u001b[0m \u001b[0;34m=\u001b[0m \u001b[0mp\u001b[0m\u001b[0;34m.\u001b[0m\u001b[0mpdf\u001b[0m\u001b[0;34m(\u001b[0m\u001b[0mx\u001b[0m\u001b[0;34m)\u001b[0m\u001b[0;34m\u001b[0m\u001b[0;34m\u001b[0m\u001b[0m\n",
      "\u001b[0;31mNameError\u001b[0m: name 'std_C' is not defined"
     ]
    }
   ],
   "source": [
    "\n",
    "z_score = (rate_difference) / np.sqrt(std_C**2 + std_E**2)\n",
    "p = norm(rate_difference, np.sqrt(std_C**2 + std_E**2))\n",
    "\n",
    "x = np.linspace(-0.15, 0.15, 1000)\n",
    "y = p.pdf(x)\n",
    "area_under_curve = p.sf(0)\n",
    "plt.plot(x, y, label=\"PDF\")\n",
    "plt.fill_between(x, 0, y, where=x>0, label=\"Prob(exp>ctrl)\", alpha=0.3)\n",
    "plt.annotate(f\"Area={area_under_curve:0.3f}\", (0.02, 5))\n",
    "plt.legend()\n",
    "plt.xlabel(\"Difference in conversion rate\"); plt.ylabel(\"Prob\");\n",
    "\n",
    "print(f\"zscore is {z_score:0.3f}, with p-value {norm().sf(z_score):0.3f}\")"
   ]
  },
  {
   "cell_type": "code",
   "execution_count": 101,
   "id": "cd7b8afe",
   "metadata": {},
   "outputs": [
    {
     "name": "stdout",
     "output_type": "stream",
     "text": [
      "0.7408273254172715\n"
     ]
    }
   ],
   "source": [
    "def get_confidence_ab_test(a_c, num_a, b_c, num_b):\n",
    "    a_cr = a_c / num_a\n",
    "    b_cr = b_c / num_b\n",
    "    std_a = np.sqrt(a_cr * (1 - a_cr) / num_a)\n",
    "    std_b = np.sqrt(b_cr * (1 - b_cr) / num_b)\n",
    "    z_score = (b_cr - a_cr) / np.sqrt(std_a**2 + std_b**2)\n",
    "    return norm.cdf(z_score)\n",
    "\n",
    "print(get_confidence_ab_test(control_converted, control_total, exposed_converted, exposed_total))"
   ]
  },
  {
   "cell_type": "code",
   "execution_count": 102,
   "id": "1c53a72b",
   "metadata": {},
   "outputs": [
    {
     "name": "stdout",
     "output_type": "stream",
     "text": [
      "0.2591726745827285\n"
     ]
    }
   ],
   "source": [
    "def get_p_value(a_c, num_a, b_c, num_b):\n",
    "    a_cr = a_c / num_a\n",
    "    b_cr = b_c / num_b\n",
    "    std_a = np.sqrt(a_cr * (1 - a_cr) / num_a)\n",
    "    std_b = np.sqrt(b_cr * (1 - b_cr) / num_b)\n",
    "    z_score = (b_cr - a_cr) / np.sqrt(std_a**2 + std_b**2)\n",
    "    return norm.sf(z_score)\n",
    "\n",
    "print(get_p_value(control_converted, control_total, exposed_converted, exposed_total))"
   ]
  },
  {
   "cell_type": "code",
   "execution_count": 103,
   "id": "2a01d072",
   "metadata": {},
   "outputs": [
    {
     "ename": "NameError",
     "evalue": "name 'std_C' is not defined",
     "output_type": "error",
     "traceback": [
      "\u001b[0;31m---------------------------------------------------------------------------\u001b[0m",
      "\u001b[0;31mNameError\u001b[0m                                 Traceback (most recent call last)",
      "\u001b[0;32m<ipython-input-103-a1f5360abc24>\u001b[0m in \u001b[0;36m<module>\u001b[0;34m\u001b[0m\n\u001b[1;32m      1\u001b[0m \u001b[0mn\u001b[0m \u001b[0;34m=\u001b[0m \u001b[0;36m10000\u001b[0m\u001b[0;34m\u001b[0m\u001b[0;34m\u001b[0m\u001b[0m\n\u001b[0;32m----> 2\u001b[0;31m \u001b[0mrates_a\u001b[0m \u001b[0;34m=\u001b[0m \u001b[0mnorm\u001b[0m\u001b[0;34m(\u001b[0m\u001b[0mcontrol_rate\u001b[0m\u001b[0;34m,\u001b[0m \u001b[0mstd_C\u001b[0m\u001b[0;34m)\u001b[0m\u001b[0;34m.\u001b[0m\u001b[0mrvs\u001b[0m\u001b[0;34m(\u001b[0m\u001b[0mn\u001b[0m\u001b[0;34m)\u001b[0m\u001b[0;34m\u001b[0m\u001b[0;34m\u001b[0m\u001b[0m\n\u001b[0m\u001b[1;32m      3\u001b[0m \u001b[0mrates_b\u001b[0m \u001b[0;34m=\u001b[0m \u001b[0mnorm\u001b[0m\u001b[0;34m(\u001b[0m\u001b[0mexposed_rate\u001b[0m\u001b[0;34m,\u001b[0m \u001b[0mstd_E\u001b[0m\u001b[0;34m)\u001b[0m\u001b[0;34m.\u001b[0m\u001b[0mrvs\u001b[0m\u001b[0;34m(\u001b[0m\u001b[0mn\u001b[0m\u001b[0;34m)\u001b[0m\u001b[0;34m\u001b[0m\u001b[0;34m\u001b[0m\u001b[0m\n\u001b[1;32m      4\u001b[0m \u001b[0mb_better\u001b[0m \u001b[0;34m=\u001b[0m \u001b[0;34m(\u001b[0m\u001b[0mrates_b\u001b[0m \u001b[0;34m>\u001b[0m \u001b[0mrates_a\u001b[0m\u001b[0;34m)\u001b[0m\u001b[0;34m.\u001b[0m\u001b[0msum\u001b[0m\u001b[0;34m(\u001b[0m\u001b[0;34m)\u001b[0m \u001b[0;34m/\u001b[0m\u001b[0mn\u001b[0m\u001b[0;34m\u001b[0m\u001b[0;34m\u001b[0m\u001b[0m\n\u001b[1;32m      5\u001b[0m \u001b[0mprint\u001b[0m\u001b[0;34m(\u001b[0m\u001b[0;34m\"exposed is better than control {b_better * 100:0.1f}% of the time\"\u001b[0m\u001b[0;34m)\u001b[0m\u001b[0;34m\u001b[0m\u001b[0;34m\u001b[0m\u001b[0m\n",
      "\u001b[0;31mNameError\u001b[0m: name 'std_C' is not defined"
     ]
    }
   ],
   "source": [
    "n = 10000\n",
    "rates_a = norm(control_rate, std_C).rvs(n)\n",
    "rates_b = norm(exposed_rate, std_E).rvs(n)\n",
    "b_better = (rates_b > rates_a).sum() /n\n",
    "print(\"exposed is better than control {b_better * 100:0.1f}% of the time\")\n"
   ]
  },
  {
   "cell_type": "code",
   "execution_count": 104,
   "id": "1e994c6a",
   "metadata": {},
   "outputs": [
    {
     "name": "stdout",
     "output_type": "stream",
     "text": [
      "Zscore is -0.65, p-value is 0.519 (two tailed), 0.259 (one tailed)\n"
     ]
    }
   ],
   "source": [
    "a_dist = np.zeros(control_total)\n",
    "a_dist[:control_converted] = 1\n",
    "b_dist = np.zeros(exposed_total)\n",
    "b_dist[:exposed_converted] = 1\n",
    "zscore, prob = scs.ttest_ind(a_dist, b_dist, equal_var=True)\n",
    "print(f\"Zscore is {zscore:0.2f}, p-value is {prob:0.3f} (two tailed), {prob/2:0.3f} (one tailed)\")"
   ]
  },
  {
   "cell_type": "code",
   "execution_count": 105,
   "id": "298a9c43",
   "metadata": {},
   "outputs": [
    {
     "data": {
      "text/plain": [
       "(0.6452687398426953, 0.2593765234051756)"
      ]
     },
     "execution_count": 105,
     "metadata": {},
     "output_type": "execute_result"
    }
   ],
   "source": [
    "sm.stats.ztest(b_dist,a_dist,alternative=\"larger\")"
   ]
  },
  {
   "cell_type": "code",
   "execution_count": 106,
   "id": "70dfcb48",
   "metadata": {},
   "outputs": [],
   "source": [
    "#a code to calculate sample size (borrowed from github)\n",
    "def min_sample_size(control_rate, rate_difference, power=0.8, sig_level=0.05):\n",
    "    \"\"\"Returns the minimum sample size to set up a split test\n",
    "    Arguments:\n",
    "        control_rate (float): probability of success for control, sometimes\n",
    "        referred to as baseline conversion rate\n",
    "        rate_difference (float): minimum change in measurement between control\n",
    "        group and test group if alternative hypothesis is true, sometimes\n",
    "        referred to as minimum detectable effect\n",
    "        power (float): probability of rejecting the null hypothesis when the\n",
    "        null hypothesis is false, typically 0.8\n",
    "        sig_level (float): significance level often denoted as alpha,\n",
    "        typically 0.05\n",
    "    Returns:\n",
    "        min_N: minimum sample size (float)\n",
    "    References:\n",
    "        Stanford lecture on sample sizes\n",
    "        http://statweb.stanford.edu/~susan/courses/s141/hopower.pdf\n",
    "    \"\"\"\n",
    "    # standard normal distribution to determine z-values\n",
    "    standard_norm = scs.norm(0, 1)\n",
    "\n",
    "    # find Z_beta from desired power\n",
    "    Z_beta = standard_norm.ppf(power)\n",
    "\n",
    "    # find Z_alpha\n",
    "    Z_alpha = standard_norm.ppf(1-sig_level/2)\n",
    "\n",
    "    # average of probabilities from both groups\n",
    "    pooled_prob = (control_rate + control_rate+rate_difference) / 2\n",
    "\n",
    "    min_N = (2 * pooled_prob * (1 - pooled_prob) * (Z_beta + Z_alpha)**2\n",
    "             / rate_difference**2)\n",
    "\n",
    "    return min_N"
   ]
  },
  {
   "cell_type": "code",
   "execution_count": 107,
   "id": "68344278",
   "metadata": {},
   "outputs": [
    {
     "data": {
      "text/plain": [
       "11660.61386940473"
      ]
     },
     "execution_count": 107,
     "metadata": {},
     "output_type": "execute_result"
    }
   ],
   "source": [
    "#use the above function to calculate the minimum sample size\n",
    "min_sample_size(control_rate,rate_difference)"
   ]
  },
  {
   "cell_type": "markdown",
   "id": "0d450867",
   "metadata": {},
   "source": [
    "Part 3: A/B testing using Machine Learning\n",
    "\n",
    "Preprocessing and Feature Engineering\n",
    "\n",
    "In this section we will\n",
    "\n",
    "take the subset of the data to be modelled\n",
    "encode categorical variables into numeric variables\n",
    "check the correlation between variables\n",
    "scale the variable\n",
    "check for missing values"
   ]
  },
  {
   "cell_type": "code",
   "execution_count": 110,
   "id": "08b26e6a",
   "metadata": {},
   "outputs": [],
   "source": [
    "#slice the data removing \"auction_id\" and \"no\" columns\n",
    "ml_data = answered.iloc[:,1:-1]"
   ]
  },
  {
   "cell_type": "code",
   "execution_count": 112,
   "id": "c1408563",
   "metadata": {},
   "outputs": [
    {
     "data": {
      "text/html": [
       "<div>\n",
       "<style scoped>\n",
       "    .dataframe tbody tr th:only-of-type {\n",
       "        vertical-align: middle;\n",
       "    }\n",
       "\n",
       "    .dataframe tbody tr th {\n",
       "        vertical-align: top;\n",
       "    }\n",
       "\n",
       "    .dataframe thead th {\n",
       "        text-align: right;\n",
       "    }\n",
       "</style>\n",
       "<table border=\"1\" class=\"dataframe\">\n",
       "  <thead>\n",
       "    <tr style=\"text-align: right;\">\n",
       "      <th></th>\n",
       "      <th>experiment</th>\n",
       "      <th>date</th>\n",
       "      <th>hour</th>\n",
       "      <th>device_make</th>\n",
       "      <th>platform_os</th>\n",
       "      <th>browser</th>\n",
       "      <th>yes</th>\n",
       "    </tr>\n",
       "  </thead>\n",
       "  <tbody>\n",
       "    <tr>\n",
       "      <th>0</th>\n",
       "      <td>1</td>\n",
       "      <td>2</td>\n",
       "      <td>2</td>\n",
       "      <td>4</td>\n",
       "      <td>6</td>\n",
       "      <td>2</td>\n",
       "      <td>0</td>\n",
       "    </tr>\n",
       "    <tr>\n",
       "      <th>1</th>\n",
       "      <td>1</td>\n",
       "      <td>1</td>\n",
       "      <td>16</td>\n",
       "      <td>13</td>\n",
       "      <td>6</td>\n",
       "      <td>1</td>\n",
       "      <td>1</td>\n",
       "    </tr>\n",
       "    <tr>\n",
       "      <th>2</th>\n",
       "      <td>1</td>\n",
       "      <td>3</td>\n",
       "      <td>8</td>\n",
       "      <td>13</td>\n",
       "      <td>6</td>\n",
       "      <td>1</td>\n",
       "      <td>0</td>\n",
       "    </tr>\n",
       "    <tr>\n",
       "      <th>3</th>\n",
       "      <td>0</td>\n",
       "      <td>5</td>\n",
       "      <td>4</td>\n",
       "      <td>43</td>\n",
       "      <td>6</td>\n",
       "      <td>4</td>\n",
       "      <td>1</td>\n",
       "    </tr>\n",
       "    <tr>\n",
       "      <th>4</th>\n",
       "      <td>0</td>\n",
       "      <td>0</td>\n",
       "      <td>15</td>\n",
       "      <td>13</td>\n",
       "      <td>6</td>\n",
       "      <td>1</td>\n",
       "      <td>0</td>\n",
       "    </tr>\n",
       "    <tr>\n",
       "      <th>...</th>\n",
       "      <td>...</td>\n",
       "      <td>...</td>\n",
       "      <td>...</td>\n",
       "      <td>...</td>\n",
       "      <td>...</td>\n",
       "      <td>...</td>\n",
       "      <td>...</td>\n",
       "    </tr>\n",
       "    <tr>\n",
       "      <th>1238</th>\n",
       "      <td>1</td>\n",
       "      <td>2</td>\n",
       "      <td>21</td>\n",
       "      <td>13</td>\n",
       "      <td>6</td>\n",
       "      <td>1</td>\n",
       "      <td>1</td>\n",
       "    </tr>\n",
       "    <tr>\n",
       "      <th>1239</th>\n",
       "      <td>1</td>\n",
       "      <td>1</td>\n",
       "      <td>1</td>\n",
       "      <td>13</td>\n",
       "      <td>6</td>\n",
       "      <td>1</td>\n",
       "      <td>1</td>\n",
       "    </tr>\n",
       "    <tr>\n",
       "      <th>1240</th>\n",
       "      <td>0</td>\n",
       "      <td>6</td>\n",
       "      <td>7</td>\n",
       "      <td>13</td>\n",
       "      <td>6</td>\n",
       "      <td>1</td>\n",
       "      <td>0</td>\n",
       "    </tr>\n",
       "    <tr>\n",
       "      <th>1241</th>\n",
       "      <td>0</td>\n",
       "      <td>7</td>\n",
       "      <td>16</td>\n",
       "      <td>13</td>\n",
       "      <td>6</td>\n",
       "      <td>1</td>\n",
       "      <td>0</td>\n",
       "    </tr>\n",
       "    <tr>\n",
       "      <th>1242</th>\n",
       "      <td>1</td>\n",
       "      <td>0</td>\n",
       "      <td>4</td>\n",
       "      <td>13</td>\n",
       "      <td>6</td>\n",
       "      <td>1</td>\n",
       "      <td>0</td>\n",
       "    </tr>\n",
       "  </tbody>\n",
       "</table>\n",
       "<p>1243 rows × 7 columns</p>\n",
       "</div>"
      ],
      "text/plain": [
       "      experiment  date  hour  device_make  platform_os  browser  yes\n",
       "0              1     2     2            4            6        2    0\n",
       "1              1     1    16           13            6        1    1\n",
       "2              1     3     8           13            6        1    0\n",
       "3              0     5     4           43            6        4    1\n",
       "4              0     0    15           13            6        1    0\n",
       "...          ...   ...   ...          ...          ...      ...  ...\n",
       "1238           1     2    21           13            6        1    1\n",
       "1239           1     1     1           13            6        1    1\n",
       "1240           0     6     7           13            6        1    0\n",
       "1241           0     7    16           13            6        1    0\n",
       "1242           1     0     4           13            6        1    0\n",
       "\n",
       "[1243 rows x 7 columns]"
      ]
     },
     "execution_count": 112,
     "metadata": {},
     "output_type": "execute_result"
    }
   ],
   "source": [
    "# LabelEncoder encodes categorical values into numeric. \n",
    "encoder = preprocessing.LabelEncoder() \n",
    "\n",
    "# Encode all columns. \n",
    "ml_data['experiment']= encoder.fit_transform(ml_data['experiment'])\n",
    "ml_data['date']= encoder.fit_transform(ml_data['date'])\n",
    "ml_data['hour']= encoder.fit_transform(ml_data['hour'])\n",
    "ml_data['device_make']= encoder.fit_transform(ml_data['device_make'])\n",
    "ml_data['browser']= encoder.fit_transform(ml_data['browser'])\n",
    "ml_data"
   ]
  },
  {
   "cell_type": "code",
   "execution_count": 113,
   "id": "67fc1fa0",
   "metadata": {},
   "outputs": [
    {
     "name": "stdout",
     "output_type": "stream",
     "text": [
      "<class 'pandas.core.frame.DataFrame'>\n",
      "RangeIndex: 1243 entries, 0 to 1242\n",
      "Data columns (total 7 columns):\n",
      " #   Column       Non-Null Count  Dtype\n",
      "---  ------       --------------  -----\n",
      " 0   experiment   1243 non-null   int64\n",
      " 1   date         1243 non-null   int64\n",
      " 2   hour         1243 non-null   int64\n",
      " 3   device_make  1243 non-null   int64\n",
      " 4   platform_os  1243 non-null   int64\n",
      " 5   browser      1243 non-null   int64\n",
      " 6   yes          1243 non-null   int64\n",
      "dtypes: int64(7)\n",
      "memory usage: 68.1 KB\n"
     ]
    }
   ],
   "source": [
    "#check if we have sufficient sample size\n",
    "ml_data.info()"
   ]
  },
  {
   "cell_type": "code",
   "execution_count": 115,
   "id": "a2a7f259",
   "metadata": {},
   "outputs": [
    {
     "data": {
      "image/png": "[encoded data removed]",
      "text/plain": [
       "<Figure size 1080x864 with 2 Axes>"
      ]
     },
     "metadata": {
      "needs_background": "light"
     },
     "output_type": "display_data"
    }
   ],
   "source": [
    "#get correlation of the variables\n",
    "correlation = ml_data.corr()\n",
    "fig, ax = plt.subplots(figsize=(15,12))\n",
    "plt.title(\"correlation of variables\")\n",
    "sns.heatmap(correlation, annot=True)\n",
    "plt.show()"
   ]
  },
  {
   "cell_type": "code",
   "execution_count": 116,
   "id": "2c1a7d76",
   "metadata": {},
   "outputs": [
    {
     "name": "stdout",
     "output_type": "stream",
     "text": [
      "SpearmanrResult(correlation=0.7731806159739668, pvalue=1.0404361256299832e-247)\n"
     ]
    }
   ],
   "source": [
    "#The variables are not very correlated, except for browser and device make, so we can drop either of the two. Here, we will drop device make. Let's do Spearmans test before dropping them...\n",
    "browser = ml_data.browser\n",
    "device_make = ml_data.device_make\n",
    "sp_c = spearmanr(browser, device_make)\n",
    "print(sp_c)"
   ]
  },
  {
   "cell_type": "code",
   "execution_count": 117,
   "id": "6b912141",
   "metadata": {},
   "outputs": [],
   "source": [
    "#drop device_make column since it is correlated with browser\n",
    "ml_data.drop(\"device_make\", axis=1, inplace=True)"
   ]
  },
  {
   "cell_type": "code",
   "execution_count": 118,
   "id": "6c908cbc",
   "metadata": {},
   "outputs": [
    {
     "data": {
      "text/plain": [
       "experiment     0\n",
       "date           0\n",
       "hour           0\n",
       "platform_os    0\n",
       "browser        0\n",
       "yes            0\n",
       "dtype: int64"
      ]
     },
     "execution_count": 118,
     "metadata": {},
     "output_type": "execute_result"
    }
   ],
   "source": [
    "#checking for missing values\n",
    "ml_data.isnull().sum()"
   ]
  },
  {
   "cell_type": "code",
   "execution_count": 119,
   "id": "5c4ae12a",
   "metadata": {},
   "outputs": [
    {
     "data": {
      "text/plain": [
       "<AxesSubplot:title={'center':'value counts of yes column'}, xlabel='yes', ylabel='count'>"
      ]
     },
     "execution_count": 119,
     "metadata": {},
     "output_type": "execute_result"
    },
    {
     "data": {
      "image/png": "[encoded data removed]",
      "text/plain": [
       "<Figure size 720x576 with 1 Axes>"
      ]
     },
     "metadata": {
      "needs_background": "light"
     },
     "output_type": "display_data"
    }
   ],
   "source": [
    "#MAking sure the target value is binary\n",
    "fig, ax = plt.subplots(figsize=(10,8))\n",
    "plt.title(\"value counts of yes column\")\n",
    "sns.countplot(x = \"yes\", data=ml_data)"
   ]
  },
  {
   "cell_type": "code",
   "execution_count": 120,
   "id": "4a5de7e2",
   "metadata": {},
   "outputs": [
    {
     "data": {
      "text/html": [
       "<div>\n",
       "<style scoped>\n",
       "    .dataframe tbody tr th:only-of-type {\n",
       "        vertical-align: middle;\n",
       "    }\n",
       "\n",
       "    .dataframe tbody tr th {\n",
       "        vertical-align: top;\n",
       "    }\n",
       "\n",
       "    .dataframe thead th {\n",
       "        text-align: right;\n",
       "    }\n",
       "</style>\n",
       "<table border=\"1\" class=\"dataframe\">\n",
       "  <thead>\n",
       "    <tr style=\"text-align: right;\">\n",
       "      <th></th>\n",
       "      <th>experiment</th>\n",
       "      <th>date</th>\n",
       "      <th>hour</th>\n",
       "      <th>platform_os</th>\n",
       "      <th>browser</th>\n",
       "      <th>yes</th>\n",
       "    </tr>\n",
       "  </thead>\n",
       "  <tbody>\n",
       "    <tr>\n",
       "      <th>0</th>\n",
       "      <td>1</td>\n",
       "      <td>2</td>\n",
       "      <td>2</td>\n",
       "      <td>6</td>\n",
       "      <td>2</td>\n",
       "      <td>0</td>\n",
       "    </tr>\n",
       "    <tr>\n",
       "      <th>1</th>\n",
       "      <td>1</td>\n",
       "      <td>1</td>\n",
       "      <td>16</td>\n",
       "      <td>6</td>\n",
       "      <td>1</td>\n",
       "      <td>1</td>\n",
       "    </tr>\n",
       "    <tr>\n",
       "      <th>2</th>\n",
       "      <td>1</td>\n",
       "      <td>3</td>\n",
       "      <td>8</td>\n",
       "      <td>6</td>\n",
       "      <td>1</td>\n",
       "      <td>0</td>\n",
       "    </tr>\n",
       "    <tr>\n",
       "      <th>3</th>\n",
       "      <td>0</td>\n",
       "      <td>5</td>\n",
       "      <td>4</td>\n",
       "      <td>6</td>\n",
       "      <td>4</td>\n",
       "      <td>1</td>\n",
       "    </tr>\n",
       "  </tbody>\n",
       "</table>\n",
       "</div>"
      ],
      "text/plain": [
       "   experiment  date  hour  platform_os  browser  yes\n",
       "0           1     2     2            6        2    0\n",
       "1           1     1    16            6        1    1\n",
       "2           1     3     8            6        1    0\n",
       "3           0     5     4            6        4    1"
      ]
     },
     "execution_count": 120,
     "metadata": {},
     "output_type": "execute_result"
    }
   ],
   "source": [
    "#nowthe variables are all numeric\n",
    "ml_data.head(4)"
   ]
  },
  {
   "cell_type": "code",
   "execution_count": 121,
   "id": "d9def6f0",
   "metadata": {},
   "outputs": [
    {
     "data": {
      "text/html": [
       "<div>\n",
       "<style scoped>\n",
       "    .dataframe tbody tr th:only-of-type {\n",
       "        vertical-align: middle;\n",
       "    }\n",
       "\n",
       "    .dataframe tbody tr th {\n",
       "        vertical-align: top;\n",
       "    }\n",
       "\n",
       "    .dataframe thead th {\n",
       "        text-align: right;\n",
       "    }\n",
       "</style>\n",
       "<table border=\"1\" class=\"dataframe\">\n",
       "  <thead>\n",
       "    <tr style=\"text-align: right;\">\n",
       "      <th></th>\n",
       "      <th>experiment</th>\n",
       "      <th>date</th>\n",
       "      <th>hour</th>\n",
       "      <th>platform_os</th>\n",
       "      <th>browser</th>\n",
       "      <th>yes</th>\n",
       "    </tr>\n",
       "  </thead>\n",
       "  <tbody>\n",
       "    <tr>\n",
       "      <th>0</th>\n",
       "      <td>1.0</td>\n",
       "      <td>0.285714</td>\n",
       "      <td>0.086957</td>\n",
       "      <td>1.0</td>\n",
       "      <td>0.285714</td>\n",
       "      <td>0.0</td>\n",
       "    </tr>\n",
       "    <tr>\n",
       "      <th>1</th>\n",
       "      <td>1.0</td>\n",
       "      <td>0.142857</td>\n",
       "      <td>0.695652</td>\n",
       "      <td>1.0</td>\n",
       "      <td>0.142857</td>\n",
       "      <td>1.0</td>\n",
       "    </tr>\n",
       "    <tr>\n",
       "      <th>2</th>\n",
       "      <td>1.0</td>\n",
       "      <td>0.428571</td>\n",
       "      <td>0.347826</td>\n",
       "      <td>1.0</td>\n",
       "      <td>0.142857</td>\n",
       "      <td>0.0</td>\n",
       "    </tr>\n",
       "    <tr>\n",
       "      <th>3</th>\n",
       "      <td>0.0</td>\n",
       "      <td>0.714286</td>\n",
       "      <td>0.173913</td>\n",
       "      <td>1.0</td>\n",
       "      <td>0.571429</td>\n",
       "      <td>1.0</td>\n",
       "    </tr>\n",
       "  </tbody>\n",
       "</table>\n",
       "</div>"
      ],
      "text/plain": [
       "   experiment      date      hour  platform_os   browser  yes\n",
       "0         1.0  0.285714  0.086957          1.0  0.285714  0.0\n",
       "1         1.0  0.142857  0.695652          1.0  0.142857  1.0\n",
       "2         1.0  0.428571  0.347826          1.0  0.142857  0.0\n",
       "3         0.0  0.714286  0.173913          1.0  0.571429  1.0"
      ]
     },
     "execution_count": 121,
     "metadata": {},
     "output_type": "execute_result"
    }
   ],
   "source": [
    "#Scalling the variables to be between 0 and 1\n",
    "scaler = MinMaxScaler()\n",
    "scaled = pd.DataFrame(scaler.fit_transform(ml_data), columns=(\"experiment\",\"date\",\"hour\",\"platform_os\",\"browser\",\"yes\"))\n",
    "scaled.head(4)"
   ]
  },
  {
   "cell_type": "code",
   "execution_count": 122,
   "id": "6de8b78b",
   "metadata": {},
   "outputs": [],
   "source": [
    "#We now split the data into training, validating and testing sets\n",
    "#Separate the pridictor and target variables\n",
    "X = scaled.iloc[:,:-1]\n",
    "Y = scaled.iloc[:,-1]"
   ]
  },
  {
   "cell_type": "code",
   "execution_count": 123,
   "id": "aa9e0341",
   "metadata": {},
   "outputs": [],
   "source": [
    "#Use the train_test_split twice to split the data into three groups\n",
    "X_train, X_test, Y_train, Y_test = train_test_split(X, Y, test_size=0.1, random_state=1)\n",
    "\n",
    "# 0.23 x 0.9 = 0.2007\n",
    "X_train, X_val, Y_train, Y_val = train_test_split(X_train, Y_train, test_size=0.23, random_state=1)"
   ]
  },
  {
   "cell_type": "code",
   "execution_count": 124,
   "id": "eac1e0d5",
   "metadata": {},
   "outputs": [],
   "source": [
    "#set our k-fold cross validation\n",
    "k_fold = KFold(n_splits=5, shuffle=True, random_state=100)"
   ]
  },
  {
   "cell_type": "markdown",
   "id": "83a5bf81",
   "metadata": {},
   "source": [
    "since all classifiers models can use logarithmic loss function, we can define functions for all models as below."
   ]
  },
  {
   "cell_type": "code",
   "execution_count": 125,
   "id": "757e383c",
   "metadata": {},
   "outputs": [],
   "source": [
    "#calculate the models loss and returns it\n",
    "def calculate_loss(model):\n",
    "    model = model\n",
    "    # predict probabilities\n",
    "    probs = model.predict_proba(X_val)\n",
    "    # keep the predictions for class 1 only\n",
    "    probs = probs[:, 1]\n",
    "    # calculate log loss\n",
    "    loss = log_loss(Y_val, probs)*100\n",
    "    print(\"Loss: %.2f\"%loss, \"%\")    \n",
    "\n",
    "#plots feature importance from the model \n",
    "def plot_feature_importance(importance):\n",
    "    plt.title(\"feature importance\")\n",
    "    plt.xlabel(\"features\")\n",
    "    plt.ylabel(\"importance\")\n",
    "    plt.bar(X_train.columns, importance)\n",
    "    plt.show()\n",
    "\n",
    "#returns prediction dataframe using the model\n",
    "def print_predicted(model):\n",
    "    prediction = model.predict(X_test)\n",
    "    predicted_values = pd.DataFrame({\"experiment\" : X_test.experiment,\"actual\" : Y_test,\"predicted\" : prediction})\n",
    "    return predicted_values\n",
    "\n",
    "#returns the confusion martix for the model\n",
    "def confusion_matrix(model):\n",
    "    prediction = model.predict(X_test)\n",
    "    return metrics.confusion_matrix(Y_test, prediction)\n",
    "\n",
    "#returns the mean accuracy of the k-fold iterations\n",
    "def print_accuracy(model):\n",
    "    accuracy = cross_val_score(model, X_train, Y_train, cv=k_fold, scoring= 'accuracy').mean()*100\n",
    "    print(\"Accuracy: %.2f\"%accuracy, \"%\")"
   ]
  },
  {
   "cell_type": "markdown",
   "id": "a7bc20eb",
   "metadata": {},
   "source": [
    "We first use Logistic regression to model the data and see it's accuracy."
   ]
  },
  {
   "cell_type": "code",
   "execution_count": 126,
   "id": "b281b762",
   "metadata": {},
   "outputs": [
    {
     "name": "stdout",
     "output_type": "stream",
     "text": [
      "Accuracy: 55.00 %\n"
     ]
    }
   ],
   "source": [
    "#Use logistic regression from sklearn\n",
    "log_regression = LogisticRegression()\n",
    "#fit the training data into the model\n",
    "log_regression.fit(X_train,Y_train)\n",
    "#printing the mean accuracy of all iterations of the k-fold\n",
    "print_accuracy(log_regression)"
   ]
  },
  {
   "cell_type": "code",
   "execution_count": 127,
   "id": "142397eb",
   "metadata": {},
   "outputs": [
    {
     "name": "stdout",
     "output_type": "stream",
     "text": [
      "Loss: 70.42 %\n"
     ]
    }
   ],
   "source": [
    "#calculating loss\n",
    "calculate_loss(log_regression)"
   ]
  },
  {
   "cell_type": "markdown",
   "id": "a43a1659",
   "metadata": {},
   "source": [
    "The model is performing poorly with accuracy 55% and loss 70.42%"
   ]
  },
  {
   "cell_type": "code",
   "execution_count": 128,
   "id": "a86d28d1",
   "metadata": {},
   "outputs": [
    {
     "data": {
      "image/png": "[encoded data removed]",
      "text/plain": [
       "<Figure size 720x576 with 1 Axes>"
      ]
     },
     "metadata": {
      "needs_background": "light"
     },
     "output_type": "display_data"
    }
   ],
   "source": [
    "#plotting feature importance\n",
    "fig, ax = plt.subplots(figsize=(10,8))\n",
    "plot_feature_importance(log_regression.coef_[0])"
   ]
  },
  {
   "cell_type": "markdown",
   "id": "1be9d139",
   "metadata": {},
   "source": [
    "We can observe from the graph that the most important feature is platform_os. Experiment group does not seem to have a significant effect"
   ]
  },
  {
   "cell_type": "code",
   "execution_count": 129,
   "id": "ee6b1d19",
   "metadata": {},
   "outputs": [
    {
     "data": {
      "text/html": [
       "<div>\n",
       "<style scoped>\n",
       "    .dataframe tbody tr th:only-of-type {\n",
       "        vertical-align: middle;\n",
       "    }\n",
       "\n",
       "    .dataframe tbody tr th {\n",
       "        vertical-align: top;\n",
       "    }\n",
       "\n",
       "    .dataframe thead th {\n",
       "        text-align: right;\n",
       "    }\n",
       "</style>\n",
       "<table border=\"1\" class=\"dataframe\">\n",
       "  <thead>\n",
       "    <tr style=\"text-align: right;\">\n",
       "      <th></th>\n",
       "      <th>experiment</th>\n",
       "      <th>actual</th>\n",
       "      <th>predicted</th>\n",
       "    </tr>\n",
       "  </thead>\n",
       "  <tbody>\n",
       "    <tr>\n",
       "      <th>616</th>\n",
       "      <td>1.0</td>\n",
       "      <td>1.0</td>\n",
       "      <td>0.0</td>\n",
       "    </tr>\n",
       "    <tr>\n",
       "      <th>908</th>\n",
       "      <td>0.0</td>\n",
       "      <td>0.0</td>\n",
       "      <td>0.0</td>\n",
       "    </tr>\n",
       "    <tr>\n",
       "      <th>494</th>\n",
       "      <td>1.0</td>\n",
       "      <td>0.0</td>\n",
       "      <td>0.0</td>\n",
       "    </tr>\n",
       "    <tr>\n",
       "      <th>571</th>\n",
       "      <td>1.0</td>\n",
       "      <td>1.0</td>\n",
       "      <td>0.0</td>\n",
       "    </tr>\n",
       "    <tr>\n",
       "      <th>572</th>\n",
       "      <td>1.0</td>\n",
       "      <td>1.0</td>\n",
       "      <td>1.0</td>\n",
       "    </tr>\n",
       "    <tr>\n",
       "      <th>...</th>\n",
       "      <td>...</td>\n",
       "      <td>...</td>\n",
       "      <td>...</td>\n",
       "    </tr>\n",
       "    <tr>\n",
       "      <th>88</th>\n",
       "      <td>1.0</td>\n",
       "      <td>0.0</td>\n",
       "      <td>1.0</td>\n",
       "    </tr>\n",
       "    <tr>\n",
       "      <th>768</th>\n",
       "      <td>0.0</td>\n",
       "      <td>0.0</td>\n",
       "      <td>0.0</td>\n",
       "    </tr>\n",
       "    <tr>\n",
       "      <th>1030</th>\n",
       "      <td>1.0</td>\n",
       "      <td>1.0</td>\n",
       "      <td>0.0</td>\n",
       "    </tr>\n",
       "    <tr>\n",
       "      <th>457</th>\n",
       "      <td>0.0</td>\n",
       "      <td>1.0</td>\n",
       "      <td>0.0</td>\n",
       "    </tr>\n",
       "    <tr>\n",
       "      <th>422</th>\n",
       "      <td>0.0</td>\n",
       "      <td>1.0</td>\n",
       "      <td>0.0</td>\n",
       "    </tr>\n",
       "  </tbody>\n",
       "</table>\n",
       "<p>125 rows × 3 columns</p>\n",
       "</div>"
      ],
      "text/plain": [
       "      experiment  actual  predicted\n",
       "616          1.0     1.0        0.0\n",
       "908          0.0     0.0        0.0\n",
       "494          1.0     0.0        0.0\n",
       "571          1.0     1.0        0.0\n",
       "572          1.0     1.0        1.0\n",
       "...          ...     ...        ...\n",
       "88           1.0     0.0        1.0\n",
       "768          0.0     0.0        0.0\n",
       "1030         1.0     1.0        0.0\n",
       "457          0.0     1.0        0.0\n",
       "422          0.0     1.0        0.0\n",
       "\n",
       "[125 rows x 3 columns]"
      ]
     },
     "execution_count": 129,
     "metadata": {},
     "output_type": "execute_result"
    }
   ],
   "source": [
    "#predicted values\n",
    "print_predicted(log_regression)"
   ]
  },
  {
   "cell_type": "code",
   "execution_count": 130,
   "id": "64052a6e",
   "metadata": {},
   "outputs": [
    {
     "data": {
      "text/plain": [
       "array([[65,  5],\n",
       "       [51,  4]])"
      ]
     },
     "execution_count": 130,
     "metadata": {},
     "output_type": "execute_result"
    }
   ],
   "source": [
    "#confusion matrix\n",
    "confusion_matrix(log_regression)"
   ]
  },
  {
   "cell_type": "markdown",
   "id": "a94ddff0",
   "metadata": {},
   "source": [
    "Train a Decision tree model to get a better result"
   ]
  },
  {
   "cell_type": "code",
   "execution_count": 131,
   "id": "2122d03e",
   "metadata": {},
   "outputs": [
    {
     "name": "stdout",
     "output_type": "stream",
     "text": [
      "Accuracy: 51.16 %\n"
     ]
    }
   ],
   "source": [
    "#instantiate the model from sklearn\n",
    "d_tree = DecisionTreeClassifier()\n",
    "#fit the data\n",
    "d_tree.fit(X_train,Y_train)\n",
    "#print accuracy\n",
    "print_accuracy(d_tree)"
   ]
  },
  {
   "cell_type": "code",
   "execution_count": 132,
   "id": "d00a5af3",
   "metadata": {},
   "outputs": [
    {
     "name": "stdout",
     "output_type": "stream",
     "text": [
      "Loss: 1167.45 %\n"
     ]
    }
   ],
   "source": [
    "#calculating loss\n",
    "calculate_loss(d_tree)"
   ]
  },
  {
   "cell_type": "code",
   "execution_count": 133,
   "id": "f1e254d4",
   "metadata": {},
   "outputs": [
    {
     "data": {
      "image/png": "[encoded data removed]",
      "text/plain": [
       "<Figure size 720x576 with 1 Axes>"
      ]
     },
     "metadata": {
      "needs_background": "light"
     },
     "output_type": "display_data"
    }
   ],
   "source": [
    "#plotting feature importance\n",
    "\n",
    "fig, ax = plt.subplots(figsize=(10,8))\n",
    "plot_feature_importance(d_tree.feature_importances_)"
   ]
  },
  {
   "cell_type": "markdown",
   "id": "fabffaa3",
   "metadata": {},
   "source": [
    "This model is not doing very good either. In contrary to the previous observation,\n",
    "platform_os has the least effect on the prediction while the date and hour appear to be most important"
   ]
  },
  {
   "cell_type": "code",
   "execution_count": 134,
   "id": "6cde2199",
   "metadata": {},
   "outputs": [
    {
     "data": {
      "text/html": [
       "<div>\n",
       "<style scoped>\n",
       "    .dataframe tbody tr th:only-of-type {\n",
       "        vertical-align: middle;\n",
       "    }\n",
       "\n",
       "    .dataframe tbody tr th {\n",
       "        vertical-align: top;\n",
       "    }\n",
       "\n",
       "    .dataframe thead th {\n",
       "        text-align: right;\n",
       "    }\n",
       "</style>\n",
       "<table border=\"1\" class=\"dataframe\">\n",
       "  <thead>\n",
       "    <tr style=\"text-align: right;\">\n",
       "      <th></th>\n",
       "      <th>experiment</th>\n",
       "      <th>actual</th>\n",
       "      <th>predicted</th>\n",
       "    </tr>\n",
       "  </thead>\n",
       "  <tbody>\n",
       "    <tr>\n",
       "      <th>616</th>\n",
       "      <td>1.0</td>\n",
       "      <td>1.0</td>\n",
       "      <td>0.0</td>\n",
       "    </tr>\n",
       "    <tr>\n",
       "      <th>908</th>\n",
       "      <td>0.0</td>\n",
       "      <td>0.0</td>\n",
       "      <td>0.0</td>\n",
       "    </tr>\n",
       "    <tr>\n",
       "      <th>494</th>\n",
       "      <td>1.0</td>\n",
       "      <td>0.0</td>\n",
       "      <td>1.0</td>\n",
       "    </tr>\n",
       "    <tr>\n",
       "      <th>571</th>\n",
       "      <td>1.0</td>\n",
       "      <td>1.0</td>\n",
       "      <td>0.0</td>\n",
       "    </tr>\n",
       "    <tr>\n",
       "      <th>572</th>\n",
       "      <td>1.0</td>\n",
       "      <td>1.0</td>\n",
       "      <td>0.0</td>\n",
       "    </tr>\n",
       "    <tr>\n",
       "      <th>...</th>\n",
       "      <td>...</td>\n",
       "      <td>...</td>\n",
       "      <td>...</td>\n",
       "    </tr>\n",
       "    <tr>\n",
       "      <th>88</th>\n",
       "      <td>1.0</td>\n",
       "      <td>0.0</td>\n",
       "      <td>0.0</td>\n",
       "    </tr>\n",
       "    <tr>\n",
       "      <th>768</th>\n",
       "      <td>0.0</td>\n",
       "      <td>0.0</td>\n",
       "      <td>0.0</td>\n",
       "    </tr>\n",
       "    <tr>\n",
       "      <th>1030</th>\n",
       "      <td>1.0</td>\n",
       "      <td>1.0</td>\n",
       "      <td>0.0</td>\n",
       "    </tr>\n",
       "    <tr>\n",
       "      <th>457</th>\n",
       "      <td>0.0</td>\n",
       "      <td>1.0</td>\n",
       "      <td>1.0</td>\n",
       "    </tr>\n",
       "    <tr>\n",
       "      <th>422</th>\n",
       "      <td>0.0</td>\n",
       "      <td>1.0</td>\n",
       "      <td>0.0</td>\n",
       "    </tr>\n",
       "  </tbody>\n",
       "</table>\n",
       "<p>125 rows × 3 columns</p>\n",
       "</div>"
      ],
      "text/plain": [
       "      experiment  actual  predicted\n",
       "616          1.0     1.0        0.0\n",
       "908          0.0     0.0        0.0\n",
       "494          1.0     0.0        1.0\n",
       "571          1.0     1.0        0.0\n",
       "572          1.0     1.0        0.0\n",
       "...          ...     ...        ...\n",
       "88           1.0     0.0        0.0\n",
       "768          0.0     0.0        0.0\n",
       "1030         1.0     1.0        0.0\n",
       "457          0.0     1.0        1.0\n",
       "422          0.0     1.0        0.0\n",
       "\n",
       "[125 rows x 3 columns]"
      ]
     },
     "execution_count": 134,
     "metadata": {},
     "output_type": "execute_result"
    }
   ],
   "source": [
    "#predicted values\n",
    "print_predicted(d_tree)"
   ]
  },
  {
   "cell_type": "code",
   "execution_count": 135,
   "id": "2c03b7a9",
   "metadata": {},
   "outputs": [
    {
     "data": {
      "text/plain": [
       "array([[41, 29],\n",
       "       [34, 21]])"
      ]
     },
     "execution_count": 135,
     "metadata": {},
     "output_type": "execute_result"
    }
   ],
   "source": [
    "#confusion matrix\n",
    "confusion_matrix(d_tree)"
   ]
  },
  {
   "cell_type": "markdown",
   "id": "2a2f33da",
   "metadata": {},
   "source": [
    "Let's use an XG Boost model and see if it can perform any better"
   ]
  },
  {
   "cell_type": "code",
   "execution_count": 136,
   "id": "eaf4aa4b",
   "metadata": {},
   "outputs": [
    {
     "ename": "NameError",
     "evalue": "name 'xgb' is not defined",
     "output_type": "error",
     "traceback": [
      "\u001b[0;31m---------------------------------------------------------------------------\u001b[0m",
      "\u001b[0;31mNameError\u001b[0m                                 Traceback (most recent call last)",
      "\u001b[0;32m<ipython-input-136-fd705f73bf8b>\u001b[0m in \u001b[0;36m<module>\u001b[0;34m\u001b[0m\n\u001b[1;32m      1\u001b[0m \u001b[0;31m#instantiate model\u001b[0m\u001b[0;34m\u001b[0m\u001b[0;34m\u001b[0m\u001b[0;34m\u001b[0m\u001b[0m\n\u001b[0;32m----> 2\u001b[0;31m \u001b[0mdata_dmatrix\u001b[0m \u001b[0;34m=\u001b[0m \u001b[0mxgb\u001b[0m\u001b[0;34m.\u001b[0m\u001b[0mDMatrix\u001b[0m\u001b[0;34m(\u001b[0m\u001b[0mdata\u001b[0m\u001b[0;34m=\u001b[0m\u001b[0mX_train\u001b[0m\u001b[0;34m,\u001b[0m\u001b[0mlabel\u001b[0m\u001b[0;34m=\u001b[0m\u001b[0mY_train\u001b[0m\u001b[0;34m)\u001b[0m\u001b[0;34m\u001b[0m\u001b[0;34m\u001b[0m\u001b[0m\n\u001b[0m\u001b[1;32m      3\u001b[0m \u001b[0mxg_boost\u001b[0m \u001b[0;34m=\u001b[0m \u001b[0mxgb\u001b[0m\u001b[0;34m.\u001b[0m\u001b[0mXGBClassifier\u001b[0m\u001b[0;34m(\u001b[0m\u001b[0;34m)\u001b[0m\u001b[0;34m\u001b[0m\u001b[0;34m\u001b[0m\u001b[0m\n\u001b[1;32m      4\u001b[0m \u001b[0;31m#fit the data\u001b[0m\u001b[0;34m\u001b[0m\u001b[0;34m\u001b[0m\u001b[0;34m\u001b[0m\u001b[0m\n\u001b[1;32m      5\u001b[0m \u001b[0mxg_boost\u001b[0m\u001b[0;34m.\u001b[0m\u001b[0mfit\u001b[0m\u001b[0;34m(\u001b[0m\u001b[0mX_train\u001b[0m\u001b[0;34m,\u001b[0m\u001b[0mY_train\u001b[0m\u001b[0;34m)\u001b[0m\u001b[0;34m\u001b[0m\u001b[0;34m\u001b[0m\u001b[0m\n",
      "\u001b[0;31mNameError\u001b[0m: name 'xgb' is not defined"
     ]
    }
   ],
   "source": [
    "#instantiate model\n",
    "data_dmatrix = xgb.DMatrix(data=X_train,label=Y_train)\n",
    "xg_boost = xgb.XGBClassifier()\n",
    "#fit the data\n",
    "xg_boost.fit(X_train,Y_train)\n",
    "#print accuracy\n",
    "print_accuracy(xg_boost)"
   ]
  },
  {
   "cell_type": "code",
   "execution_count": null,
   "id": "150dbc3d",
   "metadata": {},
   "outputs": [],
   "source": [
    "#instantiate model\n",
    "data_dmatrix = xgb.DMatrix(data=X_train,label=Y_train)\n",
    "xg_boost = xgb.XGBClassifier()\n",
    "#fit the data\n",
    "xg_boost.fit(X_train,Y_train)\n",
    "#print accuracy\n",
    "print_accuracy(xg_boost)"
   ]
  },
  {
   "cell_type": "code",
   "execution_count": null,
   "id": "5419accc",
   "metadata": {},
   "outputs": [],
   "source": [
    "#calculating loss\n",
    "calculate_loss(xg_boost)"
   ]
  },
  {
   "cell_type": "code",
   "execution_count": null,
   "id": "c6a018b8",
   "metadata": {},
   "outputs": [],
   "source": [
    "#plotting feature importance\n",
    "\n",
    "fig, ax = plt.subplots(figsize=(10,8))\n",
    "plot_feature_importance(xg_boost.feature_importances_)"
   ]
  },
  {
   "cell_type": "markdown",
   "id": "61a4ae3a",
   "metadata": {},
   "source": [
    "The accuracy of this model is similar to the previous models, but it now shows that experiment group is driving \n",
    "the model along with browser type and hour of response"
   ]
  },
  {
   "cell_type": "code",
   "execution_count": null,
   "id": "46a4d078",
   "metadata": {},
   "outputs": [],
   "source": [
    "#predicted values\n",
    "print_predicted(xg_boost)"
   ]
  },
  {
   "cell_type": "code",
   "execution_count": null,
   "id": "6c1430c7",
   "metadata": {},
   "outputs": [],
   "source": [
    "#confusion matrix\n",
    "confusion_matrix(xg_boost)"
   ]
  },
  {
   "cell_type": "code",
   "execution_count": null,
   "id": "1457d468",
   "metadata": {},
   "outputs": [],
   "source": []
  },
  {
   "cell_type": "code",
   "execution_count": null,
   "id": "525bc9f6",
   "metadata": {},
   "outputs": [],
   "source": []
  },
  {
   "cell_type": "code",
   "execution_count": null,
   "id": "7d328742",
   "metadata": {},
   "outputs": [],
   "source": []
  }
 ],
 "metadata": {
  "interpreter": {
   "hash": "aee8b7b246df8f9039afb4144a1f6fd8d2ca17a180786b69acc140d282b71a49"
  },
  "kernelspec": {
   "display_name": "Python 3",
   "language": "python",
   "name": "python3"
  },
  "language_info": {
   "codemirror_mode": {
    "name": "ipython",
    "version": 3
   },
   "file_extension": ".py",
   "mimetype": "text/x-python",
   "name": "python",
   "nbconvert_exporter": "python",
   "pygments_lexer": "ipython3",
   "version": "3.8.8"
  }
 },
 "nbformat": 4,
 "nbformat_minor": 5
}
